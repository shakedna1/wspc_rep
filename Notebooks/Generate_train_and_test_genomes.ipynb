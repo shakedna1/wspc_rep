{
 "cells": [
  {
   "cell_type": "code",
   "execution_count": 1,
   "metadata": {},
   "outputs": [],
   "source": [
    "import sys  \n",
    "sys.path.insert(0, 'Code')\n",
    "\n",
    "import numpy as np\n",
    "import json\n",
    "import pandas as pd\n",
    "import random\n",
    "from collections import Counter\n",
    "from pathlib import Path\n",
    "\n",
    "import util\n",
    "import taxa\n",
    "import warnings\n",
    "warnings.filterwarnings('ignore')\n",
    "\n",
    "from ete3 import NCBITaxa\n",
    "ncbi = NCBITaxa()"
   ]
  },
  {
   "cell_type": "code",
   "execution_count": 2,
   "metadata": {},
   "outputs": [],
   "source": [
    "pd.set_option('display.max_colwidth', None)\n",
    "pd.set_option('display.max_rows', None)\n",
    "\n",
    "input_path = Path('..\\Data\\PATRIC_labeled_genomes')"
   ]
  },
  {
   "cell_type": "code",
   "execution_count": 3,
   "metadata": {},
   "outputs": [],
   "source": [
    "## Consts\n",
    "\n",
    "UNCLASSIFIED = 'unclassified'\n",
    "LABEL = 'Label'\n",
    "GENOME_ID = 'Genome ID'\n",
    "GENOME_NAME = 'Genome Name'\n",
    "SPECIES = 'species'\n",
    "HP = 'HP'\n",
    "NHP = 'NHP'\n",
    "RATIO = 'Ratio'\n",
    "MAJORITY_LABEL = 'Majority Label'\n"
   ]
  },
  {
   "cell_type": "code",
   "execution_count": 4,
   "metadata": {},
   "outputs": [],
   "source": [
    "def get_genome_to_species(selected_genomes):\n",
    "\n",
    "    species_to_count = Counter()\n",
    "    genome_to_species = {}\n",
    "    \n",
    "    for genome in selected_genomes:\n",
    "        species = taxa.get_first_tax_desc(genome, SPECIES)\n",
    "        \n",
    "        species_to_count[species] += 1\n",
    "        genome_to_species[genome] = species\n",
    "\n",
    "    return species_to_count, genome_to_species\n"
   ]
  },
  {
   "cell_type": "code",
   "execution_count": 5,
   "metadata": {},
   "outputs": [],
   "source": [
    "def choose_species_representative(genome_to_species, species, genomes):\n",
    "    \n",
    "    species_arr = [genome_id for genome_id, genome_species in genome_to_species.items() \n",
    "                   if species == genome_species and genome_id in genomes]\n",
    "    \n",
    "    sp_representative = None\n",
    "    if len(species_arr) > 0:\n",
    "        sp_representative = random.choice(species_arr)\n",
    "    \n",
    "    return sp_representative"
   ]
  },
  {
   "cell_type": "code",
   "execution_count": 6,
   "metadata": {},
   "outputs": [],
   "source": [
    "def calc_hp_nhp_species(genome_to_species, genomes_df):\n",
    "    \n",
    "    species_to_hp_nhp = {}\n",
    "    \n",
    "    for genome_id in genomes_df.index:\n",
    "        \n",
    "        species = genome_to_species[genome_id]\n",
    "        label = genomes_df.at[genome_id, LABEL]\n",
    "        \n",
    "        counter = species_to_hp_nhp.setdefault(species, Counter({HP : 0, NHP : 0}))\n",
    "        counter[label] += 1\n",
    " \n",
    "    return species_to_hp_nhp"
   ]
  },
  {
   "cell_type": "code",
   "execution_count": 7,
   "metadata": {},
   "outputs": [],
   "source": [
    "def get_genomes_by_label(genomes_df, genome_to_species, curr_species, label):\n",
    "\n",
    "    return [genome for genome, species in genome_to_species.items() \n",
    "            if genomes_df.loc[genome, LABEL] == label\n",
    "            and species == curr_species]\n",
    "\n",
    "def get_minority_ratio(curr_species_to_hp_nhp, majority_label, minority_label):\n",
    "    \n",
    "    return curr_species_to_hp_nhp[minority_label] / curr_species_to_hp_nhp[majority_label]\n",
    "\n",
    "def update_rep_df(species_representatives_df, rep_genome, species, genomes_df):\n",
    "    \n",
    "    if rep_genome: \n",
    "        species_representatives_df.loc[rep_genome, SPECIES] = species\n",
    "        species_representatives_df.loc[rep_genome, LABEL] = genomes_df.loc[rep_genome, LABEL]\n",
    "        \n",
    "def update_species_without_majority_df(species_without_majority, species, ratio, curr_species_to_hp_nhp):\n",
    "    \n",
    "    species_without_majority.loc[species, RATIO] = ratio\n",
    "    species_without_majority.loc[species, HP] = curr_species_to_hp_nhp[HP]\n",
    "    species_without_majority.loc[species, NHP] = curr_species_to_hp_nhp[NHP]"
   ]
  },
  {
   "cell_type": "code",
   "execution_count": 8,
   "metadata": {},
   "outputs": [],
   "source": [
    "def choose_species_for_train_and_test(genomes_df, genome_to_species, species_to_count, train_df, test_df):\n",
    "    \n",
    "    random.seed(10)\n",
    "    \n",
    "    species_to_hp_nhp_train_test = calc_hp_nhp_species(genome_to_species, genomes_df)\n",
    "    \n",
    "    species_without_majority = pd.DataFrame(columns=[HP, NHP, RATIO])\n",
    "    \n",
    "    species_representatives_train = pd.DataFrame(columns=[SPECIES, LABEL])\n",
    "    species_representatives_test = pd.DataFrame(columns=[SPECIES, LABEL])\n",
    "    \n",
    "    for species, count in species_to_count.items():\n",
    "        \n",
    "        genomes_to_drop = []\n",
    "        \n",
    "        if count > 1:\n",
    "            curr_species_to_hp_nhp = species_to_hp_nhp_train_test[species]\n",
    "            \n",
    "            if all(count > 0 for count in curr_species_to_hp_nhp.values()):\n",
    "            \n",
    "                majority_label = max(curr_species_to_hp_nhp, key=curr_species_to_hp_nhp.get)\n",
    "                minority_label = min(curr_species_to_hp_nhp, key=curr_species_to_hp_nhp.get)\n",
    "\n",
    "                ratio = get_minority_ratio(curr_species_to_hp_nhp, majority_label, minority_label)\n",
    "                if ratio < 0.1: #remove the minority labeled genomes\n",
    "                    genomes_to_drop += get_genomes_by_label(genomes_df, genome_to_species, species, minority_label)\n",
    "                else: #remove the entire species\n",
    "                    update_species_without_majority_df(species_without_majority, species, ratio, curr_species_to_hp_nhp)\n",
    "                    continue\n",
    "                    \n",
    "        train_genomes = train_df.loc[~train_df.index.isin(genomes_to_drop)].index\n",
    "\n",
    "        rep_genome = choose_species_representative(genome_to_species, species, train_genomes)\n",
    "        update_rep_df(species_representatives_train, rep_genome, species, genomes_df)\n",
    "\n",
    "        rep_genome =  choose_species_representative(genome_to_species, species, test_df.index)\n",
    "        update_rep_df(species_representatives_test, rep_genome, species, genomes_df)\n",
    "\n",
    "    #add species without majority to test\n",
    "    for species in species_without_majority.index:\n",
    "        rep_genome = choose_species_representative(genome_to_species, species, test_df.index)\n",
    "        update_rep_df(species_representatives_test, rep_genome, species, genomes_df)\n",
    "\n",
    "    return species_representatives_train, species_representatives_test, species_without_majority"
   ]
  },
  {
   "cell_type": "code",
   "execution_count": 9,
   "metadata": {},
   "outputs": [],
   "source": [
    "def get_unclassified_species_to_genomes(genomes_df):\n",
    "    \n",
    "    unclassified_species_to_genomes = {}\n",
    "\n",
    "    for genome in genomes_df.index:\n",
    "\n",
    "        tax_name = taxa.get_unclassified_species(genome)    \n",
    "        if tax_name:\n",
    "            unclassified_species_to_genomes.setdefault(tax_name, []).append(genome)\n",
    "            \n",
    "    return unclassified_species_to_genomes"
   ]
  },
  {
   "cell_type": "code",
   "execution_count": 10,
   "metadata": {},
   "outputs": [],
   "source": [
    "def choose_genomes_unclassified_species(species_to_genomes):\n",
    "    \n",
    "    random.seed(10)\n",
    "    \n",
    "    species_representatives = pd.DataFrame(columns=[SPECIES])\n",
    "    \n",
    "    for species, genomes in species_to_genomes.items():\n",
    "                    \n",
    "        genome_id = random.choice(genomes)\n",
    "        species_representatives.loc[genome_id, SPECIES] = species\n",
    "\n",
    "    return species_representatives"
   ]
  },
  {
   "cell_type": "code",
   "execution_count": 11,
   "metadata": {},
   "outputs": [],
   "source": [
    "def remove_duplicates(main_df, test_genomes_df, train_genomes_df):\n",
    "    \n",
    "    dup_ids = main_df[main_df.duplicated(subset=['Genome Name'])].index\n",
    "    \n",
    "    main_df.drop(dup_ids, axis='index', inplace=True)\n",
    "    \n",
    "    dups_in_train = sum(dup_ids.isin(train_genomes_df.index))\n",
    "    dups_in_test = sum(dup_ids.isin(test_genomes_df.index))\n",
    "    \n",
    "    test_genomes_df.drop(dup_ids, axis='index', inplace=True, errors='ignore')\n",
    "    train_genomes_df.drop(dup_ids, axis='index', inplace=True, errors='ignore')\n",
    "    \n",
    "    print(f'Removed {dups_in_train} duplicates from train, Removed {dups_in_test} duplicates from test')\n"
   ]
  },
  {
   "cell_type": "markdown",
   "metadata": {},
   "source": [
    "## Load data and remove duplicates"
   ]
  },
  {
   "cell_type": "code",
   "execution_count": 12,
   "metadata": {},
   "outputs": [
    {
     "name": "stdout",
     "output_type": "stream",
     "text": [
      "Removed 0 duplicates from train, Removed 16 duplicates from test\n",
      "35860 train genomes, 3660 test genomes, 39520 total genomes\n"
     ]
    }
   ],
   "source": [
    "train_path = input_path / 'labeled_train.csv'\n",
    "train_genomes_df  = pd.read_csv(train_path, dtype=str).set_index(GENOME_ID)\n",
    "\n",
    "test_path = input_path / 'labeled_test.csv'\n",
    "test_genomes_df  = pd.read_csv(test_path, dtype=str).set_index(GENOME_ID)\n",
    "\n",
    "main_df = pd.concat([train_genomes_df, test_genomes_df], ignore_index=False)\n",
    "\n",
    "remove_duplicates(main_df, test_genomes_df, train_genomes_df)\n",
    "\n",
    "assert len(train_genomes_df) + len(test_genomes_df) == len(main_df)\n",
    "\n",
    "print(f'{len(train_genomes_df)} train genomes, {len(test_genomes_df)} test genomes, {len(main_df)} total genomes')"
   ]
  },
  {
   "cell_type": "code",
   "execution_count": 20,
   "metadata": {},
   "outputs": [
    {
     "data": {
      "text/plain": [
       "HP     32908\n",
       "NHP     2952\n",
       "Name: Label, dtype: int64"
      ]
     },
     "execution_count": 20,
     "metadata": {},
     "output_type": "execute_result"
    }
   ],
   "source": [
    "train_genomes_df.Label.value_counts()"
   ]
  },
  {
   "cell_type": "code",
   "execution_count": 21,
   "metadata": {},
   "outputs": [
    {
     "data": {
      "text/plain": [
       "HP     2941\n",
       "NHP     719\n",
       "Name: Label, dtype: int64"
      ]
     },
     "execution_count": 21,
     "metadata": {},
     "output_type": "execute_result"
    }
   ],
   "source": [
    "test_genomes_df.Label.value_counts()"
   ]
  },
  {
   "cell_type": "code",
   "execution_count": 22,
   "metadata": {},
   "outputs": [
    {
     "data": {
      "text/plain": [
       "Genome ID\n",
       "28450.1894   2019-10-02 19:02:02.913000+00:00\n",
       "158836.408   2019-10-02 13:36:38.670000+00:00\n",
       "881260.35    2019-10-02 13:36:35.344000+00:00\n",
       "158836.407   2019-10-02 13:36:27.278000+00:00\n",
       "158836.406   2019-10-02 13:35:41.856000+00:00\n",
       "881260.34    2019-10-02 13:35:17.975000+00:00\n",
       "1639.6892    2019-10-02 13:35:16.011000+00:00\n",
       "1639.6890    2019-10-02 13:35:14.080000+00:00\n",
       "1639.6891    2019-10-02 13:35:11.994000+00:00\n",
       "1639.6889    2019-10-02 13:35:09.973000+00:00\n",
       "Name: Date Inserted, dtype: datetime64[ns, UTC]"
      ]
     },
     "execution_count": 22,
     "metadata": {},
     "output_type": "execute_result"
    }
   ],
   "source": [
    "train_genomes_df['Date Inserted'] = pd.to_datetime(train_genomes_df['Date Inserted'])\n",
    "train_genomes_df['Date Inserted'][:10]"
   ]
  },
  {
   "cell_type": "code",
   "execution_count": 23,
   "metadata": {},
   "outputs": [
    {
     "data": {
      "text/plain": [
       "Timestamp('2014-12-08 22:09:24.393000+0000', tz='UTC')"
      ]
     },
     "execution_count": 23,
     "metadata": {},
     "output_type": "execute_result"
    }
   ],
   "source": [
    "min(train_genomes_df['Date Inserted'])"
   ]
  },
  {
   "cell_type": "code",
   "execution_count": 24,
   "metadata": {},
   "outputs": [
    {
     "data": {
      "text/plain": [
       "Timestamp('2019-10-02 19:02:02.913000+0000', tz='UTC')"
      ]
     },
     "execution_count": 24,
     "metadata": {},
     "output_type": "execute_result"
    }
   ],
   "source": [
    "max(train_genomes_df['Date Inserted'])"
   ]
  },
  {
   "cell_type": "markdown",
   "metadata": {},
   "source": [
    "### Check that all train genomes were inserted before 2019-11-01"
   ]
  },
  {
   "cell_type": "code",
   "execution_count": 25,
   "metadata": {},
   "outputs": [],
   "source": [
    "assert all(train_genomes_df['Date Inserted'] < pd.Timestamp('2019-11-01', tz='US/Pacific'))"
   ]
  },
  {
   "cell_type": "code",
   "execution_count": 26,
   "metadata": {},
   "outputs": [
    {
     "data": {
      "text/plain": [
       "Genome ID\n",
       "1313.19274   2019-11-20 17:59:11.446000+00:00\n",
       "1313.19086   2019-11-20 16:03:51.188000+00:00\n",
       "1313.19043   2019-11-20 15:34:09.843000+00:00\n",
       "1313.19022   2019-11-20 15:20:14.361000+00:00\n",
       "1313.18914   2019-11-20 12:48:23.499000+00:00\n",
       "1313.18874   2019-11-20 11:43:16.391000+00:00\n",
       "1313.18749   2019-11-20 09:15:26.687000+00:00\n",
       "1313.18642   2019-11-20 06:42:28.108000+00:00\n",
       "1313.18633   2019-11-20 06:27:31.038000+00:00\n",
       "1313.18492   2019-11-20 04:02:51.300000+00:00\n",
       "Name: Date Inserted, dtype: datetime64[ns, UTC]"
      ]
     },
     "execution_count": 26,
     "metadata": {},
     "output_type": "execute_result"
    }
   ],
   "source": [
    "test_genomes_df['Date Inserted'] = pd.to_datetime(test_genomes_df['Date Inserted'])\n",
    "test_genomes_df['Date Inserted'][-10:]"
   ]
  },
  {
   "cell_type": "markdown",
   "metadata": {},
   "source": [
    "### Check that all test genomes were inserted after 2019-11-01"
   ]
  },
  {
   "cell_type": "code",
   "execution_count": 35,
   "metadata": {
    "scrolled": false
   },
   "outputs": [
    {
     "data": {
      "text/plain": [
       "Timestamp('2019-11-20 04:02:51.300000+0000', tz='UTC')"
      ]
     },
     "execution_count": 35,
     "metadata": {},
     "output_type": "execute_result"
    }
   ],
   "source": [
    "min(test_genomes_df['Date Inserted'])"
   ]
  },
  {
   "cell_type": "code",
   "execution_count": 36,
   "metadata": {},
   "outputs": [
    {
     "data": {
      "text/plain": [
       "Timestamp('2020-07-02 08:24:47.271000+0000', tz='UTC')"
      ]
     },
     "execution_count": 36,
     "metadata": {},
     "output_type": "execute_result"
    }
   ],
   "source": [
    "max(test_genomes_df['Date Inserted'])"
   ]
  },
  {
   "cell_type": "code",
   "execution_count": 37,
   "metadata": {},
   "outputs": [],
   "source": [
    "assert all(test_genomes_df['Date Inserted'] > pd.Timestamp('2019-11-01', tz='US/Pacific'))"
   ]
  },
  {
   "cell_type": "code",
   "execution_count": 38,
   "metadata": {},
   "outputs": [],
   "source": [
    "selected_genomes = list(train_genomes_df.index) + list(test_genomes_df.index)\n",
    "\n",
    "species_to_count, genome_to_species = get_genome_to_species(selected_genomes)\n",
    "\n",
    "assert len(genome_to_species) == len(main_df)"
   ]
  },
  {
   "cell_type": "markdown",
   "metadata": {},
   "source": [
    "# Select Representatives"
   ]
  },
  {
   "cell_type": "code",
   "execution_count": 39,
   "metadata": {},
   "outputs": [],
   "source": [
    "species_representatives_train, species_representatives_test, species_without_majority = choose_species_for_train_and_test(main_df, genome_to_species, species_to_count, train_genomes_df, test_genomes_df)"
   ]
  },
  {
   "cell_type": "code",
   "execution_count": 40,
   "metadata": {},
   "outputs": [
    {
     "data": {
      "text/html": [
       "<div>\n",
       "<style scoped>\n",
       "    .dataframe tbody tr th:only-of-type {\n",
       "        vertical-align: middle;\n",
       "    }\n",
       "\n",
       "    .dataframe tbody tr th {\n",
       "        vertical-align: top;\n",
       "    }\n",
       "\n",
       "    .dataframe thead th {\n",
       "        text-align: right;\n",
       "    }\n",
       "</style>\n",
       "<table border=\"1\" class=\"dataframe\">\n",
       "  <thead>\n",
       "    <tr style=\"text-align: right;\">\n",
       "      <th></th>\n",
       "      <th>species</th>\n",
       "      <th>Label</th>\n",
       "    </tr>\n",
       "  </thead>\n",
       "  <tbody>\n",
       "    <tr>\n",
       "      <th>360118.7</th>\n",
       "      <td>Burkholderia pseudomallei</td>\n",
       "      <td>HP</td>\n",
       "    </tr>\n",
       "    <tr>\n",
       "      <th>158836.88</th>\n",
       "      <td>Enterobacter hormaechei</td>\n",
       "      <td>HP</td>\n",
       "    </tr>\n",
       "    <tr>\n",
       "      <th>881260.26</th>\n",
       "      <td>Enterobacter bugandensis</td>\n",
       "      <td>HP</td>\n",
       "    </tr>\n",
       "    <tr>\n",
       "      <th>1639.6889</th>\n",
       "      <td>Listeria monocytogenes</td>\n",
       "      <td>HP</td>\n",
       "    </tr>\n",
       "    <tr>\n",
       "      <th>1571816.3</th>\n",
       "      <td>Enterobacter roggenkampii</td>\n",
       "      <td>HP</td>\n",
       "    </tr>\n",
       "  </tbody>\n",
       "</table>\n",
       "</div>"
      ],
      "text/plain": [
       "                             species Label\n",
       "360118.7   Burkholderia pseudomallei    HP\n",
       "158836.88    Enterobacter hormaechei    HP\n",
       "881260.26   Enterobacter bugandensis    HP\n",
       "1639.6889     Listeria monocytogenes    HP\n",
       "1571816.3  Enterobacter roggenkampii    HP"
      ]
     },
     "execution_count": 40,
     "metadata": {},
     "output_type": "execute_result"
    }
   ],
   "source": [
    "species_representatives_train.head()"
   ]
  },
  {
   "cell_type": "code",
   "execution_count": 41,
   "metadata": {},
   "outputs": [
    {
     "data": {
      "text/plain": [
       "(1501, 277)"
      ]
     },
     "execution_count": 41,
     "metadata": {},
     "output_type": "execute_result"
    }
   ],
   "source": [
    "len(species_representatives_train), len(species_representatives_test)"
   ]
  },
  {
   "cell_type": "code",
   "execution_count": 42,
   "metadata": {},
   "outputs": [
    {
     "data": {
      "text/html": [
       "<div>\n",
       "<style scoped>\n",
       "    .dataframe tbody tr th:only-of-type {\n",
       "        vertical-align: middle;\n",
       "    }\n",
       "\n",
       "    .dataframe tbody tr th {\n",
       "        vertical-align: top;\n",
       "    }\n",
       "\n",
       "    .dataframe thead th {\n",
       "        text-align: right;\n",
       "    }\n",
       "</style>\n",
       "<table border=\"1\" class=\"dataframe\">\n",
       "  <thead>\n",
       "    <tr style=\"text-align: right;\">\n",
       "      <th></th>\n",
       "      <th>species</th>\n",
       "      <th>Label</th>\n",
       "    </tr>\n",
       "  </thead>\n",
       "  <tbody>\n",
       "    <tr>\n",
       "      <th>28450.2018</th>\n",
       "      <td>Burkholderia pseudomallei</td>\n",
       "      <td>HP</td>\n",
       "    </tr>\n",
       "    <tr>\n",
       "      <th>158836.472</th>\n",
       "      <td>Enterobacter hormaechei</td>\n",
       "      <td>NHP</td>\n",
       "    </tr>\n",
       "    <tr>\n",
       "      <th>1639.7756</th>\n",
       "      <td>Listeria monocytogenes</td>\n",
       "      <td>HP</td>\n",
       "    </tr>\n",
       "    <tr>\n",
       "      <th>1812935.59</th>\n",
       "      <td>Enterobacter roggenkampii</td>\n",
       "      <td>HP</td>\n",
       "    </tr>\n",
       "    <tr>\n",
       "      <th>299767.100</th>\n",
       "      <td>Enterobacter ludwigii</td>\n",
       "      <td>HP</td>\n",
       "    </tr>\n",
       "  </tbody>\n",
       "</table>\n",
       "</div>"
      ],
      "text/plain": [
       "                              species Label\n",
       "28450.2018  Burkholderia pseudomallei    HP\n",
       "158836.472    Enterobacter hormaechei   NHP\n",
       "1639.7756      Listeria monocytogenes    HP\n",
       "1812935.59  Enterobacter roggenkampii    HP\n",
       "299767.100      Enterobacter ludwigii    HP"
      ]
     },
     "execution_count": 42,
     "metadata": {},
     "output_type": "execute_result"
    }
   ],
   "source": [
    "species_representatives_test.head()"
   ]
  },
  {
   "cell_type": "markdown",
   "metadata": {},
   "source": [
    "### species that were removed from train because they don't have a majority label"
   ]
  },
  {
   "cell_type": "code",
   "execution_count": 43,
   "metadata": {},
   "outputs": [
    {
     "data": {
      "text/plain": [
       "39"
      ]
     },
     "execution_count": 43,
     "metadata": {},
     "output_type": "execute_result"
    }
   ],
   "source": [
    "len(species_without_majority)"
   ]
  },
  {
   "cell_type": "code",
   "execution_count": 44,
   "metadata": {},
   "outputs": [
    {
     "data": {
      "text/html": [
       "<div>\n",
       "<style scoped>\n",
       "    .dataframe tbody tr th:only-of-type {\n",
       "        vertical-align: middle;\n",
       "    }\n",
       "\n",
       "    .dataframe tbody tr th {\n",
       "        vertical-align: top;\n",
       "    }\n",
       "\n",
       "    .dataframe thead th {\n",
       "        text-align: right;\n",
       "    }\n",
       "</style>\n",
       "<table border=\"1\" class=\"dataframe\">\n",
       "  <thead>\n",
       "    <tr style=\"text-align: right;\">\n",
       "      <th></th>\n",
       "      <th>HP</th>\n",
       "      <th>NHP</th>\n",
       "      <th>Ratio</th>\n",
       "    </tr>\n",
       "  </thead>\n",
       "  <tbody>\n",
       "    <tr>\n",
       "      <th>Bacteroides dorei</th>\n",
       "      <td>8</td>\n",
       "      <td>37</td>\n",
       "      <td>0.216216</td>\n",
       "    </tr>\n",
       "    <tr>\n",
       "      <th>Bacillus cereus</th>\n",
       "      <td>16</td>\n",
       "      <td>7</td>\n",
       "      <td>0.4375</td>\n",
       "    </tr>\n",
       "    <tr>\n",
       "      <th>Neisseria meningitidis</th>\n",
       "      <td>278</td>\n",
       "      <td>43</td>\n",
       "      <td>0.154676</td>\n",
       "    </tr>\n",
       "    <tr>\n",
       "      <th>Leptotrichia wadei</th>\n",
       "      <td>2</td>\n",
       "      <td>1</td>\n",
       "      <td>0.5</td>\n",
       "    </tr>\n",
       "    <tr>\n",
       "      <th>Bacteroides fragilis</th>\n",
       "      <td>61</td>\n",
       "      <td>45</td>\n",
       "      <td>0.737705</td>\n",
       "    </tr>\n",
       "    <tr>\n",
       "      <th>Enterococcus avium</th>\n",
       "      <td>4</td>\n",
       "      <td>5</td>\n",
       "      <td>0.8</td>\n",
       "    </tr>\n",
       "    <tr>\n",
       "      <th>Staphylococcus pseudintermedius</th>\n",
       "      <td>2</td>\n",
       "      <td>1</td>\n",
       "      <td>0.5</td>\n",
       "    </tr>\n",
       "    <tr>\n",
       "      <th>Lactobacillus rhamnosus</th>\n",
       "      <td>2</td>\n",
       "      <td>20</td>\n",
       "      <td>0.1</td>\n",
       "    </tr>\n",
       "    <tr>\n",
       "      <th>Clostridiales genomosp. BVAB1</th>\n",
       "      <td>6</td>\n",
       "      <td>1</td>\n",
       "      <td>0.166667</td>\n",
       "    </tr>\n",
       "    <tr>\n",
       "      <th>Bacteroides massiliensis</th>\n",
       "      <td>1</td>\n",
       "      <td>1</td>\n",
       "      <td>1.0</td>\n",
       "    </tr>\n",
       "    <tr>\n",
       "      <th>Pluralibacter gergoviae</th>\n",
       "      <td>3</td>\n",
       "      <td>1</td>\n",
       "      <td>0.333333</td>\n",
       "    </tr>\n",
       "    <tr>\n",
       "      <th>Cutibacterium avidum</th>\n",
       "      <td>9</td>\n",
       "      <td>1</td>\n",
       "      <td>0.111111</td>\n",
       "    </tr>\n",
       "    <tr>\n",
       "      <th>Erysipelatoclostridium ramosum</th>\n",
       "      <td>1</td>\n",
       "      <td>9</td>\n",
       "      <td>0.111111</td>\n",
       "    </tr>\n",
       "    <tr>\n",
       "      <th>Paeniclostridium sordellii</th>\n",
       "      <td>4</td>\n",
       "      <td>2</td>\n",
       "      <td>0.5</td>\n",
       "    </tr>\n",
       "    <tr>\n",
       "      <th>Enterococcus faecalis</th>\n",
       "      <td>98</td>\n",
       "      <td>13</td>\n",
       "      <td>0.132653</td>\n",
       "    </tr>\n",
       "    <tr>\n",
       "      <th>Streptococcus parasanguinis</th>\n",
       "      <td>3</td>\n",
       "      <td>25</td>\n",
       "      <td>0.12</td>\n",
       "    </tr>\n",
       "    <tr>\n",
       "      <th>Staphylococcus warneri</th>\n",
       "      <td>3</td>\n",
       "      <td>1</td>\n",
       "      <td>0.333333</td>\n",
       "    </tr>\n",
       "    <tr>\n",
       "      <th>Staphylococcus epidermidis</th>\n",
       "      <td>85</td>\n",
       "      <td>69</td>\n",
       "      <td>0.811765</td>\n",
       "    </tr>\n",
       "    <tr>\n",
       "      <th>Bacteroides thetaiotaomicron</th>\n",
       "      <td>2</td>\n",
       "      <td>15</td>\n",
       "      <td>0.133333</td>\n",
       "    </tr>\n",
       "    <tr>\n",
       "      <th>Citrobacter koseri</th>\n",
       "      <td>7</td>\n",
       "      <td>1</td>\n",
       "      <td>0.142857</td>\n",
       "    </tr>\n",
       "    <tr>\n",
       "      <th>Streptococcus anginosus</th>\n",
       "      <td>12</td>\n",
       "      <td>5</td>\n",
       "      <td>0.416667</td>\n",
       "    </tr>\n",
       "    <tr>\n",
       "      <th>Aeromonas veronii</th>\n",
       "      <td>2</td>\n",
       "      <td>1</td>\n",
       "      <td>0.5</td>\n",
       "    </tr>\n",
       "    <tr>\n",
       "      <th>Lactobacillus vaginalis</th>\n",
       "      <td>1</td>\n",
       "      <td>1</td>\n",
       "      <td>1.0</td>\n",
       "    </tr>\n",
       "    <tr>\n",
       "      <th>Veillonella atypica</th>\n",
       "      <td>1</td>\n",
       "      <td>1</td>\n",
       "      <td>1.0</td>\n",
       "    </tr>\n",
       "    <tr>\n",
       "      <th>Veillonella parvula</th>\n",
       "      <td>1</td>\n",
       "      <td>4</td>\n",
       "      <td>0.25</td>\n",
       "    </tr>\n",
       "    <tr>\n",
       "      <th>Brevibacterium casei</th>\n",
       "      <td>1</td>\n",
       "      <td>1</td>\n",
       "      <td>1.0</td>\n",
       "    </tr>\n",
       "    <tr>\n",
       "      <th>Acinetobacter ursingii</th>\n",
       "      <td>3</td>\n",
       "      <td>1</td>\n",
       "      <td>0.333333</td>\n",
       "    </tr>\n",
       "    <tr>\n",
       "      <th>Citrobacter portucalensis</th>\n",
       "      <td>1</td>\n",
       "      <td>1</td>\n",
       "      <td>1.0</td>\n",
       "    </tr>\n",
       "    <tr>\n",
       "      <th>Ruminococcus bromii</th>\n",
       "      <td>3</td>\n",
       "      <td>12</td>\n",
       "      <td>0.25</td>\n",
       "    </tr>\n",
       "    <tr>\n",
       "      <th>Streptococcus mutans</th>\n",
       "      <td>4</td>\n",
       "      <td>1</td>\n",
       "      <td>0.25</td>\n",
       "    </tr>\n",
       "    <tr>\n",
       "      <th>Streptococcus vestibularis</th>\n",
       "      <td>1</td>\n",
       "      <td>1</td>\n",
       "      <td>1.0</td>\n",
       "    </tr>\n",
       "    <tr>\n",
       "      <th>Streptococcus gallolyticus</th>\n",
       "      <td>4</td>\n",
       "      <td>2</td>\n",
       "      <td>0.5</td>\n",
       "    </tr>\n",
       "    <tr>\n",
       "      <th>Enterococcus gallinarum</th>\n",
       "      <td>2</td>\n",
       "      <td>1</td>\n",
       "      <td>0.5</td>\n",
       "    </tr>\n",
       "    <tr>\n",
       "      <th>Streptococcus pasteurianus</th>\n",
       "      <td>1</td>\n",
       "      <td>2</td>\n",
       "      <td>0.5</td>\n",
       "    </tr>\n",
       "    <tr>\n",
       "      <th>Gardnerella vaginalis</th>\n",
       "      <td>6</td>\n",
       "      <td>8</td>\n",
       "      <td>0.75</td>\n",
       "    </tr>\n",
       "    <tr>\n",
       "      <th>Aeromonas hydrophila</th>\n",
       "      <td>7</td>\n",
       "      <td>1</td>\n",
       "      <td>0.142857</td>\n",
       "    </tr>\n",
       "    <tr>\n",
       "      <th>Enterobacter cloacae complex sp.</th>\n",
       "      <td>3</td>\n",
       "      <td>1</td>\n",
       "      <td>0.333333</td>\n",
       "    </tr>\n",
       "    <tr>\n",
       "      <th>Finegoldia magna</th>\n",
       "      <td>10</td>\n",
       "      <td>2</td>\n",
       "      <td>0.2</td>\n",
       "    </tr>\n",
       "    <tr>\n",
       "      <th>Bacillus paranthracis</th>\n",
       "      <td>1</td>\n",
       "      <td>1</td>\n",
       "      <td>1.0</td>\n",
       "    </tr>\n",
       "  </tbody>\n",
       "</table>\n",
       "</div>"
      ],
      "text/plain": [
       "                                   HP NHP     Ratio\n",
       "Bacteroides dorei                   8  37  0.216216\n",
       "Bacillus cereus                    16   7    0.4375\n",
       "Neisseria meningitidis            278  43  0.154676\n",
       "Leptotrichia wadei                  2   1       0.5\n",
       "Bacteroides fragilis               61  45  0.737705\n",
       "Enterococcus avium                  4   5       0.8\n",
       "Staphylococcus pseudintermedius     2   1       0.5\n",
       "Lactobacillus rhamnosus             2  20       0.1\n",
       "Clostridiales genomosp. BVAB1       6   1  0.166667\n",
       "Bacteroides massiliensis            1   1       1.0\n",
       "Pluralibacter gergoviae             3   1  0.333333\n",
       "Cutibacterium avidum                9   1  0.111111\n",
       "Erysipelatoclostridium ramosum      1   9  0.111111\n",
       "Paeniclostridium sordellii          4   2       0.5\n",
       "Enterococcus faecalis              98  13  0.132653\n",
       "Streptococcus parasanguinis         3  25      0.12\n",
       "Staphylococcus warneri              3   1  0.333333\n",
       "Staphylococcus epidermidis         85  69  0.811765\n",
       "Bacteroides thetaiotaomicron        2  15  0.133333\n",
       "Citrobacter koseri                  7   1  0.142857\n",
       "Streptococcus anginosus            12   5  0.416667\n",
       "Aeromonas veronii                   2   1       0.5\n",
       "Lactobacillus vaginalis             1   1       1.0\n",
       "Veillonella atypica                 1   1       1.0\n",
       "Veillonella parvula                 1   4      0.25\n",
       "Brevibacterium casei                1   1       1.0\n",
       "Acinetobacter ursingii              3   1  0.333333\n",
       "Citrobacter portucalensis           1   1       1.0\n",
       "Ruminococcus bromii                 3  12      0.25\n",
       "Streptococcus mutans                4   1      0.25\n",
       "Streptococcus vestibularis          1   1       1.0\n",
       "Streptococcus gallolyticus          4   2       0.5\n",
       "Enterococcus gallinarum             2   1       0.5\n",
       "Streptococcus pasteurianus          1   2       0.5\n",
       "Gardnerella vaginalis               6   8      0.75\n",
       "Aeromonas hydrophila                7   1  0.142857\n",
       "Enterobacter cloacae complex sp.    3   1  0.333333\n",
       "Finegoldia magna                   10   2       0.2\n",
       "Bacillus paranthracis               1   1       1.0"
      ]
     },
     "execution_count": 44,
     "metadata": {},
     "output_type": "execute_result"
    }
   ],
   "source": [
    "species_without_majority"
   ]
  },
  {
   "cell_type": "code",
   "execution_count": 45,
   "metadata": {},
   "outputs": [],
   "source": [
    "assert all(species_without_majority[RATIO] >= 0.1)\n",
    "assert not any(species_without_majority.index.isin(species_representatives_train[SPECIES]))"
   ]
  },
  {
   "cell_type": "markdown",
   "metadata": {},
   "source": [
    "species without majority in the original train, before selecting representatives"
   ]
  },
  {
   "cell_type": "code",
   "execution_count": 46,
   "metadata": {},
   "outputs": [
    {
     "data": {
      "text/plain": [
       "38"
      ]
     },
     "execution_count": 46,
     "metadata": {},
     "output_type": "execute_result"
    }
   ],
   "source": [
    "len(set(genome_to_species[genome] for genome in train_genomes_df.index).intersection(species_without_majority.index))"
   ]
  },
  {
   "cell_type": "markdown",
   "metadata": {},
   "source": [
    "make sure they were removed from train"
   ]
  },
  {
   "cell_type": "code",
   "execution_count": 47,
   "metadata": {},
   "outputs": [
    {
     "data": {
      "text/plain": [
       "38"
      ]
     },
     "execution_count": 47,
     "metadata": {},
     "output_type": "execute_result"
    }
   ],
   "source": [
    "species_removed_from_train = set(genome_to_species[genome] \n",
    "                                 for genome in train_genomes_df.index).difference(species_representatives_train[SPECIES])\n",
    "\n",
    "len(species_removed_from_train)"
   ]
  },
  {
   "cell_type": "markdown",
   "metadata": {},
   "source": [
    "make sure no species were removed from test"
   ]
  },
  {
   "cell_type": "code",
   "execution_count": 48,
   "metadata": {},
   "outputs": [
    {
     "data": {
      "text/plain": [
       "0"
      ]
     },
     "execution_count": 48,
     "metadata": {},
     "output_type": "execute_result"
    }
   ],
   "source": [
    "species_removed_from_test = set(genome_to_species[genome] \n",
    "                                for genome in test_genomes_df.index).difference(species_representatives_test[SPECIES])\n",
    "\n",
    "len(species_removed_from_test)"
   ]
  },
  {
   "cell_type": "code",
   "execution_count": 49,
   "metadata": {},
   "outputs": [],
   "source": [
    "def create_ratio_df(rep_df, species_to_hp_nhp):\n",
    "    \n",
    "    ratio_df = rep_df.copy()\n",
    "    ratio_df[HP] = ratio_df[SPECIES].apply(lambda species: species_to_hp_nhp[species].get(HP, 0))\n",
    "    ratio_df[NHP] = ratio_df[SPECIES].apply(lambda species: species_to_hp_nhp[species].get(NHP, 0))\n",
    "\n",
    "    ratio_df[RATIO] = ratio_df[SPECIES].apply(lambda species: \n",
    "                                              min(species_to_hp_nhp[species].values())/\n",
    "                                              max(species_to_hp_nhp[species].values()))\n",
    "\n",
    "    ratio_df[MAJORITY_LABEL] = ratio_df[[HP,NHP]].idxmax(axis=1)\n",
    "    \n",
    "    return ratio_df"
   ]
  },
  {
   "cell_type": "code",
   "execution_count": 50,
   "metadata": {},
   "outputs": [
    {
     "data": {
      "text/html": [
       "<div>\n",
       "<style scoped>\n",
       "    .dataframe tbody tr th:only-of-type {\n",
       "        vertical-align: middle;\n",
       "    }\n",
       "\n",
       "    .dataframe tbody tr th {\n",
       "        vertical-align: top;\n",
       "    }\n",
       "\n",
       "    .dataframe thead th {\n",
       "        text-align: right;\n",
       "    }\n",
       "</style>\n",
       "<table border=\"1\" class=\"dataframe\">\n",
       "  <thead>\n",
       "    <tr style=\"text-align: right;\">\n",
       "      <th></th>\n",
       "      <th>species</th>\n",
       "      <th>Label</th>\n",
       "      <th>HP</th>\n",
       "      <th>NHP</th>\n",
       "      <th>Ratio</th>\n",
       "      <th>Majority Label</th>\n",
       "    </tr>\n",
       "  </thead>\n",
       "  <tbody>\n",
       "    <tr>\n",
       "      <th>360118.7</th>\n",
       "      <td>Burkholderia pseudomallei</td>\n",
       "      <td>HP</td>\n",
       "      <td>168</td>\n",
       "      <td>0</td>\n",
       "      <td>0.000000</td>\n",
       "      <td>HP</td>\n",
       "    </tr>\n",
       "    <tr>\n",
       "      <th>158836.88</th>\n",
       "      <td>Enterobacter hormaechei</td>\n",
       "      <td>HP</td>\n",
       "      <td>305</td>\n",
       "      <td>6</td>\n",
       "      <td>0.019672</td>\n",
       "      <td>HP</td>\n",
       "    </tr>\n",
       "    <tr>\n",
       "      <th>881260.26</th>\n",
       "      <td>Enterobacter bugandensis</td>\n",
       "      <td>HP</td>\n",
       "      <td>12</td>\n",
       "      <td>0</td>\n",
       "      <td>0.000000</td>\n",
       "      <td>HP</td>\n",
       "    </tr>\n",
       "    <tr>\n",
       "      <th>1639.6889</th>\n",
       "      <td>Listeria monocytogenes</td>\n",
       "      <td>HP</td>\n",
       "      <td>197</td>\n",
       "      <td>0</td>\n",
       "      <td>0.000000</td>\n",
       "      <td>HP</td>\n",
       "    </tr>\n",
       "    <tr>\n",
       "      <th>1571816.3</th>\n",
       "      <td>Enterobacter roggenkampii</td>\n",
       "      <td>HP</td>\n",
       "      <td>12</td>\n",
       "      <td>0</td>\n",
       "      <td>0.000000</td>\n",
       "      <td>HP</td>\n",
       "    </tr>\n",
       "    <tr>\n",
       "      <th>299767.86</th>\n",
       "      <td>Enterobacter ludwigii</td>\n",
       "      <td>HP</td>\n",
       "      <td>6</td>\n",
       "      <td>0</td>\n",
       "      <td>0.000000</td>\n",
       "      <td>HP</td>\n",
       "    </tr>\n",
       "    <tr>\n",
       "      <th>61645.126</th>\n",
       "      <td>Enterobacter asburiae</td>\n",
       "      <td>HP</td>\n",
       "      <td>20</td>\n",
       "      <td>0</td>\n",
       "      <td>0.000000</td>\n",
       "      <td>HP</td>\n",
       "    </tr>\n",
       "    <tr>\n",
       "      <th>562.21575</th>\n",
       "      <td>Escherichia coli</td>\n",
       "      <td>HP</td>\n",
       "      <td>4352</td>\n",
       "      <td>396</td>\n",
       "      <td>0.090993</td>\n",
       "      <td>HP</td>\n",
       "    </tr>\n",
       "    <tr>\n",
       "      <th>1338.60</th>\n",
       "      <td>Streptococcus intermedius</td>\n",
       "      <td>HP</td>\n",
       "      <td>13</td>\n",
       "      <td>0</td>\n",
       "      <td>0.000000</td>\n",
       "      <td>HP</td>\n",
       "    </tr>\n",
       "    <tr>\n",
       "      <th>184250.3</th>\n",
       "      <td>Streptococcus constellatus</td>\n",
       "      <td>HP</td>\n",
       "      <td>3</td>\n",
       "      <td>0</td>\n",
       "      <td>0.000000</td>\n",
       "      <td>HP</td>\n",
       "    </tr>\n",
       "    <tr>\n",
       "      <th>573.21602</th>\n",
       "      <td>Klebsiella pneumoniae</td>\n",
       "      <td>HP</td>\n",
       "      <td>3846</td>\n",
       "      <td>8</td>\n",
       "      <td>0.002080</td>\n",
       "      <td>HP</td>\n",
       "    </tr>\n",
       "    <tr>\n",
       "      <th>76859.8</th>\n",
       "      <td>Fusobacterium nucleatum</td>\n",
       "      <td>HP</td>\n",
       "      <td>9</td>\n",
       "      <td>0</td>\n",
       "      <td>0.000000</td>\n",
       "      <td>HP</td>\n",
       "    </tr>\n",
       "    <tr>\n",
       "      <th>33033.73</th>\n",
       "      <td>Parvimonas micra</td>\n",
       "      <td>HP</td>\n",
       "      <td>2</td>\n",
       "      <td>0</td>\n",
       "      <td>0.000000</td>\n",
       "      <td>HP</td>\n",
       "    </tr>\n",
       "    <tr>\n",
       "      <th>287.6393</th>\n",
       "      <td>Pseudomonas aeruginosa</td>\n",
       "      <td>HP</td>\n",
       "      <td>1955</td>\n",
       "      <td>0</td>\n",
       "      <td>0.000000</td>\n",
       "      <td>HP</td>\n",
       "    </tr>\n",
       "    <tr>\n",
       "      <th>1512.11</th>\n",
       "      <td>[Clostridium] symbiosum</td>\n",
       "      <td>NHP</td>\n",
       "      <td>0</td>\n",
       "      <td>3</td>\n",
       "      <td>0.000000</td>\n",
       "      <td>NHP</td>\n",
       "    </tr>\n",
       "  </tbody>\n",
       "</table>\n",
       "</div>"
      ],
      "text/plain": [
       "                              species Label    HP  NHP     Ratio  \\\n",
       "360118.7    Burkholderia pseudomallei    HP   168    0  0.000000   \n",
       "158836.88     Enterobacter hormaechei    HP   305    6  0.019672   \n",
       "881260.26    Enterobacter bugandensis    HP    12    0  0.000000   \n",
       "1639.6889      Listeria monocytogenes    HP   197    0  0.000000   \n",
       "1571816.3   Enterobacter roggenkampii    HP    12    0  0.000000   \n",
       "299767.86       Enterobacter ludwigii    HP     6    0  0.000000   \n",
       "61645.126       Enterobacter asburiae    HP    20    0  0.000000   \n",
       "562.21575            Escherichia coli    HP  4352  396  0.090993   \n",
       "1338.60     Streptococcus intermedius    HP    13    0  0.000000   \n",
       "184250.3   Streptococcus constellatus    HP     3    0  0.000000   \n",
       "573.21602       Klebsiella pneumoniae    HP  3846    8  0.002080   \n",
       "76859.8       Fusobacterium nucleatum    HP     9    0  0.000000   \n",
       "33033.73             Parvimonas micra    HP     2    0  0.000000   \n",
       "287.6393       Pseudomonas aeruginosa    HP  1955    0  0.000000   \n",
       "1512.11       [Clostridium] symbiosum   NHP     0    3  0.000000   \n",
       "\n",
       "          Majority Label  \n",
       "360118.7              HP  \n",
       "158836.88             HP  \n",
       "881260.26             HP  \n",
       "1639.6889             HP  \n",
       "1571816.3             HP  \n",
       "299767.86             HP  \n",
       "61645.126             HP  \n",
       "562.21575             HP  \n",
       "1338.60               HP  \n",
       "184250.3              HP  \n",
       "573.21602             HP  \n",
       "76859.8               HP  \n",
       "33033.73              HP  \n",
       "287.6393              HP  \n",
       "1512.11              NHP  "
      ]
     },
     "execution_count": 50,
     "metadata": {},
     "output_type": "execute_result"
    }
   ],
   "source": [
    "species_to_hp_nhp = calc_hp_nhp_species(genome_to_species, main_df)\n",
    "species_representatives_train_ratio = create_ratio_df(species_representatives_train, species_to_hp_nhp)\n",
    "\n",
    "species_representatives_train_ratio.head(15)"
   ]
  },
  {
   "cell_type": "code",
   "execution_count": 51,
   "metadata": {},
   "outputs": [],
   "source": [
    "assert all(species_representatives_train_ratio[RATIO] < 0.1)\n",
    "assert all(species_representatives_train_ratio.apply(lambda row: row[LABEL] == row[MAJORITY_LABEL], axis=1))"
   ]
  },
  {
   "cell_type": "code",
   "execution_count": 52,
   "metadata": {},
   "outputs": [
    {
     "data": {
      "text/html": [
       "<div>\n",
       "<style scoped>\n",
       "    .dataframe tbody tr th:only-of-type {\n",
       "        vertical-align: middle;\n",
       "    }\n",
       "\n",
       "    .dataframe tbody tr th {\n",
       "        vertical-align: top;\n",
       "    }\n",
       "\n",
       "    .dataframe thead th {\n",
       "        text-align: right;\n",
       "    }\n",
       "</style>\n",
       "<table border=\"1\" class=\"dataframe\">\n",
       "  <thead>\n",
       "    <tr style=\"text-align: right;\">\n",
       "      <th></th>\n",
       "      <th>species</th>\n",
       "      <th>Label</th>\n",
       "      <th>HP</th>\n",
       "      <th>NHP</th>\n",
       "      <th>Ratio</th>\n",
       "      <th>Majority Label</th>\n",
       "    </tr>\n",
       "  </thead>\n",
       "  <tbody>\n",
       "    <tr>\n",
       "      <th>28450.2018</th>\n",
       "      <td>Burkholderia pseudomallei</td>\n",
       "      <td>HP</td>\n",
       "      <td>168</td>\n",
       "      <td>0</td>\n",
       "      <td>0.000000</td>\n",
       "      <td>HP</td>\n",
       "    </tr>\n",
       "    <tr>\n",
       "      <th>158836.472</th>\n",
       "      <td>Enterobacter hormaechei</td>\n",
       "      <td>NHP</td>\n",
       "      <td>305</td>\n",
       "      <td>6</td>\n",
       "      <td>0.019672</td>\n",
       "      <td>HP</td>\n",
       "    </tr>\n",
       "    <tr>\n",
       "      <th>1639.7756</th>\n",
       "      <td>Listeria monocytogenes</td>\n",
       "      <td>HP</td>\n",
       "      <td>197</td>\n",
       "      <td>0</td>\n",
       "      <td>0.000000</td>\n",
       "      <td>HP</td>\n",
       "    </tr>\n",
       "    <tr>\n",
       "      <th>1812935.59</th>\n",
       "      <td>Enterobacter roggenkampii</td>\n",
       "      <td>HP</td>\n",
       "      <td>12</td>\n",
       "      <td>0</td>\n",
       "      <td>0.000000</td>\n",
       "      <td>HP</td>\n",
       "    </tr>\n",
       "    <tr>\n",
       "      <th>299767.100</th>\n",
       "      <td>Enterobacter ludwigii</td>\n",
       "      <td>HP</td>\n",
       "      <td>6</td>\n",
       "      <td>0</td>\n",
       "      <td>0.000000</td>\n",
       "      <td>HP</td>\n",
       "    </tr>\n",
       "    <tr>\n",
       "      <th>61645.317</th>\n",
       "      <td>Enterobacter asburiae</td>\n",
       "      <td>HP</td>\n",
       "      <td>20</td>\n",
       "      <td>0</td>\n",
       "      <td>0.000000</td>\n",
       "      <td>HP</td>\n",
       "    </tr>\n",
       "    <tr>\n",
       "      <th>562.55247</th>\n",
       "      <td>Escherichia coli</td>\n",
       "      <td>HP</td>\n",
       "      <td>4352</td>\n",
       "      <td>396</td>\n",
       "      <td>0.090993</td>\n",
       "      <td>HP</td>\n",
       "    </tr>\n",
       "    <tr>\n",
       "      <th>573.29103</th>\n",
       "      <td>Klebsiella pneumoniae</td>\n",
       "      <td>HP</td>\n",
       "      <td>3846</td>\n",
       "      <td>8</td>\n",
       "      <td>0.002080</td>\n",
       "      <td>HP</td>\n",
       "    </tr>\n",
       "    <tr>\n",
       "      <th>287.11178</th>\n",
       "      <td>Pseudomonas aeruginosa</td>\n",
       "      <td>HP</td>\n",
       "      <td>1955</td>\n",
       "      <td>0</td>\n",
       "      <td>0.000000</td>\n",
       "      <td>HP</td>\n",
       "    </tr>\n",
       "    <tr>\n",
       "      <th>44275.61</th>\n",
       "      <td>Leptospira interrogans</td>\n",
       "      <td>HP</td>\n",
       "      <td>6</td>\n",
       "      <td>0</td>\n",
       "      <td>0.000000</td>\n",
       "      <td>HP</td>\n",
       "    </tr>\n",
       "    <tr>\n",
       "      <th>470.9648</th>\n",
       "      <td>Acinetobacter baumannii</td>\n",
       "      <td>HP</td>\n",
       "      <td>2281</td>\n",
       "      <td>0</td>\n",
       "      <td>0.000000</td>\n",
       "      <td>HP</td>\n",
       "    </tr>\n",
       "    <tr>\n",
       "      <th>48296.376</th>\n",
       "      <td>Acinetobacter pittii</td>\n",
       "      <td>HP</td>\n",
       "      <td>43</td>\n",
       "      <td>2</td>\n",
       "      <td>0.046512</td>\n",
       "      <td>HP</td>\n",
       "    </tr>\n",
       "    <tr>\n",
       "      <th>1597.462</th>\n",
       "      <td>Lactobacillus paracasei</td>\n",
       "      <td>NHP</td>\n",
       "      <td>0</td>\n",
       "      <td>19</td>\n",
       "      <td>0.000000</td>\n",
       "      <td>NHP</td>\n",
       "    </tr>\n",
       "    <tr>\n",
       "      <th>1352.8997</th>\n",
       "      <td>Enterococcus faecium</td>\n",
       "      <td>NHP</td>\n",
       "      <td>666</td>\n",
       "      <td>7</td>\n",
       "      <td>0.010511</td>\n",
       "      <td>HP</td>\n",
       "    </tr>\n",
       "    <tr>\n",
       "      <th>1280.23630</th>\n",
       "      <td>Staphylococcus aureus</td>\n",
       "      <td>HP</td>\n",
       "      <td>2604</td>\n",
       "      <td>61</td>\n",
       "      <td>0.023425</td>\n",
       "      <td>HP</td>\n",
       "    </tr>\n",
       "  </tbody>\n",
       "</table>\n",
       "</div>"
      ],
      "text/plain": [
       "                              species Label    HP  NHP     Ratio  \\\n",
       "28450.2018  Burkholderia pseudomallei    HP   168    0  0.000000   \n",
       "158836.472    Enterobacter hormaechei   NHP   305    6  0.019672   \n",
       "1639.7756      Listeria monocytogenes    HP   197    0  0.000000   \n",
       "1812935.59  Enterobacter roggenkampii    HP    12    0  0.000000   \n",
       "299767.100      Enterobacter ludwigii    HP     6    0  0.000000   \n",
       "61645.317       Enterobacter asburiae    HP    20    0  0.000000   \n",
       "562.55247            Escherichia coli    HP  4352  396  0.090993   \n",
       "573.29103       Klebsiella pneumoniae    HP  3846    8  0.002080   \n",
       "287.11178      Pseudomonas aeruginosa    HP  1955    0  0.000000   \n",
       "44275.61       Leptospira interrogans    HP     6    0  0.000000   \n",
       "470.9648      Acinetobacter baumannii    HP  2281    0  0.000000   \n",
       "48296.376        Acinetobacter pittii    HP    43    2  0.046512   \n",
       "1597.462      Lactobacillus paracasei   NHP     0   19  0.000000   \n",
       "1352.8997        Enterococcus faecium   NHP   666    7  0.010511   \n",
       "1280.23630      Staphylococcus aureus    HP  2604   61  0.023425   \n",
       "\n",
       "           Majority Label  \n",
       "28450.2018             HP  \n",
       "158836.472             HP  \n",
       "1639.7756              HP  \n",
       "1812935.59             HP  \n",
       "299767.100             HP  \n",
       "61645.317              HP  \n",
       "562.55247              HP  \n",
       "573.29103              HP  \n",
       "287.11178              HP  \n",
       "44275.61               HP  \n",
       "470.9648               HP  \n",
       "48296.376              HP  \n",
       "1597.462              NHP  \n",
       "1352.8997              HP  \n",
       "1280.23630             HP  "
      ]
     },
     "execution_count": 52,
     "metadata": {},
     "output_type": "execute_result"
    }
   ],
   "source": [
    "species_representatives_test_ratio = create_ratio_df(species_representatives_test, species_to_hp_nhp)\n",
    "species_representatives_test_ratio.head(15)"
   ]
  },
  {
   "cell_type": "code",
   "execution_count": 53,
   "metadata": {},
   "outputs": [],
   "source": [
    "assert any(species_representatives_test_ratio[RATIO] >= 0.1)"
   ]
  },
  {
   "cell_type": "code",
   "execution_count": 54,
   "metadata": {},
   "outputs": [
    {
     "data": {
      "text/html": [
       "<div>\n",
       "<style scoped>\n",
       "    .dataframe tbody tr th:only-of-type {\n",
       "        vertical-align: middle;\n",
       "    }\n",
       "\n",
       "    .dataframe tbody tr th {\n",
       "        vertical-align: top;\n",
       "    }\n",
       "\n",
       "    .dataframe thead th {\n",
       "        text-align: right;\n",
       "    }\n",
       "</style>\n",
       "<table border=\"1\" class=\"dataframe\">\n",
       "  <thead>\n",
       "    <tr style=\"text-align: right;\">\n",
       "      <th></th>\n",
       "      <th>species</th>\n",
       "      <th>Label</th>\n",
       "      <th>HP</th>\n",
       "      <th>NHP</th>\n",
       "      <th>Ratio</th>\n",
       "      <th>Majority Label</th>\n",
       "    </tr>\n",
       "  </thead>\n",
       "  <tbody>\n",
       "    <tr>\n",
       "      <th>1396.2563</th>\n",
       "      <td>Bacillus cereus</td>\n",
       "      <td>NHP</td>\n",
       "      <td>16</td>\n",
       "      <td>7</td>\n",
       "      <td>0.437500</td>\n",
       "      <td>HP</td>\n",
       "    </tr>\n",
       "    <tr>\n",
       "      <th>487.3238</th>\n",
       "      <td>Neisseria meningitidis</td>\n",
       "      <td>HP</td>\n",
       "      <td>278</td>\n",
       "      <td>43</td>\n",
       "      <td>0.154676</td>\n",
       "      <td>HP</td>\n",
       "    </tr>\n",
       "    <tr>\n",
       "      <th>817.1653</th>\n",
       "      <td>Bacteroides fragilis</td>\n",
       "      <td>HP</td>\n",
       "      <td>61</td>\n",
       "      <td>45</td>\n",
       "      <td>0.737705</td>\n",
       "      <td>HP</td>\n",
       "    </tr>\n",
       "    <tr>\n",
       "      <th>33945.49</th>\n",
       "      <td>Enterococcus avium</td>\n",
       "      <td>NHP</td>\n",
       "      <td>4</td>\n",
       "      <td>5</td>\n",
       "      <td>0.800000</td>\n",
       "      <td>NHP</td>\n",
       "    </tr>\n",
       "    <tr>\n",
       "      <th>47715.653</th>\n",
       "      <td>Lactobacillus rhamnosus</td>\n",
       "      <td>NHP</td>\n",
       "      <td>2</td>\n",
       "      <td>20</td>\n",
       "      <td>0.100000</td>\n",
       "      <td>NHP</td>\n",
       "    </tr>\n",
       "    <tr>\n",
       "      <th>699240.9</th>\n",
       "      <td>Clostridiales genomosp. BVAB1</td>\n",
       "      <td>HP</td>\n",
       "      <td>6</td>\n",
       "      <td>1</td>\n",
       "      <td>0.166667</td>\n",
       "      <td>HP</td>\n",
       "    </tr>\n",
       "    <tr>\n",
       "      <th>1505.72</th>\n",
       "      <td>Paeniclostridium sordellii</td>\n",
       "      <td>NHP</td>\n",
       "      <td>4</td>\n",
       "      <td>2</td>\n",
       "      <td>0.500000</td>\n",
       "      <td>HP</td>\n",
       "    </tr>\n",
       "    <tr>\n",
       "      <th>1351.3480</th>\n",
       "      <td>Enterococcus faecalis</td>\n",
       "      <td>HP</td>\n",
       "      <td>98</td>\n",
       "      <td>13</td>\n",
       "      <td>0.132653</td>\n",
       "      <td>HP</td>\n",
       "    </tr>\n",
       "    <tr>\n",
       "      <th>1318.781</th>\n",
       "      <td>Streptococcus parasanguinis</td>\n",
       "      <td>NHP</td>\n",
       "      <td>3</td>\n",
       "      <td>25</td>\n",
       "      <td>0.120000</td>\n",
       "      <td>NHP</td>\n",
       "    </tr>\n",
       "    <tr>\n",
       "      <th>1282.3805</th>\n",
       "      <td>Staphylococcus epidermidis</td>\n",
       "      <td>NHP</td>\n",
       "      <td>85</td>\n",
       "      <td>69</td>\n",
       "      <td>0.811765</td>\n",
       "      <td>HP</td>\n",
       "    </tr>\n",
       "    <tr>\n",
       "      <th>818.1282</th>\n",
       "      <td>Bacteroides thetaiotaomicron</td>\n",
       "      <td>NHP</td>\n",
       "      <td>2</td>\n",
       "      <td>15</td>\n",
       "      <td>0.133333</td>\n",
       "      <td>NHP</td>\n",
       "    </tr>\n",
       "    <tr>\n",
       "      <th>545.121</th>\n",
       "      <td>Citrobacter koseri</td>\n",
       "      <td>HP</td>\n",
       "      <td>7</td>\n",
       "      <td>1</td>\n",
       "      <td>0.142857</td>\n",
       "      <td>HP</td>\n",
       "    </tr>\n",
       "    <tr>\n",
       "      <th>29466.1006</th>\n",
       "      <td>Veillonella parvula</td>\n",
       "      <td>NHP</td>\n",
       "      <td>1</td>\n",
       "      <td>4</td>\n",
       "      <td>0.250000</td>\n",
       "      <td>NHP</td>\n",
       "    </tr>\n",
       "    <tr>\n",
       "      <th>40518.2573</th>\n",
       "      <td>Ruminococcus bromii</td>\n",
       "      <td>NHP</td>\n",
       "      <td>3</td>\n",
       "      <td>12</td>\n",
       "      <td>0.250000</td>\n",
       "      <td>NHP</td>\n",
       "    </tr>\n",
       "    <tr>\n",
       "      <th>1343.51</th>\n",
       "      <td>Streptococcus vestibularis</td>\n",
       "      <td>HP</td>\n",
       "      <td>1</td>\n",
       "      <td>1</td>\n",
       "      <td>1.000000</td>\n",
       "      <td>HP</td>\n",
       "    </tr>\n",
       "    <tr>\n",
       "      <th>1353.134</th>\n",
       "      <td>Enterococcus gallinarum</td>\n",
       "      <td>HP</td>\n",
       "      <td>2</td>\n",
       "      <td>1</td>\n",
       "      <td>0.500000</td>\n",
       "      <td>HP</td>\n",
       "    </tr>\n",
       "    <tr>\n",
       "      <th>1260.144</th>\n",
       "      <td>Finegoldia magna</td>\n",
       "      <td>NHP</td>\n",
       "      <td>10</td>\n",
       "      <td>2</td>\n",
       "      <td>0.200000</td>\n",
       "      <td>HP</td>\n",
       "    </tr>\n",
       "    <tr>\n",
       "      <th>2026186.33</th>\n",
       "      <td>Bacillus paranthracis</td>\n",
       "      <td>HP</td>\n",
       "      <td>1</td>\n",
       "      <td>1</td>\n",
       "      <td>1.000000</td>\n",
       "      <td>HP</td>\n",
       "    </tr>\n",
       "  </tbody>\n",
       "</table>\n",
       "</div>"
      ],
      "text/plain": [
       "                                  species Label   HP  NHP     Ratio  \\\n",
       "1396.2563                 Bacillus cereus   NHP   16    7  0.437500   \n",
       "487.3238           Neisseria meningitidis    HP  278   43  0.154676   \n",
       "817.1653             Bacteroides fragilis    HP   61   45  0.737705   \n",
       "33945.49               Enterococcus avium   NHP    4    5  0.800000   \n",
       "47715.653         Lactobacillus rhamnosus   NHP    2   20  0.100000   \n",
       "699240.9    Clostridiales genomosp. BVAB1    HP    6    1  0.166667   \n",
       "1505.72        Paeniclostridium sordellii   NHP    4    2  0.500000   \n",
       "1351.3480           Enterococcus faecalis    HP   98   13  0.132653   \n",
       "1318.781      Streptococcus parasanguinis   NHP    3   25  0.120000   \n",
       "1282.3805      Staphylococcus epidermidis   NHP   85   69  0.811765   \n",
       "818.1282     Bacteroides thetaiotaomicron   NHP    2   15  0.133333   \n",
       "545.121                Citrobacter koseri    HP    7    1  0.142857   \n",
       "29466.1006            Veillonella parvula   NHP    1    4  0.250000   \n",
       "40518.2573            Ruminococcus bromii   NHP    3   12  0.250000   \n",
       "1343.51        Streptococcus vestibularis    HP    1    1  1.000000   \n",
       "1353.134          Enterococcus gallinarum    HP    2    1  0.500000   \n",
       "1260.144                 Finegoldia magna   NHP   10    2  0.200000   \n",
       "2026186.33          Bacillus paranthracis    HP    1    1  1.000000   \n",
       "\n",
       "           Majority Label  \n",
       "1396.2563              HP  \n",
       "487.3238               HP  \n",
       "817.1653               HP  \n",
       "33945.49              NHP  \n",
       "47715.653             NHP  \n",
       "699240.9               HP  \n",
       "1505.72                HP  \n",
       "1351.3480              HP  \n",
       "1318.781              NHP  \n",
       "1282.3805              HP  \n",
       "818.1282              NHP  \n",
       "545.121                HP  \n",
       "29466.1006            NHP  \n",
       "40518.2573            NHP  \n",
       "1343.51                HP  \n",
       "1353.134               HP  \n",
       "1260.144               HP  \n",
       "2026186.33             HP  "
      ]
     },
     "execution_count": 54,
     "metadata": {},
     "output_type": "execute_result"
    }
   ],
   "source": [
    "species_representatives_test_ratio[species_representatives_test_ratio[RATIO] >= 0.1]"
   ]
  },
  {
   "cell_type": "code",
   "execution_count": 55,
   "metadata": {},
   "outputs": [],
   "source": [
    "assert any(species_representatives_test_ratio.apply(lambda row: row[LABEL] != row[MAJORITY_LABEL], axis=1))"
   ]
  },
  {
   "cell_type": "code",
   "execution_count": 56,
   "metadata": {},
   "outputs": [
    {
     "data": {
      "text/html": [
       "<div>\n",
       "<style scoped>\n",
       "    .dataframe tbody tr th:only-of-type {\n",
       "        vertical-align: middle;\n",
       "    }\n",
       "\n",
       "    .dataframe tbody tr th {\n",
       "        vertical-align: top;\n",
       "    }\n",
       "\n",
       "    .dataframe thead th {\n",
       "        text-align: right;\n",
       "    }\n",
       "</style>\n",
       "<table border=\"1\" class=\"dataframe\">\n",
       "  <thead>\n",
       "    <tr style=\"text-align: right;\">\n",
       "      <th></th>\n",
       "      <th>species</th>\n",
       "      <th>Label</th>\n",
       "      <th>HP</th>\n",
       "      <th>NHP</th>\n",
       "      <th>Ratio</th>\n",
       "      <th>Majority Label</th>\n",
       "    </tr>\n",
       "  </thead>\n",
       "  <tbody>\n",
       "    <tr>\n",
       "      <th>158836.472</th>\n",
       "      <td>Enterobacter hormaechei</td>\n",
       "      <td>NHP</td>\n",
       "      <td>305</td>\n",
       "      <td>6</td>\n",
       "      <td>0.019672</td>\n",
       "      <td>HP</td>\n",
       "    </tr>\n",
       "    <tr>\n",
       "      <th>1352.8997</th>\n",
       "      <td>Enterococcus faecium</td>\n",
       "      <td>NHP</td>\n",
       "      <td>666</td>\n",
       "      <td>7</td>\n",
       "      <td>0.010511</td>\n",
       "      <td>HP</td>\n",
       "    </tr>\n",
       "    <tr>\n",
       "      <th>1311.2752</th>\n",
       "      <td>Streptococcus agalactiae</td>\n",
       "      <td>NHP</td>\n",
       "      <td>236</td>\n",
       "      <td>5</td>\n",
       "      <td>0.021186</td>\n",
       "      <td>HP</td>\n",
       "    </tr>\n",
       "    <tr>\n",
       "      <th>1396.2563</th>\n",
       "      <td>Bacillus cereus</td>\n",
       "      <td>NHP</td>\n",
       "      <td>16</td>\n",
       "      <td>7</td>\n",
       "      <td>0.437500</td>\n",
       "      <td>HP</td>\n",
       "    </tr>\n",
       "    <tr>\n",
       "      <th>1505.72</th>\n",
       "      <td>Paeniclostridium sordellii</td>\n",
       "      <td>NHP</td>\n",
       "      <td>4</td>\n",
       "      <td>2</td>\n",
       "      <td>0.500000</td>\n",
       "      <td>HP</td>\n",
       "    </tr>\n",
       "    <tr>\n",
       "      <th>1282.3805</th>\n",
       "      <td>Staphylococcus epidermidis</td>\n",
       "      <td>NHP</td>\n",
       "      <td>85</td>\n",
       "      <td>69</td>\n",
       "      <td>0.811765</td>\n",
       "      <td>HP</td>\n",
       "    </tr>\n",
       "    <tr>\n",
       "      <th>1260.144</th>\n",
       "      <td>Finegoldia magna</td>\n",
       "      <td>NHP</td>\n",
       "      <td>10</td>\n",
       "      <td>2</td>\n",
       "      <td>0.200000</td>\n",
       "      <td>HP</td>\n",
       "    </tr>\n",
       "  </tbody>\n",
       "</table>\n",
       "</div>"
      ],
      "text/plain": [
       "                               species Label   HP  NHP     Ratio  \\\n",
       "158836.472     Enterobacter hormaechei   NHP  305    6  0.019672   \n",
       "1352.8997         Enterococcus faecium   NHP  666    7  0.010511   \n",
       "1311.2752     Streptococcus agalactiae   NHP  236    5  0.021186   \n",
       "1396.2563              Bacillus cereus   NHP   16    7  0.437500   \n",
       "1505.72     Paeniclostridium sordellii   NHP    4    2  0.500000   \n",
       "1282.3805   Staphylococcus epidermidis   NHP   85   69  0.811765   \n",
       "1260.144              Finegoldia magna   NHP   10    2  0.200000   \n",
       "\n",
       "           Majority Label  \n",
       "158836.472             HP  \n",
       "1352.8997              HP  \n",
       "1311.2752              HP  \n",
       "1396.2563              HP  \n",
       "1505.72                HP  \n",
       "1282.3805              HP  \n",
       "1260.144               HP  "
      ]
     },
     "execution_count": 56,
     "metadata": {},
     "output_type": "execute_result"
    }
   ],
   "source": [
    "species_representatives_test_ratio[species_representatives_test_ratio.apply(lambda row: \n",
    "                                                                            row[LABEL] != row[MAJORITY_LABEL], axis=1)]"
   ]
  },
  {
   "cell_type": "code",
   "execution_count": 57,
   "metadata": {
    "scrolled": true
   },
   "outputs": [
    {
     "name": "stdout",
     "output_type": "stream",
     "text": [
      "test 277 train 1501\n"
     ]
    }
   ],
   "source": [
    "print('test', len(species_representatives_test), 'train', len(species_representatives_train))"
   ]
  },
  {
   "cell_type": "markdown",
   "metadata": {},
   "source": [
    "### Handle unclassified species"
   ]
  },
  {
   "cell_type": "code",
   "execution_count": 58,
   "metadata": {},
   "outputs": [
    {
     "name": "stdout",
     "output_type": "stream",
     "text": [
      "test before 277 train before 1501\n",
      "test after 170 train after 536\n"
     ]
    }
   ],
   "source": [
    "test_genomes_with_unclassified_species = [genome for genome in species_representatives_test.index \n",
    "                                          if taxa.get_unclassified_species(genome)]\n",
    "\n",
    "train_genomes_with_unclassified_species = [genome\n",
    "                                           for genome in species_representatives_train.index \n",
    "                                           if taxa.get_unclassified_species(genome)]\n",
    "\n",
    "\n",
    "species_representatives_test_filtered = species_representatives_test.drop(test_genomes_with_unclassified_species, \n",
    "                                                                          axis='index')\n",
    "species_representatives_train_filtered = species_representatives_train.drop(train_genomes_with_unclassified_species, \n",
    "                                                                            axis='index')\n",
    "\n",
    "print('test before', len(species_representatives_test), 'train before', len(species_representatives_train))\n",
    "print('test after', len(species_representatives_test_filtered), 'train after', len(species_representatives_train_filtered))"
   ]
  },
  {
   "cell_type": "markdown",
   "metadata": {},
   "source": [
    "Count classified species with label ratio != 0"
   ]
  },
  {
   "cell_type": "code",
   "execution_count": 59,
   "metadata": {},
   "outputs": [
    {
     "data": {
      "text/plain": [
       "29"
      ]
     },
     "execution_count": 59,
     "metadata": {},
     "output_type": "execute_result"
    }
   ],
   "source": [
    "sum(species_representatives_train_ratio.loc[species_representatives_train_filtered.index, RATIO] != 0)"
   ]
  },
  {
   "cell_type": "markdown",
   "metadata": {},
   "source": [
    "## Choose one representative from each unclassified species"
   ]
  },
  {
   "cell_type": "code",
   "execution_count": 60,
   "metadata": {},
   "outputs": [],
   "source": [
    "def create_unclassified_rep_df(genomes_df, label_df):\n",
    "    \n",
    "    unclassified_species_to_genomes = get_unclassified_species_to_genomes(genomes_df)\n",
    "\n",
    "    representatives_unclassified = choose_genomes_unclassified_species(unclassified_species_to_genomes)\n",
    "    representatives_unclassified[LABEL] = label_df.loc[representatives_unclassified.index, LABEL]\n",
    "    \n",
    "    return representatives_unclassified"
   ]
  },
  {
   "cell_type": "code",
   "execution_count": 61,
   "metadata": {},
   "outputs": [],
   "source": [
    "representatives_unclassified_test = create_unclassified_rep_df(test_genomes_df, label_df=main_df)\n",
    "representatives_unclassified_train = create_unclassified_rep_df(train_genomes_df, label_df=main_df)"
   ]
  },
  {
   "cell_type": "code",
   "execution_count": 62,
   "metadata": {},
   "outputs": [
    {
     "data": {
      "text/plain": [
       "(36, 105)"
      ]
     },
     "execution_count": 62,
     "metadata": {},
     "output_type": "execute_result"
    }
   ],
   "source": [
    "len(representatives_unclassified_test), len(representatives_unclassified_train)"
   ]
  },
  {
   "cell_type": "code",
   "execution_count": 63,
   "metadata": {},
   "outputs": [
    {
     "data": {
      "text/html": [
       "<div>\n",
       "<style scoped>\n",
       "    .dataframe tbody tr th:only-of-type {\n",
       "        vertical-align: middle;\n",
       "    }\n",
       "\n",
       "    .dataframe tbody tr th {\n",
       "        vertical-align: top;\n",
       "    }\n",
       "\n",
       "    .dataframe thead th {\n",
       "        text-align: right;\n",
       "    }\n",
       "</style>\n",
       "<table border=\"1\" class=\"dataframe\">\n",
       "  <thead>\n",
       "    <tr style=\"text-align: right;\">\n",
       "      <th></th>\n",
       "      <th>species</th>\n",
       "      <th>Label</th>\n",
       "    </tr>\n",
       "  </thead>\n",
       "  <tbody>\n",
       "    <tr>\n",
       "      <th>2026720.132</th>\n",
       "      <td>unclassified Saccharibacteria</td>\n",
       "      <td>NHP</td>\n",
       "    </tr>\n",
       "    <tr>\n",
       "      <th>1871037.250</th>\n",
       "      <td>unclassified Flavobacteriaceae</td>\n",
       "      <td>NHP</td>\n",
       "    </tr>\n",
       "    <tr>\n",
       "      <th>2044936.47</th>\n",
       "      <td>unclassified Bacteroidia</td>\n",
       "      <td>NHP</td>\n",
       "    </tr>\n",
       "    <tr>\n",
       "      <th>2044938.12</th>\n",
       "      <td>unclassified Bacteria</td>\n",
       "      <td>NHP</td>\n",
       "    </tr>\n",
       "    <tr>\n",
       "      <th>59823.699</th>\n",
       "      <td>unclassified Prevotella</td>\n",
       "      <td>NHP</td>\n",
       "    </tr>\n",
       "  </tbody>\n",
       "</table>\n",
       "</div>"
      ],
      "text/plain": [
       "                                    species Label\n",
       "2026720.132   unclassified Saccharibacteria   NHP\n",
       "1871037.250  unclassified Flavobacteriaceae   NHP\n",
       "2044936.47         unclassified Bacteroidia   NHP\n",
       "2044938.12            unclassified Bacteria   NHP\n",
       "59823.699           unclassified Prevotella   NHP"
      ]
     },
     "execution_count": 63,
     "metadata": {},
     "output_type": "execute_result"
    }
   ],
   "source": [
    "representatives_unclassified_test.head()"
   ]
  },
  {
   "cell_type": "code",
   "execution_count": 64,
   "metadata": {},
   "outputs": [
    {
     "data": {
      "text/html": [
       "<div>\n",
       "<style scoped>\n",
       "    .dataframe tbody tr th:only-of-type {\n",
       "        vertical-align: middle;\n",
       "    }\n",
       "\n",
       "    .dataframe tbody tr th {\n",
       "        vertical-align: top;\n",
       "    }\n",
       "\n",
       "    .dataframe thead th {\n",
       "        text-align: right;\n",
       "    }\n",
       "</style>\n",
       "<table border=\"1\" class=\"dataframe\">\n",
       "  <thead>\n",
       "    <tr style=\"text-align: right;\">\n",
       "      <th></th>\n",
       "      <th>species</th>\n",
       "      <th>Label</th>\n",
       "    </tr>\n",
       "  </thead>\n",
       "  <tbody>\n",
       "    <tr>\n",
       "      <th>2584561.3</th>\n",
       "      <td>unclassified Akkermansia</td>\n",
       "      <td>NHP</td>\n",
       "    </tr>\n",
       "    <tr>\n",
       "      <th>1906334.4</th>\n",
       "      <td>unclassified Corynebacterium</td>\n",
       "      <td>HP</td>\n",
       "    </tr>\n",
       "    <tr>\n",
       "      <th>1972757.3</th>\n",
       "      <td>unclassified Klebsiella</td>\n",
       "      <td>HP</td>\n",
       "    </tr>\n",
       "    <tr>\n",
       "      <th>713049.5</th>\n",
       "      <td>unclassified Bacteria</td>\n",
       "      <td>NHP</td>\n",
       "    </tr>\n",
       "    <tr>\n",
       "      <th>2508709.3</th>\n",
       "      <td>unclassified Lactobacillus</td>\n",
       "      <td>NHP</td>\n",
       "    </tr>\n",
       "  </tbody>\n",
       "</table>\n",
       "</div>"
      ],
      "text/plain": [
       "                                species Label\n",
       "2584561.3      unclassified Akkermansia   NHP\n",
       "1906334.4  unclassified Corynebacterium    HP\n",
       "1972757.3       unclassified Klebsiella    HP\n",
       "713049.5          unclassified Bacteria   NHP\n",
       "2508709.3    unclassified Lactobacillus   NHP"
      ]
     },
     "execution_count": 64,
     "metadata": {},
     "output_type": "execute_result"
    }
   ],
   "source": [
    "representatives_unclassified_train.head()"
   ]
  },
  {
   "cell_type": "markdown",
   "metadata": {},
   "source": [
    "### Merge all represantatives from classified and unclassified species"
   ]
  },
  {
   "cell_type": "code",
   "execution_count": 65,
   "metadata": {},
   "outputs": [],
   "source": [
    "final_train = pd.concat([species_representatives_train_filtered, representatives_unclassified_train])\n",
    "\n",
    "final_test = pd.concat([species_representatives_test_filtered, representatives_unclassified_test])"
   ]
  },
  {
   "cell_type": "code",
   "execution_count": 66,
   "metadata": {},
   "outputs": [],
   "source": [
    "assert len(final_test) == len(species_representatives_test_filtered) + len(representatives_unclassified_test)\n",
    "assert len(final_train) == len(species_representatives_train_filtered) + len(representatives_unclassified_train)"
   ]
  },
  {
   "cell_type": "code",
   "execution_count": 67,
   "metadata": {},
   "outputs": [
    {
     "name": "stdout",
     "output_type": "stream",
     "text": [
      "final_test 206 final_train 641\n"
     ]
    }
   ],
   "source": [
    "print('final_test', len(final_test), 'final_train', len(final_train))"
   ]
  },
  {
   "cell_type": "code",
   "execution_count": 68,
   "metadata": {},
   "outputs": [
    {
     "data": {
      "text/plain": [
       "HP     428\n",
       "NHP    213\n",
       "Name: Label, dtype: int64"
      ]
     },
     "execution_count": 68,
     "metadata": {},
     "output_type": "execute_result"
    }
   ],
   "source": [
    "final_train[LABEL].value_counts()"
   ]
  },
  {
   "cell_type": "code",
   "execution_count": 69,
   "metadata": {
    "scrolled": true
   },
   "outputs": [
    {
     "data": {
      "text/html": [
       "<div>\n",
       "<style scoped>\n",
       "    .dataframe tbody tr th:only-of-type {\n",
       "        vertical-align: middle;\n",
       "    }\n",
       "\n",
       "    .dataframe tbody tr th {\n",
       "        vertical-align: top;\n",
       "    }\n",
       "\n",
       "    .dataframe thead th {\n",
       "        text-align: right;\n",
       "    }\n",
       "</style>\n",
       "<table border=\"1\" class=\"dataframe\">\n",
       "  <thead>\n",
       "    <tr style=\"text-align: right;\">\n",
       "      <th></th>\n",
       "      <th>species</th>\n",
       "      <th>Label</th>\n",
       "    </tr>\n",
       "  </thead>\n",
       "  <tbody>\n",
       "    <tr>\n",
       "      <th>28450.2018</th>\n",
       "      <td>Burkholderia pseudomallei</td>\n",
       "      <td>HP</td>\n",
       "    </tr>\n",
       "    <tr>\n",
       "      <th>158836.472</th>\n",
       "      <td>Enterobacter hormaechei</td>\n",
       "      <td>NHP</td>\n",
       "    </tr>\n",
       "    <tr>\n",
       "      <th>1639.7756</th>\n",
       "      <td>Listeria monocytogenes</td>\n",
       "      <td>HP</td>\n",
       "    </tr>\n",
       "    <tr>\n",
       "      <th>1812935.59</th>\n",
       "      <td>Enterobacter roggenkampii</td>\n",
       "      <td>HP</td>\n",
       "    </tr>\n",
       "    <tr>\n",
       "      <th>299767.100</th>\n",
       "      <td>Enterobacter ludwigii</td>\n",
       "      <td>HP</td>\n",
       "    </tr>\n",
       "  </tbody>\n",
       "</table>\n",
       "</div>"
      ],
      "text/plain": [
       "                              species Label\n",
       "28450.2018  Burkholderia pseudomallei    HP\n",
       "158836.472    Enterobacter hormaechei   NHP\n",
       "1639.7756      Listeria monocytogenes    HP\n",
       "1812935.59  Enterobacter roggenkampii    HP\n",
       "299767.100      Enterobacter ludwigii    HP"
      ]
     },
     "execution_count": 69,
     "metadata": {},
     "output_type": "execute_result"
    }
   ],
   "source": [
    "final_test.head()"
   ]
  },
  {
   "cell_type": "code",
   "execution_count": 70,
   "metadata": {},
   "outputs": [
    {
     "data": {
      "text/html": [
       "<div>\n",
       "<style scoped>\n",
       "    .dataframe tbody tr th:only-of-type {\n",
       "        vertical-align: middle;\n",
       "    }\n",
       "\n",
       "    .dataframe tbody tr th {\n",
       "        vertical-align: top;\n",
       "    }\n",
       "\n",
       "    .dataframe thead th {\n",
       "        text-align: right;\n",
       "    }\n",
       "</style>\n",
       "<table border=\"1\" class=\"dataframe\">\n",
       "  <thead>\n",
       "    <tr style=\"text-align: right;\">\n",
       "      <th></th>\n",
       "      <th>species</th>\n",
       "      <th>Label</th>\n",
       "    </tr>\n",
       "  </thead>\n",
       "  <tbody>\n",
       "    <tr>\n",
       "      <th>360118.7</th>\n",
       "      <td>Burkholderia pseudomallei</td>\n",
       "      <td>HP</td>\n",
       "    </tr>\n",
       "    <tr>\n",
       "      <th>158836.88</th>\n",
       "      <td>Enterobacter hormaechei</td>\n",
       "      <td>HP</td>\n",
       "    </tr>\n",
       "    <tr>\n",
       "      <th>881260.26</th>\n",
       "      <td>Enterobacter bugandensis</td>\n",
       "      <td>HP</td>\n",
       "    </tr>\n",
       "    <tr>\n",
       "      <th>1639.6889</th>\n",
       "      <td>Listeria monocytogenes</td>\n",
       "      <td>HP</td>\n",
       "    </tr>\n",
       "    <tr>\n",
       "      <th>1571816.3</th>\n",
       "      <td>Enterobacter roggenkampii</td>\n",
       "      <td>HP</td>\n",
       "    </tr>\n",
       "  </tbody>\n",
       "</table>\n",
       "</div>"
      ],
      "text/plain": [
       "                             species Label\n",
       "360118.7   Burkholderia pseudomallei    HP\n",
       "158836.88    Enterobacter hormaechei    HP\n",
       "881260.26   Enterobacter bugandensis    HP\n",
       "1639.6889     Listeria monocytogenes    HP\n",
       "1571816.3  Enterobacter roggenkampii    HP"
      ]
     },
     "execution_count": 70,
     "metadata": {},
     "output_type": "execute_result"
    }
   ],
   "source": [
    "final_train.head()"
   ]
  },
  {
   "cell_type": "markdown",
   "metadata": {},
   "source": [
    "# Write files"
   ]
  },
  {
   "cell_type": "code",
   "execution_count": 71,
   "metadata": {},
   "outputs": [],
   "source": [
    "fields = ['Genome Name', 'Host Name', 'Isolation Source', 'Isolation Comments', 'Genome Quality', 'Collection Date', 'Date Inserted', \n",
    "          'Other Clinical', 'Host Health', 'Disease', 'Comments']"
   ]
  },
  {
   "cell_type": "code",
   "execution_count": 72,
   "metadata": {},
   "outputs": [
    {
     "data": {
      "text/html": [
       "<div>\n",
       "<style scoped>\n",
       "    .dataframe tbody tr th:only-of-type {\n",
       "        vertical-align: middle;\n",
       "    }\n",
       "\n",
       "    .dataframe tbody tr th {\n",
       "        vertical-align: top;\n",
       "    }\n",
       "\n",
       "    .dataframe thead th {\n",
       "        text-align: right;\n",
       "    }\n",
       "</style>\n",
       "<table border=\"1\" class=\"dataframe\">\n",
       "  <thead>\n",
       "    <tr style=\"text-align: right;\">\n",
       "      <th></th>\n",
       "      <th>species</th>\n",
       "      <th>Label</th>\n",
       "    </tr>\n",
       "  </thead>\n",
       "  <tbody>\n",
       "    <tr>\n",
       "      <th>360118.7</th>\n",
       "      <td>Burkholderia pseudomallei</td>\n",
       "      <td>HP</td>\n",
       "    </tr>\n",
       "    <tr>\n",
       "      <th>158836.88</th>\n",
       "      <td>Enterobacter hormaechei</td>\n",
       "      <td>HP</td>\n",
       "    </tr>\n",
       "    <tr>\n",
       "      <th>881260.26</th>\n",
       "      <td>Enterobacter bugandensis</td>\n",
       "      <td>HP</td>\n",
       "    </tr>\n",
       "    <tr>\n",
       "      <th>1639.6889</th>\n",
       "      <td>Listeria monocytogenes</td>\n",
       "      <td>HP</td>\n",
       "    </tr>\n",
       "    <tr>\n",
       "      <th>1571816.3</th>\n",
       "      <td>Enterobacter roggenkampii</td>\n",
       "      <td>HP</td>\n",
       "    </tr>\n",
       "  </tbody>\n",
       "</table>\n",
       "</div>"
      ],
      "text/plain": [
       "                             species Label\n",
       "360118.7   Burkholderia pseudomallei    HP\n",
       "158836.88    Enterobacter hormaechei    HP\n",
       "881260.26   Enterobacter bugandensis    HP\n",
       "1639.6889     Listeria monocytogenes    HP\n",
       "1571816.3  Enterobacter roggenkampii    HP"
      ]
     },
     "execution_count": 72,
     "metadata": {},
     "output_type": "execute_result"
    }
   ],
   "source": [
    "final_train.head()"
   ]
  },
  {
   "cell_type": "code",
   "execution_count": 73,
   "metadata": {},
   "outputs": [
    {
     "data": {
      "text/plain": [
       "HP     428\n",
       "NHP    213\n",
       "Name: Label, dtype: int64"
      ]
     },
     "execution_count": 73,
     "metadata": {},
     "output_type": "execute_result"
    }
   ],
   "source": [
    "final_train_df = pd.concat([final_train, train_genomes_df.loc[final_train.index, fields]], axis=1)\n",
    "\n",
    "final_train_df = final_train_df.sort_values(by=[LABEL])\n",
    "final_train_df[LABEL].value_counts()"
   ]
  },
  {
   "cell_type": "code",
   "execution_count": 74,
   "metadata": {},
   "outputs": [
    {
     "data": {
      "text/plain": [
       "HP     106\n",
       "NHP    100\n",
       "Name: Label, dtype: int64"
      ]
     },
     "execution_count": 74,
     "metadata": {},
     "output_type": "execute_result"
    }
   ],
   "source": [
    "final_test_df = pd.concat([final_test, test_genomes_df.loc[final_test.index, fields]], axis=1)\n",
    "\n",
    "final_test_df[LABEL].value_counts()"
   ]
  },
  {
   "cell_type": "code",
   "execution_count": 75,
   "metadata": {},
   "outputs": [],
   "source": [
    "save = False\n",
    "\n",
    "if save:\n",
    "    final_train_df.to_csv('train_genomes.csv')\n",
    "    final_test_df.to_csv('test_genomes.csv')"
   ]
  }
 ],
 "metadata": {
  "kernelspec": {
   "display_name": "Python 3",
   "language": "python",
   "name": "python3"
  },
  "language_info": {
   "codemirror_mode": {
    "name": "ipython",
    "version": 3
   },
   "file_extension": ".py",
   "mimetype": "text/x-python",
   "name": "python",
   "nbconvert_exporter": "python",
   "pygments_lexer": "ipython3",
   "version": "3.7.10"
  }
 },
 "nbformat": 4,
 "nbformat_minor": 4
}
