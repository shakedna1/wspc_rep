{
 "cells": [
  {
   "cell_type": "markdown",
   "metadata": {},
   "source": [
    "# TODO\n",
    "\n",
    "## 1. remove aupr from results -> ask Yaron about it \n",
    "## 2. remove frame from barplots\n",
    "## 3. Add label to x in the barplots\n",
    "## 4. Add barplots of 240 (250) vs. 500 (450)\n",
    "## 5. Add barplots of validation results with the final features  -> ask Yaron if we need to show PRAUC \n",
    "## 6. Add barplots and graphs like in figure 4 in the paper\n",
    "\n"
   ]
  },
  {
   "cell_type": "code",
   "execution_count": 1,
   "metadata": {},
   "outputs": [],
   "source": [
    "%reload_ext autoreload\n",
    "%autoreload 2"
   ]
  },
  {
   "cell_type": "code",
   "execution_count": 2,
   "metadata": {},
   "outputs": [],
   "source": [
    "import warnings\n",
    "warnings.filterwarnings('ignore')"
   ]
  },
  {
   "cell_type": "code",
   "execution_count": 3,
   "metadata": {},
   "outputs": [
    {
     "data": {
      "text/html": [
       "<style>.container { width:100% !important; }</style>"
      ],
      "text/plain": [
       "<IPython.core.display.HTML object>"
      ]
     },
     "metadata": {},
     "output_type": "display_data"
    }
   ],
   "source": [
    "from IPython.core.display import display, HTML\n",
    "\n",
    "# display wide notebook cells\n",
    "display(HTML(\"<style>.container { width:100% !important; }</style>\"))"
   ]
  },
  {
   "cell_type": "code",
   "execution_count": 5,
   "metadata": {},
   "outputs": [],
   "source": [
    "import feature_importance\n",
    "import feature_selection\n",
    "import functools\n",
    "import json\n",
    "import matplotlib.pyplot as plt\n",
    "import numpy as np\n",
    "import pandas as pd\n",
    "import sklearn\n",
    "import train_and_predict\n",
    "import util\n",
    "\n",
    "from data import *\n",
    "from taxa import *\n",
    "from pathlib import Path\n",
    "from sklearn.ensemble import RandomForestClassifier\n",
    "from sklearn.feature_extraction.text import CountVectorizer\n",
    "from sklearn.feature_selection import SelectKBest\n",
    "from sklearn.model_selection import StratifiedKFold\n",
    "from sklearn.pipeline import Pipeline"
   ]
  },
  {
   "cell_type": "markdown",
   "metadata": {},
   "source": [
    "# Read Data"
   ]
  },
  {
   "cell_type": "code",
   "execution_count": 6,
   "metadata": {},
   "outputs": [],
   "source": [
    "pd.set_option('display.max_colwidth', None)\n",
    "pd.set_option('display.max_rows', None)\n",
    "path = Path('..\\Data')"
   ]
  },
  {
   "cell_type": "code",
   "execution_count": 7,
   "metadata": {},
   "outputs": [],
   "source": [
    "train_genomes_path = path / 'train_genomes.fasta'\n",
    "train_genomes_metedata_path = path / 'train_genomes_info.csv'\n",
    "\n",
    "test_genomes_path = path / 'test_genomes.fasta'\n",
    "test_genomes_metedata_path = path / 'test_genomes_verified.csv'\n",
    "\n",
    "train_dataset = GenomesData(train_genomes_path, train_genomes_metedata_path)\n",
    "test_dataset = GenomesData(test_genomes_path, test_genomes_metedata_path)"
   ]
  },
  {
   "cell_type": "markdown",
   "metadata": {},
   "source": [
    "Check split train dataset to train and validation according to insertion date"
   ]
  },
  {
   "cell_type": "code",
   "execution_count": 11,
   "metadata": {},
   "outputs": [
    {
     "name": "stdout",
     "output_type": "stream",
     "text": [
      "train dataset 641\n",
      "train 513 validation 128\n"
     ]
    }
   ],
   "source": [
    "print('train dataset', len(train_dataset.data))\n",
    "\n",
    "split = feature_selection.split_by_insertion_date(train_dataset, proportion=0.2)\n",
    "\n",
    "train_idx, validation_idx = next(split.split())\n",
    "\n",
    "X_train_raw, X_valid_raw = train_dataset.data[train_idx], train_dataset.data[validation_idx]\n",
    "y_train, y_valid = train_dataset.y[train_idx], train_dataset.y[validation_idx]\n",
    "\n",
    "print('train', len(X_train_raw), 'validation', len(X_valid_raw))"
   ]
  },
  {
   "cell_type": "code",
   "execution_count": 243,
   "metadata": {},
   "outputs": [
    {
     "data": {
      "text/plain": [
       "1    89\n",
       "0    39\n",
       "Name: Label, dtype: int64"
      ]
     },
     "execution_count": 243,
     "metadata": {},
     "output_type": "execute_result"
    }
   ],
   "source": [
    "y_valid.value_counts()"
   ]
  },
  {
   "cell_type": "code",
   "execution_count": 244,
   "metadata": {},
   "outputs": [
    {
     "data": {
      "text/plain": [
       "Timestamp('2018-11-29 03:53:53.656000+0000', tz='UTC')"
      ]
     },
     "execution_count": 244,
     "metadata": {},
     "output_type": "execute_result"
    }
   ],
   "source": [
    "DATE_INSERTED = 'Date Inserted'\n",
    "\n",
    "min_validation_date = min(train_dataset.metadata.iloc[validation_idx, :][DATE_INSERTED])\n",
    "min_validation_date"
   ]
  },
  {
   "cell_type": "code",
   "execution_count": 245,
   "metadata": {},
   "outputs": [
    {
     "data": {
      "text/plain": [
       "Timestamp('2018-11-29 03:08:47.637000+0000', tz='UTC')"
      ]
     },
     "execution_count": 245,
     "metadata": {},
     "output_type": "execute_result"
    }
   ],
   "source": [
    "max_train_date = max(train_dataset.metadata.iloc[train_idx, :][DATE_INSERTED])\n",
    "max_train_date"
   ]
  },
  {
   "cell_type": "code",
   "execution_count": 246,
   "metadata": {},
   "outputs": [],
   "source": [
    "assert min_validation_date > max_train_date"
   ]
  },
  {
   "cell_type": "markdown",
   "metadata": {},
   "source": [
    "# Feature Selection - best k features according to chi2"
   ]
  },
  {
   "cell_type": "markdown",
   "metadata": {},
   "source": [
    "## 20% validation"
   ]
  },
  {
   "cell_type": "code",
   "execution_count": 247,
   "metadata": {
    "scrolled": true
   },
   "outputs": [
    {
     "name": "stdout",
     "output_type": "stream",
     "text": [
      "Best roc_auc score is: 0.9030538749639873\n",
      "{'k_best__k': 450}\n"
     ]
    }
   ],
   "source": [
    "min_val = 50\n",
    "max_val = 600\n",
    "inc = 50\n",
    "\n",
    "k_range = range(min_val, max_val + 1, inc)\n",
    "\n",
    "split = feature_selection.split_by_insertion_date(train_dataset, proportion=0.2)\n",
    "grid_search = feature_selection.perform_fs_k_best(train_dataset, k_range, split=split)\n",
    "print(grid_search.best_params_)\n",
    "\n",
    "param_name = 'k_best__k'\n",
    "kvals_df = feature_selection.grid_search_results_to_df(grid_search, param_name)"
   ]
  },
  {
   "cell_type": "code",
   "execution_count": 30,
   "metadata": {},
   "outputs": [],
   "source": [
    "def add_bar_labels(ax, round_by=2):\n",
    "    for c, i in enumerate(ax.patches):\n",
    "        height = round(i.get_height(), round_by)\n",
    "        ax.annotate('{}'.format(round(i.get_height(), round_by)),\n",
    "                   xy=(i.get_x() + i.get_width()/2, height),\n",
    "                   xytext=(0, 3),\n",
    "                   textcoords=\"offset points\",\n",
    "                   ha='center', va='bottom', fontsize=12)"
   ]
  },
  {
   "cell_type": "code",
   "execution_count": 271,
   "metadata": {},
   "outputs": [],
   "source": [
    "def create_fs_barplots(fs_df, width):\n",
    "    fig, ax = plt.subplots(figsize=(10,6))\n",
    "    fs_dict = dict(zip(list(fs_df.index), list(fs_df['mean_test_roc_auc'])))\n",
    "    \n",
    "    ax.set_xticks(list(fs_dict.keys()))\n",
    "    ax.bar(*zip(*fs_dict.items()), width=width)\n",
    "    ax.set_ylim([0.87, 0.905])\n",
    "    ax.set_ylabel('AUROC',  fontsize=18)\n",
    "    \n",
    "    add_bar_labels(ax, 3)"
   ]
  },
  {
   "cell_type": "code",
   "execution_count": 272,
   "metadata": {},
   "outputs": [
    {
     "name": "stdout",
     "output_type": "stream",
     "text": [
      "Validation results per k value\n"
     ]
    },
    {
     "data": {
      "image/png": "[encoded data removed]",
      "text/plain": [
       "<Figure size 720x432 with 1 Axes>"
      ]
     },
     "metadata": {
      "needs_background": "light"
     },
     "output_type": "display_data"
    }
   ],
   "source": [
    "print('Validation results per k value')\n",
    "create_fs_barplots(kvals_df, 30)"
   ]
  },
  {
   "cell_type": "markdown",
   "metadata": {},
   "source": [
    "# Feature Selection - select best feature from each cluster"
   ]
  },
  {
   "cell_type": "code",
   "execution_count": 250,
   "metadata": {
    "scrolled": true
   },
   "outputs": [
    {
     "name": "stdout",
     "output_type": "stream",
     "text": [
      "threshold=0.00, selected_features=450\n",
      "threshold=0.03, selected_features=406\n",
      "threshold=0.06, selected_features=373\n",
      "threshold=0.09, selected_features=329\n",
      "threshold=0.12, selected_features=298\n",
      "threshold=0.15, selected_features=270\n",
      "threshold=0.18, selected_features=244\n",
      "threshold=0.21, selected_features=219\n",
      "threshold=0.24, selected_features=201\n",
      "threshold=0.27, selected_features=181\n",
      "threshold=0.30, selected_features=159\n",
      "threshold=0.33, selected_features=136\n",
      "threshold=0.36, selected_features=116\n",
      "threshold=0.39, selected_features=95\n",
      "threshold=0.42, selected_features=74\n",
      "threshold=0.45, selected_features=60\n",
      "threshold=0.48, selected_features=47\n",
      "threshold=0.51, selected_features=37\n",
      "threshold=0.54, selected_features=30\n",
      "threshold=0.57, selected_features=18\n",
      "threshold=0.60, selected_features=15\n",
      "threshold=0.00, selected_features=450\n",
      "Best roc_auc score is: 0.9030538749639873\n",
      "{'cluster__threshold': 0.0}\n"
     ]
    }
   ],
   "source": [
    "min_val = 0\n",
    "max_val = 0.61\n",
    "inc = 0.03\n",
    "t_range = np.arange(min_val, max_val, inc)\n",
    "\n",
    "# created corr matrix using feature_selection.create_corr_matrix(X_train_raw, y_train) \n",
    "corr_matrix_path = path / 'X_train_corr_mat_0.8_k450.csv'\n",
    "corr_matrix_train = pd.read_csv(corr_matrix_path, index_col=0)\n",
    "dist_matrix_train = feature_selection.feature_corr_to_dist_matrix(corr_matrix_train)\n",
    "\n",
    "split = feature_selection.split_by_insertion_date(train_dataset, proportion=0.2)\n",
    "grid_search_cluster = feature_selection.perform_fs_clusters(train_dataset, dist_matrix_train, t_range, split=split)\n",
    "print(grid_search_cluster.best_params_)\n",
    "\n",
    "param_name = 'cluster__threshold'\n",
    "thresholds_df = feature_selection.grid_search_results_to_df(grid_search_cluster, param_name)"
   ]
  },
  {
   "cell_type": "code",
   "execution_count": 251,
   "metadata": {},
   "outputs": [
    {
     "name": "stdout",
     "output_type": "stream",
     "text": [
      "Validation results per threshold value\n"
     ]
    },
    {
     "data": {
      "image/png": "[encoded data removed]",
      "text/plain": [
       "<Figure size 720x432 with 1 Axes>"
      ]
     },
     "metadata": {
      "needs_background": "light"
     },
     "output_type": "display_data"
    }
   ],
   "source": [
    "print('Validation results per threshold value')\n",
    "thresholds_df_t036 = thresholds_df.loc[[i*0.03 for i in range(13)]]\n",
    "create_fs_barplots(thresholds_df_t036, 0.02)"
   ]
  },
  {
   "cell_type": "markdown",
   "metadata": {},
   "source": [
    "> Unfortunatly, there is no way to extract the number of selected features from grid search. Need to parse the printed text: \"threshold=0.00, selected_features= 450\n",
    "threshold=0.03, selected_features= 406...\""
   ]
  },
  {
   "cell_type": "markdown",
   "metadata": {},
   "source": [
    "**In the paper - show results from threshold 0 to 0.36**"
   ]
  },
  {
   "cell_type": "markdown",
   "metadata": {},
   "source": [
    "# Final model"
   ]
  },
  {
   "cell_type": "markdown",
   "metadata": {},
   "source": [
    "## Perform feature selection process on the entire train dataset, using best parameters"
   ]
  },
  {
   "cell_type": "code",
   "execution_count": 13,
   "metadata": {},
   "outputs": [],
   "source": [
    "best_k = 450\n",
    "best_t = 0.18"
   ]
  },
  {
   "cell_type": "code",
   "execution_count": 14,
   "metadata": {},
   "outputs": [
    {
     "name": "stdout",
     "output_type": "stream",
     "text": [
      "threshold=0.18, selected_features=250\n",
      "false_positive: 21,total NHPs: 102\n",
      "false_negative: 6,total HPs: 102\n",
      "BAcc: 0.87\n",
      "sensitivity: 0.94\n",
      "specificity: 0.79\n",
      "aupr_auc: 0.96\n",
      "roc_auc: 0.95\n"
     ]
    }
   ],
   "source": [
    "X_train_raw, X_test_raw = train_dataset.data, test_dataset.data\n",
    "y_train, y_test = train_dataset.y, test_dataset.y\n",
    "\n",
    "# created corr matrix using feature_selection.create_corr_matrix(X_train_raw, y_train) \n",
    "corr_matrix_path = path / 'X_train_corr_mat_k450.csv'\n",
    "X_train_corr_matrix = pd.read_csv(corr_matrix_path, index_col=0)\n",
    "X_train_dist_mat = feature_selection.feature_corr_to_dist_matrix(X_train_corr_matrix)\n",
    "\n",
    "fs_pipeline = Pipeline(steps=[('vectorize', CountVectorizer(lowercase=False, binary=True)),\n",
    "                               ('k_best', SelectKBest(score_func=sklearn.feature_selection.chi2, k=best_k)),\n",
    "                               ('cluster', feature_selection.SelectHierarchicalClustering(X_train_dist_mat, threshold=best_t)),\n",
    "                               ('rf', RandomForestClassifier(random_state=0))])\n",
    "\n",
    "fs_pipeline.fit(X_train_raw, y_train)\n",
    "\n",
    "results = train_and_predict.predict_and_print_results(X_test_raw, y_test, fs_pipeline)"
   ]
  },
  {
   "cell_type": "code",
   "execution_count": 15,
   "metadata": {},
   "outputs": [
    {
     "data": {
      "text/plain": [
       "1    428\n",
       "0    213\n",
       "Name: Label, dtype: int64"
      ]
     },
     "execution_count": 15,
     "metadata": {},
     "output_type": "execute_result"
    }
   ],
   "source": [
    "y_train.value_counts()"
   ]
  },
  {
   "cell_type": "markdown",
   "metadata": {},
   "source": [
    "## Extract final features"
   ]
  },
  {
   "cell_type": "code",
   "execution_count": 17,
   "metadata": {},
   "outputs": [],
   "source": [
    "all_pgfams = pd.array(fs_pipeline['vectorize'].get_feature_names())\n",
    "k_best_pgfams = all_pgfams[fs_pipeline['k_best'].get_support()]\n",
    "cluster_pgfams = k_best_pgfams[fs_pipeline['cluster'].get_support()]"
   ]
  },
  {
   "cell_type": "code",
   "execution_count": 256,
   "metadata": {},
   "outputs": [
    {
     "data": {
      "text/plain": [
       "393042"
      ]
     },
     "execution_count": 256,
     "metadata": {},
     "output_type": "execute_result"
    }
   ],
   "source": [
    "len(all_pgfams)"
   ]
  },
  {
   "cell_type": "code",
   "execution_count": 257,
   "metadata": {},
   "outputs": [],
   "source": [
    "vectorizer = CountVectorizer(lowercase=False, binary=True, vocabulary=cluster_pgfams)\n",
    "X_train_fs_clust = train_dataset.vectorize_data(vectorizer)"
   ]
  },
  {
   "cell_type": "code",
   "execution_count": 258,
   "metadata": {},
   "outputs": [],
   "source": [
    "assert all(cluster_pgfams == vectorizer.get_feature_names())"
   ]
  },
  {
   "cell_type": "code",
   "execution_count": 259,
   "metadata": {},
   "outputs": [],
   "source": [
    "assert all(cluster_pgfams == X_train_fs_clust.columns)"
   ]
  },
  {
   "cell_type": "code",
   "execution_count": 260,
   "metadata": {},
   "outputs": [],
   "source": [
    "vectorizer = CountVectorizer(lowercase=False, binary=True, vocabulary=k_best_pgfams)\n",
    "X_train_fs_k_best = train_dataset.vectorize_data(vectorizer)"
   ]
  },
  {
   "cell_type": "code",
   "execution_count": 261,
   "metadata": {},
   "outputs": [
    {
     "data": {
      "text/plain": [
       "68.3802547338115"
      ]
     },
     "execution_count": 261,
     "metadata": {},
     "output_type": "execute_result"
    }
   ],
   "source": [
    "chi2_vals, __ = sklearn.feature_selection.chi2(X_train_fs_k_best, y_train)\n",
    "min(chi2_vals)"
   ]
  },
  {
   "cell_type": "code",
   "execution_count": 262,
   "metadata": {},
   "outputs": [
    {
     "data": {
      "text/plain": [
       "(139, 35)"
      ]
     },
     "execution_count": 262,
     "metadata": {},
     "output_type": "execute_result"
    }
   ],
   "source": [
    "def get_hp_to_nhp_count(X, y, pgfam):\n",
    "    return feature_importance.count_hp_vs_nhp(X[X[pgfam]==1].index, y)\n",
    "\n",
    "hp_features = []\n",
    "nhp_features = []\n",
    "\n",
    "for pgfam in k_best_pgfams:\n",
    "    hp, nhp = get_hp_to_nhp_count(X_train_fs_k_best, y_train, pgfam)\n",
    "    if hp > nhp:\n",
    "        hp_features.append(hp)\n",
    "    else:\n",
    "        nhp_features.append(nhp)\n",
    "        \n",
    "min(hp_features), min(nhp_features)"
   ]
  },
  {
   "cell_type": "markdown",
   "metadata": {},
   "source": [
    "#### Observe clusters to make sure they make sense"
   ]
  },
  {
   "cell_type": "code",
   "execution_count": 34,
   "metadata": {},
   "outputs": [],
   "source": [
    "clusters = fs_pipeline['cluster'].clusters_\n",
    "clusters.sort(key=lambda cluster: len(cluster), reverse=True)"
   ]
  },
  {
   "cell_type": "code",
   "execution_count": 35,
   "metadata": {},
   "outputs": [
    {
     "name": "stdout",
     "output_type": "stream",
     "text": [
      "cluster 0\n",
      "PGF_00000939 Uncharacterized protein YhiN\n",
      "PGF_00008469 Glutathione synthetase (EC 6.3.2.3)\n",
      "PGF_00019484 Membrane alanine aminopeptidase N (EC 3.4.11.2)\n",
      "PGF_00031127 Periplasmic thiol:disulfide interchange protein DsbA\n",
      "PGF_00054476 Succinate dehydrogenase hydrophobic membrane anchor protein\n",
      "PGF_00057016 \"Tol biopolymer transport system, TolR protein\"\n",
      "PGF_00057028 Tol-Pal system peptidoglycan-associated lipoprotein PAL\n",
      "PGF_00064460 Ubiquinone biosynthesis regulatory protein kinase UbiB\n",
      "PGF_00064685 Uncharacterized ferredoxin-like protein YfhL\n",
      "PGF_00415581 23S rRNA (uridine(2552)-2'-O)-methyltransferase (EC 2.1.1.166)\n",
      "PGF_00417755 3-demethylubiquinol 3-O-methyltransferase (EC 2.1.1.64) @ 2-polyprenyl-6-hydroxyphenyl methylase (EC 2.1.1.222)\n",
      "PGF_00423927 4-hydroxybenzoate polyprenyltransferase (EC 2.5.1.39)\n",
      "PGF_00648054 Tol-Pal system protein TolQ\n",
      "PGF_00649271 Cell division protein BolA\n",
      "PGF_00906364 Hydroxyacylglutathione hydrolase (EC 3.1.2.6)\n",
      "PGF_01785347 Adenosine (5')-pentaphospho-(5'')-adenosine pyrophosphohydrolase\n",
      "PGF_02325838 Apolipoprotein N-acyltransferase / Copper homeostasis protein CutE\n",
      "PGF_02473279 tRNA (cytidine(32)/uridine(32)-2'-O)-methyltransferase (EC 2.1.1.200)\n",
      "PGF_03116630 Membrane-bound lytic murein transglycosylase B\n",
      "PGF_03793164 Integration host factor alpha subunit\n",
      "PGF_04315180 Protein-export protein SecB (maintains pre-export unfolded state)\n",
      "PGF_05693577 Integration host factor beta subunit\n",
      "PGF_06053106 RNA polymerase sigma factor RpoH\n",
      "PGF_06061522 Succinate dehydrogenase cytochrome b-556 subunit\n",
      "PGF_06915428 ATP-dependent DNA helicase Rep\n",
      "PGF_06946342 tRNA-dihydrouridine(20/20a) synthase (EC 1.3.1.91)\n",
      "PGF_07253156 Outer membrane protein assembly factor YaeT\n",
      "PGF_07549903 \"Periplasmic thiol:disulfide oxidoreductase DsbB, required for DsbA reoxidation\"\n",
      "PGF_08442788 Peptidyl-prolyl cis-trans isomerase PpiD (EC 5.2.1.8)\n",
      "PGF_09566238 Septum-associated rare lipoprotein A\n",
      "PGF_09866709 Outer membrane lipoprotein carrier protein LolA\n",
      "PGF_10535181 Tol-Pal system beta propeller repeat protein TolB\n",
      "-----------------\n",
      "cluster 1\n",
      "PGF_00003749 FKBP-type peptidyl-prolyl cis-trans isomerase SlpA (EC 5.2.1.8)\n",
      "PGF_00024619 Acetate permease ActP (cation/acetate symporter)\n",
      "PGF_00057032 Tol-Pal system-associated acyl-CoA thioesterase\n",
      "PGF_00414228 Two-component system response regulator OmpR\n",
      "PGF_00419627 \"Coproporphyrinogen III oxidase, aerobic (EC 1.3.3.3)\"\n",
      "PGF_00420155 Cytochrome O ubiquinol oxidase subunit III (EC 1.10.3.-)\n",
      "PGF_00425212 Exported zinc metalloprotease YfgC precursor\n",
      "PGF_00450848 Nitrogen regulation protein NtrB (EC 2.7.13.3)\n",
      "PGF_01681855 \"Nitrogen regulatory protein P-II, GlnK\"\n",
      "PGF_02104569 Cysteine synthase B (EC 2.5.1.47)\n",
      "PGF_02211378 Esterase YqiA\n",
      "PGF_02996778 Enoyl-CoA hydratase (EC 4.2.1.17) / Delta(3)-cis-delta(2)-trans-enoyl-CoA isomerase (EC 5.3.3.8) / 3-hydroxyacyl-CoA dehydrogenase (EC 1.1.1.35) / 3-hydroxybutyryl-CoA epimerase (EC 5.1.2.3)\n",
      "PGF_03006190 2-polyprenyl-6-methoxyphenol hydroxylase\n",
      "PGF_04012930 Cytochrome O ubiquinol oxidase subunit IV (EC 1.10.3.-)\n",
      "PGF_05122891 Cytochrome O ubiquinol oxidase subunit II (EC 1.10.3.-)\n",
      "PGF_05346766 TolA protein\n",
      "PGF_05586373 Rhodanese-related sulfurtransferase YibN\n",
      "PGF_06463602 Glutathione S-transferase (EC 2.5.1.18)\n",
      "PGF_07588971 Cell division protein ZapE\n",
      "PGF_07800768 2-polyprenylphenol hydroxylase\n",
      "PGF_08137752 tRNA (5-methylaminomethyl-2-thiouridylate)-methyltransferase (EC 2.1.1.61) / FAD-dependent cmnm(5)s(2)U34 oxidoreductase\n",
      "PGF_08189833 Protein YaiI\n",
      "PGF_08301315 Cytochrome O ubiquinol oxidase subunit I (EC 1.10.3.-)\n",
      "PGF_09676755 \"Nitrogen regulation protein NR(I), GlnG (=NtrC)\"\n",
      "-----------------\n",
      "cluster 2\n",
      "PGF_00046551 RNA polymerase sporulation specific sigma factor SigE\n",
      "PGF_00046553 RNA polymerase sporulation specific sigma factor SigG\n",
      "PGF_00053878 Spore germination endopeptidase Gpr (EC 3.4.24.78)\n",
      "PGF_00053997 Stage 0 sporulation two-component response regulator (Spo0A)\n",
      "PGF_00054046 Stage III sporulation protein AC\n",
      "PGF_00054075 Stage III sporulation protein D\n",
      "PGF_00054087 Stage IV sporulation protein A\n",
      "PGF_00054088 Stage IV sporulation protein B\n",
      "PGF_00054097 Stage V sporulation protein AC (SpoVAC)\n",
      "PGF_00054098 Stage V sporulation protein AD (SpoVAD)\n",
      "PGF_00054100 Stage V sporulation protein AE1 (SpoVAE1)\n",
      "PGF_00054116 \"Stage V sporulation protein T, AbrB family transcriptional regulator (SpoVT)\"\n",
      "PGF_00057127 Anti-sigma F factor (EC 2.7.11.1)\n",
      "PGF_00060487 Translocation-enhancing protein TepA\n",
      "PGF_00417069 Peptidoglycan glycosyltransferase FtsW (EC 2.4.1.129) @ Stage V sporulation protein E\n",
      "PGF_00591197 RNA polymerase sporulation specific sigma factor SigK\n",
      "PGF_00730148 Cell division protein FtsI [Peptidoglycan synthetase] (EC 2.4.1.129) @ Sporulation peptidoglycan synthetase SpoVD\n",
      "PGF_02177520 RNA polymerase sporulation specific sigma factor SigF\n",
      "PGF_03254598 Manganese catalase (EC 1.11.1.6) => Spore coat protein CotJC\n",
      "PGF_06533121 Stage II sporulation protein P\n",
      "-----------------\n",
      "cluster 3\n",
      "PGF_00025448 [4Fe-4S] cluster carrier protein NfuA\n",
      "PGF_00046597 RNA polymerase-binding transcription factor DksA\n",
      "PGF_00048589 Ribonuclease T\n",
      "PGF_00048824 LSU rRNA pseudouridine(746) synthase (EC 5.4.99.29) @ tRNA pseudouridine(32) synthase (EC 5.4.99.28)\n",
      "PGF_00060424 Translation elongation factor P Lys34--(R)-beta-lysine ligase\n",
      "PGF_00064280 UPF0260 protein YcgN\n",
      "PGF_00413232 tRNA 2-thiouridine synthesis protein TusE\n",
      "PGF_00413253 tRNA 5-methylaminomethyl-2-thiouridine synthesis sulfur carrier protein TusA\n",
      "PGF_00465284 Protein YcgL\n",
      "PGF_02213711 ATP-dependent RNA helicase RhlB (EC 3.6.4.13)\n",
      "PGF_03038852 FIG00018398: hypothetical regulator\n",
      "PGF_03850442 Possible protease sohB (EC 3.4.21.-)\n",
      "PGF_05075484 RNA polymerase associated protein RapA\n",
      "PGF_05333400 BarA-associated response regulator UvrY (= GacA = SirA)\n",
      "PGF_07313224 Outer membrane stress sensor protease DegS\n",
      "-----------------\n",
      "cluster 4\n",
      "PGF_00000196 UPF0348 protein family\n",
      "PGF_00013347 UPF0297 protein YrzL\n",
      "PGF_00019221 \"ATP-dependent helicase/nuclease AddAB, subunit A\"\n",
      "PGF_00033444 Cyclic-di-AMP phosphodiesterase GdpP\n",
      "PGF_00047095 RecD-like DNA helicase YrrC\n",
      "PGF_00843068 ATPase component of general energizing module of ECF transporters\n",
      "PGF_01162199 \"Serine protease, DegP/HtrA, do-like (EC 3.4.21.-)\"\n",
      "PGF_01286574 \"Protein serine/threonine phosphatase PrpC, regulation of stationary phase\"\n",
      "PGF_02154745 DNA polymerase III polC-type (EC 2.7.7.7)\n",
      "PGF_02366581 Transmembrane component of general energizing module of ECF transporters\n",
      "PGF_06429692 Uncharacterized protein CAC3725\n",
      "PGF_06459503 \"Serine/threonine protein kinase PrkC, regulator of stationary phase\"\n",
      "-----------------\n",
      "cluster 5\n",
      "PGF_00004340 Ferredoxin domain protein\n",
      "PGF_00022173 Integrase => IntDOT\n",
      "PGF_00027075 \"Oligopeptide transporter, OPT family\"\n",
      "PGF_00043149 Putative permease\n",
      "PGF_00046844 Alpha-amylase (EC 3.2.1.1)\n",
      "PGF_00403834 Biopolymer transport exbD protein.\n",
      "PGF_00405862 Radical SAM protein BT_3168\n",
      "PGF_00416191 Calcium-transporting ATPase\n",
      "PGF_02835140 hypothetical protein\n",
      "PGF_03076440 Putative sulfatase\n",
      "PGF_03197999 \"Methylmalonyl-CoA decarboxylase, alpha chain (EC 4.1.1.41)\"\n",
      "PGF_10007685 Biotin carboxyl carrier protein => methylmalonyl-CoA decarboxylase\n",
      "-----------------\n",
      "cluster 6\n",
      "PGF_00000407 FIG00814129: Possible chaperone\n",
      "PGF_00007919 Glucosamine-1-phosphate N-acetyltransferase (EC 2.3.1.157)\n",
      "PGF_00028517 \"Oxaloacetate decarboxylase beta chain (EC 4.1.1.3) @ Methylmalonyl-CoA decarboxylase, beta chain (EC 4.1.1.41)\"\n",
      "PGF_00047240 \"Regulatory domain / Uridine kinase, type 2 (EC 2.7.1.48)\"\n",
      "PGF_00054073 Stage III sporulation protein AH\n",
      "PGF_00123197 hypothetical protein\n",
      "PGF_01135014 ClpCP protease substrate adapter protein MecA\n",
      "PGF_01317241 hypothetical protein\n",
      "PGF_01995345 hypothetical protein\n",
      "PGF_05502863 hypothetical protein\n",
      "PGF_12762783 Phosphoglucosamine mutase (EC 5.4.2.10)\n",
      "-----------------\n",
      "cluster 7\n",
      "PGF_00006100 tRNA-modifying protein YgfZ\n",
      "PGF_00024322 NAD(P) transhydrogenase subunit beta (EC 1.6.1.2)\n",
      "PGF_00045982 Pyruvate dehydrogenase E1 component (EC 1.2.4.1)\n",
      "PGF_00416576 3'-to-5' oligoribonuclease (orn)\n",
      "PGF_01053024 Glutamine synthetase adenylyl-L-tyrosine phosphorylase (EC 2.7.7.89) / Glutamate-ammonia-ligase adenylyltransferase (EC 2.7.7.42)\n",
      "PGF_03000099 Ribonuclease Y\n",
      "PGF_04792416 \"LSU ribosomal protein L32p @ LSU ribosomal protein L32p, zinc-independent\"\n",
      "PGF_05562713 [Protein-PII] uridylyltransferase (EC 2.7.7.59) / [Protein-PII]-UMP uridylyl-removing enzyme\n",
      "PGF_10461681 Ribonuclease E (EC 3.1.26.12)\n",
      "PGF_10525969 Magnesium and cobalt efflux protein CorC\n",
      "-----------------\n",
      "cluster 8\n",
      "PGF_00020168 Membrane-bound lytic murein transglycosylase A\n",
      "PGF_00027212 Outer membrane protein W precursor\n",
      "PGF_00041206 Uncharacterized chaperone protein YegD\n",
      "PGF_01708405 ApaG protein\n",
      "PGF_06150781 ATP-dependent 23S rRNA helicase DbpA\n",
      "PGF_07357908 UPF0070 protein YfgM\n",
      "PGF_08199463 Outer membrane beta-barrel assembly protein BamB\n",
      "-----------------\n",
      "cluster 9\n",
      "PGF_00013418 Oxygen-independent coproporphyrinogen-III oxidase-like protein HemZ\n",
      "PGF_00060120 SCIFF radical SAM maturase\n",
      "PGF_03253752 Six-cysteine peptide SCIFF\n",
      "PGF_03752158 FIG092679: Fe-S oxidoreductase\n",
      "PGF_07996064 FIG069887: hypothetical protein\n",
      "-----------------\n",
      "cluster 10\n",
      "PGF_00024234 \"N-succinyl-L,L-diaminopimelate desuccinylase (EC 3.5.1.18)\"\n",
      "PGF_01212500 Diadenylate cyclase spyDAC; Bacterial checkpoint controller DisA with nucleotide-binding domain\n",
      "PGF_01833449 \"3'-to-5' oligoribonuclease A, Bacillus type\"\n",
      "PGF_01922063 Inorganic pyrophosphatase (EC 3.6.1.1)\n",
      "PGF_06776852 Recombination inhibitory protein MutS2\n",
      "-----------------\n",
      "cluster 11\n",
      "PGF_00005284 Flagellar M-ring protein FliF\n",
      "PGF_00005288 Flagellar P-ring protein FlgI\n",
      "PGF_01066545 Cell division coordinator CpoB\n",
      "PGF_08607235 Flagellar L-ring protein FlgH\n",
      "-----------------\n",
      "cluster 12\n",
      "PGF_00008595 Glycerol-3-phosphate acyltransferase (EC 2.3.1.15)\n",
      "PGF_00066089 \"Unsaturated fatty acid biosythesis repressor FabR, TetR family\"\n",
      "PGF_02386652 Ribonuclease E inhibitor RraA\n",
      "PGF_10535492 Cell division protein FtsQ\n",
      "-----------------\n",
      "cluster 13\n",
      "PGF_00024692 NADH-ubiquinone oxidoreductase chain E (EC 1.6.5.3)\n",
      "PGF_01761390 NADH-ubiquinone oxidoreductase chain I (EC 1.6.5.3)\n",
      "PGF_04425336 NADH-ubiquinone oxidoreductase chain F (EC 1.6.5.3)\n",
      "PGF_07276470 NADH-ubiquinone oxidoreductase chain G (EC 1.6.5.3)\n",
      "-----------------\n",
      "cluster 14\n",
      "PGF_00027629 \"ABC transporter-coupled two-component system, signal transduction histidine kinase\"\n",
      "PGF_00740556 \"ABC transporter-coupled two-component system, LuxR family response regulator\"\n",
      "PGF_03247871 \"ABC transporter-coupled two-component system, ATP-binding protein\"\n",
      "PGF_06434787 \"ABC transporter-coupled two-component system, fused permease protein\"\n",
      "-----------------\n",
      "cluster 15\n",
      "PGF_00028514 Oxaloacetate decarboxylase alpha chain (EC 4.1.1.3); Methylmalonyl-CoA decarboxylase alpha chain (EC 4.1.1.41)\n",
      "PGF_00402798 IMP cyclohydrolase (EC 3.5.4.10)\n",
      "PGF_00800256 \"Small acid-soluble spore protein, beta-type SASP\"\n",
      "PGF_12725847 Sugar diacid utilization regulator SdaR\n",
      "-----------------\n",
      "cluster 16\n",
      "PGF_00056963 \"Tn5252, Orf23\"\n",
      "PGF_00061971 TrsE-like protein\n",
      "PGF_04381308 TrsK-like protein\n",
      "PGF_07058737 Maff2 family protein\n",
      "-----------------\n",
      "cluster 17\n",
      "PGF_02976396 3-hydroxyisobutyryl-CoA hydrolase (EC 3.1.2.4)\n",
      "PGF_03059539 3-hydroxyisobutyrate dehydrogenase (EC 1.1.1.31)\n",
      "PGF_04057876 Methylcrotonyl-CoA carboxylase biotin-containing subunit (EC 6.4.1.4)\n",
      "PGF_05369673 Methylcrotonyl-CoA carboxylase carboxyl transferase subunit (EC 6.4.1.4)\n",
      "-----------------\n",
      "cluster 18\n",
      "PGF_00036814 Probable M18-family aminopeptidase 1 (EC 3.4.11.-)\n",
      "PGF_00401868 \"Iron-sulfur cluster carrier protein, CA_C2982 type\"\n",
      "PGF_01281052 Uncharacterized protease CPF_2136\n",
      "-----------------\n",
      "cluster 19\n",
      "PGF_00054986 Sulfate transport system permease protein CysT\n",
      "PGF_00054988 Sulfate transport system permease protein CysW\n",
      "PGF_05696702 Sulfate and thiosulfate import ATP-binding protein CysA (EC 3.6.3.25)\n",
      "-----------------\n",
      "cluster 20\n",
      "PGF_00066372 V-type ATP synthase subunit A (EC 3.6.3.14)\n",
      "PGF_00066375 V-type ATP synthase subunit B (EC 3.6.3.14)\n",
      "PGF_03798826 V-type ATP synthase subunit K (EC 3.6.3.14)\n",
      "-----------------\n",
      "cluster 21\n",
      "PGF_00286985 [FeFe]-hydrogenase maturation protein HydF\n",
      "PGF_02745651 [FeFe]-hydrogenase maturation protein HydE\n",
      "PGF_03752280 [FeFe]-hydrogenase maturation protein HydG\n",
      "-----------------\n",
      "cluster 22\n",
      "PGF_00413182 tRNA ho5U(34) carboxymethyltransferase\n",
      "PGF_00413286 tRNA pseudouridine(13) synthase (EC 5.4.99.27)\n",
      "PGF_06023067 Carboxy-S-adenosyl-L-methionine synthase\n",
      "-----------------\n",
      "cluster 23\n",
      "PGF_00425021 Exodeoxyribonuclease V gamma chain (EC 3.1.11.5)\n",
      "PGF_00767262 Exodeoxyribonuclease V alpha chain (EC 3.1.11.5)\n",
      "PGF_01058419 Exodeoxyribonuclease V beta chain (EC 3.1.11.5)\n",
      "-----------------\n",
      "cluster 24\n",
      "PGF_05031387 V-type ATP synthase subunit D (EC 3.6.3.14)\n",
      "PGF_05191184 V-type ATP synthase subunit F (EC 3.6.3.14)\n",
      "PGF_12681947 V-type ATP synthase subunit I (EC 3.6.3.14)\n",
      "-----------------\n",
      "cluster 25\n",
      "PGF_00008605 Glycerol-3-phosphate dehydrogenase (EC 1.1.5.3)\n",
      "PGF_00042816 Putative oxidoreductase\n",
      "-----------------\n",
      "cluster 26\n",
      "PGF_00014064 Indolepyruvate oxidoreductase subunit IorA (EC 1.2.7.8)\n",
      "PGF_00014067 Indolepyruvate oxidoreductase subunit IorB (EC 1.2.7.8)\n",
      "-----------------\n",
      "cluster 27\n",
      "PGF_00035206 Possible hypoxanthine oxidase XdhD (EC 1.-.-.-)\n",
      "PGF_01311006 \"Molybdopterin dehydrogenase, FAD-binding subunit\"\n",
      "-----------------\n",
      "cluster 28\n",
      "PGF_00045833 Pyridoxamine 5'-phosphate oxidase (EC 1.4.3.5)\n",
      "PGF_09061641 UPF0301 protein YqgE\n",
      "-----------------\n",
      "cluster 29\n",
      "PGF_00053991 Stage 0 sporulation protein YaaT\n",
      "PGF_01767358 HesA/MoeB/ThiF family protein\n",
      "-----------------\n",
      "cluster 30\n",
      "PGF_00054528 Succinyl-CoA ligase [ADP-forming] beta chain (EC 6.2.1.5)\n",
      "PGF_00853393 Succinyl-CoA ligase [ADP-forming] alpha chain (EC 6.2.1.5)\n",
      "-----------------\n",
      "cluster 31\n",
      "PGF_00071918 Bacteriocin-like protein\n",
      "PGF_10470483 NLP/P60 family protein\n",
      "-----------------\n",
      "cluster 32\n",
      "PGF_00075770 FIG00519347: Ribonucleotide reductase-like protein\n",
      "PGF_02787188 ACT domain protein CAC_0478\n",
      "-----------------\n",
      "cluster 33\n",
      "PGF_00122442 hypothetical protein\n",
      "PGF_00426576 FIG00533189: hypothetical protein\n",
      "-----------------\n",
      "cluster 34\n",
      "PGF_00158423 Uncharacterized protein CPF_2956\n",
      "PGF_04198335 Iron-sulfur cluster assembly scaffold protein IscU/NifU-like\n",
      "-----------------\n",
      "cluster 35\n",
      "PGF_00406692 2-oxoglutarate dehydrogenase E1 component (EC 1.2.4.2)\n",
      "PGF_01124177 Dihydrolipoamide succinyltransferase component (E2) of 2-oxoglutarate dehydrogenase complex (EC 2.3.1.61)\n",
      "-----------------\n",
      "cluster 36\n",
      "PGF_00426404 FIG00514472: hypothetical protein\n",
      "PGF_00426500 FIG00521858: hypothetical protein\n",
      "-----------------\n",
      "cluster 37\n",
      "PGF_00743714 Chromate transport protein\n",
      "PGF_10332317 Electron transport complex protein RnfB\n",
      "-----------------\n",
      "cluster 38\n",
      "PGF_00775715 \"Ribosome protection-type tetracycline resistance related proteins, group 2 / YacP-like NYN domain\"\n",
      "PGF_01129740 hypothetical protein\n",
      "-----------------\n",
      "cluster 39\n",
      "PGF_00809978 Flavoredoxin\n",
      "PGF_03696321 tRNA-dihydrouridine synthase BT3326\n",
      "-----------------\n",
      "cluster 40\n",
      "PGF_00922738 Acyl-CoA thioesterase II (EC 3.1.2.-)\n",
      "PGF_02959749 Ribonuclease D (EC 3.1.26.3)\n",
      "-----------------\n",
      "cluster 41\n",
      "PGF_01421686 NADH-dependent reduced ferredoxin:NADP+ oxidoreductase subunit B\n",
      "PGF_01480798 NADH-dependent reduced ferredoxin:NADP+ oxidoreductase subunit A\n",
      "-----------------\n",
      "cluster 42\n",
      "PGF_01513923 \"Dihydroorotate dehydrogenase (NAD(+)), electron transfer subunit (EC 1.3.1.14)\"\n",
      "PGF_03029062 \"Dihydroorotate dehydrogenase (NAD(+)), catalytic subunit (EC 1.3.1.14)\"\n",
      "-----------------\n",
      "cluster 43\n",
      "PGF_02008990 \"Efflux ABC transporter, permease/ATP-binding protein BLi02169\"\n",
      "PGF_06927169 \"Efflux ABC transporter, permease/ATP-binding protein BLi02168\"\n",
      "-----------------\n",
      "cluster 44\n",
      "PGF_02930287 Reverse rubrerythrin\n",
      "PGF_03260965 hypothetical protein\n",
      "-----------------\n",
      "cluster 45\n",
      "PGF_03138644 Arginine exporter protein ArgO\n",
      "PGF_05946087 \"Transcriptional regulator ArgP, LysR family\"\n",
      "-----------------\n",
      "cluster 46\n",
      "PGF_03863088 FIG000875: Thioredoxin domain-containing protein EC-YbbN\n",
      "PGF_10474010 Phosphohistidine phosphatase SixA\n",
      "-----------------\n",
      "cluster 47\n",
      "PGF_03879367 Nitrite reductase [NAD(P)H] small subunit (EC 1.7.1.4)\n",
      "PGF_09358806 Nitrite reductase [NAD(P)H] large subunit (EC 1.7.1.4)\n",
      "-----------------\n",
      "cluster 48\n",
      "PGF_00003251 Macrolide export ATP-binding/permease protein\n",
      "-----------------\n",
      "cluster 49\n",
      "PGF_00004164 Fe-S oxidoreductase\n",
      "-----------------\n",
      "cluster 50\n",
      "PGF_00004169 Fe-S oxidoreductase\n",
      "-----------------\n",
      "cluster 51\n",
      "PGF_00004337 Ferredoxin 3 fused to uncharacterized domain\n",
      "-----------------\n",
      "cluster 52\n",
      "PGF_00006245 Formate--tetrahydrofolate ligase (EC 6.3.4.3)\n",
      "-----------------\n",
      "cluster 53\n",
      "PGF_00006320 Formyltetrahydrofolate deformylase (EC 3.5.1.10)\n",
      "-----------------\n",
      "cluster 54\n",
      "PGF_00006377 \"Fructose-1,6-bisphosphatase, Bacillus type (EC 3.1.3.11)\"\n",
      "-----------------\n",
      "cluster 55\n",
      "PGF_00006380 \"Fructose-1,6-bisphosphatase, type I (EC 3.1.3.11)\"\n",
      "-----------------\n",
      "cluster 56\n",
      "PGF_00007119 Galactose-1-phosphate uridylyltransferase (EC 2.7.7.10)\n",
      "-----------------\n",
      "cluster 57\n",
      "PGF_00008261 \"Glutamine synthetase type III, GlnN (EC 6.3.1.2)\"\n",
      "-----------------\n",
      "cluster 58\n",
      "PGF_00008381 \"Glutaredoxin-like protein NrdH, required for reduction of Ribonucleotide reductase class Ib\"\n",
      "-----------------\n",
      "cluster 59\n",
      "PGF_00010468 Hydrolase (HAD superfamily) in cluster with DUF1447\n",
      "-----------------\n",
      "cluster 60\n",
      "PGF_00015463 Iron-dependent repressor\n",
      "-----------------\n",
      "cluster 61\n",
      "PGF_00015963 \"L,L-diaminopimelate aminotransferase (EC 2.6.1.83)\"\n",
      "-----------------\n",
      "cluster 62\n",
      "PGF_00016404 \"LSU ribosomal protein L32p @ LSU ribosomal protein L32p, zinc-dependent\"\n",
      "-----------------\n",
      "cluster 63\n",
      "PGF_00016494 Lactaldehyde reductase (EC 1.1.1.77)\n",
      "-----------------\n",
      "cluster 64\n",
      "PGF_00018092 ATP-dependent Zn protease\n",
      "-----------------\n",
      "cluster 65\n",
      "PGF_00018971 Malate:quinone oxidoreductase (EC 1.1.5.4)\n",
      "-----------------\n",
      "cluster 66\n",
      "PGF_00020739 \"Methionine biosynthesis and transport regulator MtaR, LysR family\"\n",
      "-----------------\n",
      "cluster 67\n",
      "PGF_00020759 Methionine synthase activation domain (EC 2.1.1.13)\n",
      "-----------------\n",
      "cluster 68\n",
      "PGF_00022550 Molybdopterin synthase catalytic subunit MoaE (EC 2.8.1.12)\n",
      "-----------------\n",
      "cluster 69\n",
      "PGF_00024314 \"NAD(FAD)-utilizing dehydrogenase, sll0175 homolog\"\n",
      "-----------------\n",
      "cluster 70\n",
      "PGF_00025050 NPQTN specific sortase B\n",
      "-----------------\n",
      "cluster 71\n",
      "PGF_00030083 Patatin-like phospholipase\n",
      "-----------------\n",
      "cluster 72\n",
      "PGF_00030905 [FeFe] hydrogenase (EC 1.12.7.2)\n",
      "-----------------\n",
      "cluster 73\n",
      "PGF_00033392 Phosphoenolpyruvate carboxylase (EC 4.1.1.31)\n",
      "-----------------\n",
      "cluster 74\n",
      "PGF_00033409 Phosphoenolpyruvate synthase / Pyruvate phosphate dikinase\n",
      "-----------------\n",
      "cluster 75\n",
      "PGF_00033940 Phosphoribosylaminoimidazolecarboxamide formyltransferase (EC 2.1.2.3)\n",
      "-----------------\n",
      "cluster 76\n",
      "PGF_00035499 Predicted ATPase (AAA+ superfamily)\n",
      "-----------------\n",
      "cluster 77\n",
      "PGF_00035860 Predicted functional analog of homoserine kinase (EC 2.7.1.-)\n",
      "-----------------\n",
      "cluster 78\n",
      "PGF_00036543 Aerobic glycerol-3-phosphate dehydrogenase (EC 1.1.5.3)\n",
      "-----------------\n",
      "cluster 79\n",
      "PGF_00036991 Probable cation-transporting ATPase\n",
      "-----------------\n",
      "cluster 80\n",
      "PGF_00037173 Probable low-affinity inorganic phosphate transporter\n",
      "-----------------\n",
      "cluster 81\n",
      "PGF_00037586 \"Prolyl-tRNA synthetase (EC 6.1.1.15), archaeal/eukaryal type\"\n",
      "-----------------\n",
      "cluster 82\n",
      "PGF_00038772 Protein-L-isoaspartate O-methyltransferase (EC 2.1.1.77)\n",
      "-----------------\n",
      "cluster 83\n",
      "PGF_00041590 Putative inner membrane protein\n",
      "-----------------\n",
      "cluster 84\n",
      "PGF_00041767 Putative ion-channel protein\n",
      "-----------------\n",
      "cluster 85\n",
      "PGF_00046611 alpha-L-arabinofuranosidase (EC 3.2.1.55)\n",
      "-----------------\n",
      "cluster 86\n",
      "PGF_00047152 Redox-sensitive transcriptional activator SoxR\n",
      "-----------------\n",
      "cluster 87\n",
      "PGF_00047155 Redox-sensing transcriptional repressor Rex\n",
      "-----------------\n",
      "cluster 88\n",
      "PGF_00047734 Respiratory nitrate reductase gamma chain (EC 1.7.99.4)\n",
      "-----------------\n",
      "cluster 89\n",
      "PGF_00048964 Ribulokinase (EC 2.7.1.16)\n",
      "-----------------\n",
      "cluster 90\n",
      "PGF_00049309 S-adenosylhomocysteine deaminase (EC 3.5.4.28); Methylthioadenosine deaminase (EC 3.5.4.31)\n",
      "-----------------\n",
      "cluster 91\n",
      "PGF_00049461 SAM-dependent methyltransferase\n",
      "-----------------\n",
      "cluster 92\n",
      "PGF_00049731 Aluminum resistance protein\n",
      "-----------------\n",
      "cluster 93\n",
      "PGF_00052714 Amino acid-binding ACT\n",
      "-----------------\n",
      "cluster 94\n",
      "PGF_00053553 Soluble pyridine nucleotide transhydrogenase (EC 1.6.1.1)\n",
      "-----------------\n",
      "cluster 95\n",
      "PGF_00055284 Superoxide reductase (EC 1.15.1.2)\n",
      "-----------------\n",
      "cluster 96\n",
      "PGF_00060412 Elongation factor G-like protein TM_1651\n",
      "-----------------\n",
      "cluster 97\n",
      "PGF_00064184 UPF0061 protein YdiU\n",
      "-----------------\n",
      "cluster 98\n",
      "PGF_00064519 Uncharacterized ABC1 family protein Bbr_0249\n",
      "-----------------\n",
      "cluster 99\n",
      "PGF_00066245 \"Uridine kinase, type 2 (EC 2.7.1.48)\"\n",
      "-----------------\n",
      "cluster 100\n",
      "PGF_00066942 Xanthine phosphoribosyltransferase (EC 2.4.2.22)\n",
      "-----------------\n",
      "cluster 101\n",
      "PGF_00067192 YaeQ protein\n",
      "-----------------\n",
      "cluster 102\n",
      "PGF_00070550 2-keto-3-deoxy-D-arabino-heptulosonate-7-phosphate synthase I beta (EC 2.5.1.54)\n",
      "-----------------\n",
      "cluster 103\n",
      "PGF_00293423 hypothetical protein\n",
      "-----------------\n",
      "cluster 104\n",
      "PGF_00401757 no significant homology.\n",
      "-----------------\n",
      "cluster 105\n",
      "PGF_00401768 no significant homology.\n",
      "-----------------\n",
      "cluster 106\n",
      "PGF_00403927 Biosynthetic Aromatic amino acid aminotransferase alpha (EC 2.6.1.57) @ Aspartate aminotransferase (EC 2.6.1.1)\n",
      "-----------------\n",
      "cluster 107\n",
      "PGF_00404088 probable beta-D-galactosidase\n",
      "-----------------\n",
      "cluster 108\n",
      "PGF_00405499 \"YpfJ protein, zinc metalloprotease superfamily\"\n",
      "-----------------\n",
      "cluster 109\n",
      "PGF_00411484 radical activating enzyme\n",
      "-----------------\n",
      "cluster 110\n",
      "PGF_00412815 spore cortex-lytic enzyme SleC\n",
      "-----------------\n",
      "cluster 111\n",
      "PGF_00413298 tRNA t(6)A37-methylthiotransferase (EC 2.8.4.5)\n",
      "-----------------\n",
      "cluster 112\n",
      "PGF_00414866 CBS domain protein\n",
      "-----------------\n",
      "cluster 113\n",
      "PGF_00416702 Catalase-peroxidase KatG (EC 1.11.1.21)\n",
      "-----------------\n",
      "cluster 114\n",
      "PGF_00417319 MreB-like protein (Mbl protein)\n",
      "-----------------\n",
      "cluster 115\n",
      "PGF_00426992 TnpY-like protein\n",
      "-----------------\n",
      "cluster 116\n",
      "PGF_00497557 Uncharacterized protein YjgR\n",
      "-----------------\n",
      "cluster 117\n",
      "PGF_00552739 NADPH-dependent butanol dehydrogenase\n",
      "-----------------\n",
      "cluster 118\n",
      "PGF_00596539 \"Efflux ABC transporter for glutathione/L-cysteine, essential for assembly of bd-type respiratory oxidases => CydD subunit\"\n",
      "-----------------\n",
      "cluster 119\n",
      "PGF_00671335 Cinnamyl alcohol dehydrogenase/reductase (EC 1.1.1.195) @ Alcohol dehydrogenase (EC 1.1.1.1)\n",
      "-----------------\n",
      "cluster 120\n",
      "PGF_00692866 \"Dipeptide ABC transporter, ATP-binding protein DppD (TC 3.A.1.5.2)\"\n",
      "-----------------\n",
      "cluster 121\n",
      "PGF_00708956 \"Uncharacterized protein TDE2370, clustered with polyferredoxin\"\n",
      "-----------------\n",
      "cluster 122\n",
      "PGF_00709443 Twin-arginine translocation protein TatB\n",
      "-----------------\n",
      "cluster 123\n",
      "PGF_00821471 putative rRNA methylase\n",
      "-----------------\n",
      "cluster 124\n",
      "PGF_00911329 Acryloyl-CoA reductase AcuI/YhdH (EC 1.3.1.84)\n",
      "-----------------\n",
      "cluster 125\n",
      "PGF_00917689 Putative FabK-like enoyl-[acyl-carrier-protein] reductase\n",
      "-----------------\n",
      "cluster 126\n",
      "PGF_00942168 putative acetyltransferase\n",
      "-----------------\n",
      "cluster 127\n",
      "PGF_00993283 Pyridoxal-5'-phosphate-dependent enzyme beta superfamily (fold type II)\n",
      "-----------------\n",
      "cluster 128\n",
      "PGF_00998115 ABC transporter-like sensor ATP-binding protein\n",
      "-----------------\n",
      "cluster 129\n",
      "PGF_01033770 Dihydroorotate dehydrogenase (quinone) (EC 1.3.5.2)\n",
      "-----------------\n",
      "cluster 130\n",
      "PGF_01083791 DNA primase amino-terminal domain\n",
      "-----------------\n",
      "cluster 131\n",
      "PGF_01107591 \"Putative glycogen debranching enzyme, archaeal type, TIGR01561\"\n",
      "-----------------\n",
      "cluster 132\n",
      "PGF_01110486 Flavodoxin reductases (ferredoxin-NADPH reductases) family 1\n",
      "-----------------\n",
      "cluster 133\n",
      "PGF_01124892 \"archaeal ATPase, fused to C-terminal DUF234 domain\"\n",
      "-----------------\n",
      "cluster 134\n",
      "PGF_01147190 Deoxyribodipyrimidine photolyase (EC 4.1.99.3)\n",
      "-----------------\n",
      "cluster 135\n",
      "PGF_01154330 Polyphosphate kinase 2 (EC 2.7.4.1)\n",
      "-----------------\n",
      "cluster 136\n",
      "PGF_01189288 \"Oligo-1,6-glucosidase (EC 3.2.1.10)\"\n",
      "-----------------\n",
      "cluster 137\n",
      "PGF_01264039 Pyrophosphate-dependent fructose 6-phosphate-1-kinase (EC 2.7.1.90)\n",
      "-----------------\n",
      "cluster 138\n",
      "PGF_01266772 hypothetical protein\n",
      "-----------------\n",
      "cluster 139\n",
      "PGF_01284176 Rubrerythrin\n",
      "-----------------\n",
      "cluster 140\n",
      "PGF_01333294 Activator of (R)-2-hydroxyglutaryl-CoA dehydratase\n",
      "-----------------\n",
      "cluster 141\n",
      "PGF_01462537 \"Efflux ABC transporter, permease/ATP-binding protein YwjA\"\n",
      "-----------------\n",
      "cluster 142\n",
      "PGF_01469197 \"RNA methyltransferase, TrmA family\"\n",
      "-----------------\n",
      "cluster 143\n",
      "PGF_01474349 \"Formate dehydrogenase-O, major subunit (EC 1.2.1.2)\"\n",
      "-----------------\n",
      "cluster 144\n",
      "PGF_01632255 S-(hydroxymethyl)glutathione dehydrogenase (EC 1.1.1.284)\n",
      "-----------------\n",
      "cluster 145\n",
      "PGF_01667671 Cytidylate kinase (EC 2.7.4.25)\n",
      "-----------------\n",
      "cluster 146\n",
      "PGF_01668012 Sulfur carrier protein FdhD\n",
      "-----------------\n"
     ]
    },
    {
     "name": "stdout",
     "output_type": "stream",
     "text": [
      "cluster 147\n",
      "PGF_01676425 Alkaline shock protein\n",
      "-----------------\n",
      "cluster 148\n",
      "PGF_01874968 Hypothetical protein Cj1505c\n",
      "-----------------\n",
      "cluster 149\n",
      "PGF_01915472 Dihydrolipoamide acetyltransferase component of pyruvate dehydrogenase complex (EC 2.3.1.12)\n",
      "-----------------\n",
      "cluster 150\n",
      "PGF_01937476 BioD-like N-terminal domain / Phosphate acetyltransferase (EC 2.3.1.8)\n",
      "-----------------\n",
      "cluster 151\n",
      "PGF_01982773 \"Acetyl-coenzyme A carboxyl transferase alpha chain (EC 6.4.1.2) / Acetyl-coenzyme A carboxyl transferase beta chain (EC 6.4.1.2); Propionyl-CoA carboxylase beta chain (EC 6.4.1.3); Methylmalonyl-CoA decarboxylase, alpha chain (EC 4.1.1.41)\"\n",
      "-----------------\n",
      "cluster 152\n",
      "PGF_02029456 \"Ferrochelatase, protoheme ferro-lyase (EC 4.99.1.1)\"\n",
      "-----------------\n",
      "cluster 153\n",
      "PGF_02037786 \"Enoyl-[acyl-carrier-protein] reductase [FMN, NADH] (EC 1.3.1.9), FabK => refractory to triclosan\"\n",
      "-----------------\n",
      "cluster 154\n",
      "PGF_02085373 UPF0225 protein YchJ\n",
      "-----------------\n",
      "cluster 155\n",
      "PGF_02230794 Molybdenum cofactor guanylyltransferase (EC 2.7.7.77)\n",
      "-----------------\n",
      "cluster 156\n",
      "PGF_02278882 Iron-sulfur flavoprotein\n",
      "-----------------\n",
      "cluster 157\n",
      "PGF_02280536 Dienelactone hydrolase family protein\n",
      "-----------------\n",
      "cluster 158\n",
      "PGF_02316562 Periplasmic [FeFe] hydrogenase large subunit (EC 1.12.7.2)\n",
      "-----------------\n",
      "cluster 159\n",
      "PGF_02489591 Uncharacterized Nudix hydrolase NudL\n",
      "-----------------\n",
      "cluster 160\n",
      "PGF_02622010 Uncharacterized glycosyltransferase YkoT\n",
      "-----------------\n",
      "cluster 161\n",
      "PGF_02737404 Trehalose-6-phosphate phosphatase (EC 3.1.3.12)\n",
      "-----------------\n",
      "cluster 162\n",
      "PGF_02818638 Hemolysins and related proteins containing CBS domains\n",
      "-----------------\n",
      "cluster 163\n",
      "PGF_02854165 hypothetical protein\n",
      "-----------------\n",
      "cluster 164\n",
      "PGF_02904191 NifU-related domain containing protein\n",
      "-----------------\n",
      "cluster 165\n",
      "PGF_02905791 Multicopper oxidase\n",
      "-----------------\n",
      "cluster 166\n",
      "PGF_03013281 Bis-ABC ATPase CAC0528\n",
      "-----------------\n",
      "cluster 167\n",
      "PGF_03081665 \"Cell division integral membrane protein, YggT and half-length relatives\"\n",
      "-----------------\n",
      "cluster 168\n",
      "PGF_03244749 Bis-ABC ATPase SPy1206\n",
      "-----------------\n",
      "cluster 169\n",
      "PGF_03427698 \"3',5'-cyclic-nucleotide phosphodiesterase (EC 3.1.4.17)\"\n",
      "-----------------\n",
      "cluster 170\n",
      "PGF_03439827 Precorrin-2 oxidase (EC 1.3.1.76) @ Sirohydrochlorin ferrochelatase activity of CysG (EC 4.99.1.4) / Uroporphyrinogen-III methyltransferase (EC 2.1.1.107)\n",
      "-----------------\n",
      "cluster 171\n",
      "PGF_03647550 UPF0234 protein Yitk\n",
      "-----------------\n",
      "cluster 172\n",
      "PGF_03674355 Thioesterase\n",
      "-----------------\n",
      "cluster 173\n",
      "PGF_03685660 Uncharacterized MFS-type transporter YxiO\n",
      "-----------------\n",
      "cluster 174\n",
      "PGF_03752790 Hcp transcriptional regulator HcpR (Crp/Fnr family)\n",
      "-----------------\n",
      "cluster 175\n",
      "PGF_03788986 Uncharacterized di-Fe4-S4 cluster-containing protein MA_0367\n",
      "-----------------\n",
      "cluster 176\n",
      "PGF_03790089 Uncharacterized di-Fe4-S4 cluster-containing protein AF_1153\n",
      "-----------------\n",
      "cluster 177\n",
      "PGF_03844200 \"Tas protein, an NADP(H)-dependent aldo-keto reductase\"\n",
      "-----------------\n",
      "cluster 178\n",
      "PGF_03854585 alpha-galactosidase (EC 3.2.1.22)\n",
      "-----------------\n",
      "cluster 179\n",
      "PGF_04133028 NADH-dependent butanol dehydrogenase A (EC 1.1.1.-)\n",
      "-----------------\n",
      "cluster 180\n",
      "PGF_04139053 Uroporphyrinogen III decarboxylase (EC 4.1.1.37)\n",
      "-----------------\n",
      "cluster 181\n",
      "PGF_04337880 Gamma-aminobutyrate:alpha-ketoglutarate aminotransferase (EC 2.6.1.19)\n",
      "-----------------\n",
      "cluster 182\n",
      "PGF_04515164 Cytochrome d ubiquinol oxidase subunit X (EC 1.10.3.-)\n",
      "-----------------\n",
      "cluster 183\n",
      "PGF_04567743 Flavohemoglobin / Nitric oxide dioxygenase (EC 1.14.12.17)\n",
      "-----------------\n",
      "cluster 184\n",
      "PGF_04582196 Soluble lytic murein transglycosylase (EC 4.2.2.n1)\n",
      "-----------------\n",
      "cluster 185\n",
      "PGF_04596496 Quinone oxidoreductase (EC 1.6.5.5)\n",
      "-----------------\n",
      "cluster 186\n",
      "PGF_04681578 Alkyl hydroperoxide reductase subunit C-like protein\n",
      "-----------------\n",
      "cluster 187\n",
      "PGF_04745574 dCMP deaminase (EC 3.5.4.12)\n",
      "-----------------\n",
      "cluster 188\n",
      "PGF_05091456 Uncharacterized inner membrane protein RarD\n",
      "-----------------\n",
      "cluster 189\n",
      "PGF_05148076 Membrane-associated zinc metalloprotease\n",
      "-----------------\n",
      "cluster 190\n",
      "PGF_05837052 Isocitrate lyase (EC 4.1.3.1)\n",
      "-----------------\n",
      "cluster 191\n",
      "PGF_05841109 Sodium/proline symporter\n",
      "-----------------\n",
      "cluster 192\n",
      "PGF_05867827 Molybdopterin-synthase adenylyltransferase (EC 2.7.7.80)\n",
      "-----------------\n",
      "cluster 193\n",
      "PGF_06030909 Putative formate dehydrogenase oxidoreductase protein\n",
      "-----------------\n",
      "cluster 194\n",
      "PGF_06183957 Guanylate kinase-like protein\n",
      "-----------------\n",
      "cluster 195\n",
      "PGF_06247943 Uncharacterized protein BT3327\n",
      "-----------------\n",
      "cluster 196\n",
      "PGF_06257310 Na+-driven multidrug efflux pump\n",
      "-----------------\n",
      "cluster 197\n",
      "PGF_06338624 Molybdopterin binding oxidoreductase small subunit\n",
      "-----------------\n",
      "cluster 198\n",
      "PGF_06457203 Cytochrome b561\n",
      "-----------------\n",
      "cluster 199\n",
      "PGF_06535427 Uncharacterized DUF1113 membrane protein family\n",
      "-----------------\n",
      "cluster 200\n",
      "PGF_06563893 Putative DNA-binding protein in cluster with Type I restriction-modification system\n",
      "-----------------\n",
      "cluster 201\n",
      "PGF_06757295 Threonine dehydratase biosynthetic (EC 4.3.1.19)\n",
      "-----------------\n",
      "cluster 202\n",
      "PGF_06781655 Benzoate transport protein\n",
      "-----------------\n",
      "cluster 203\n",
      "PGF_06852796 Na+/H+-dicarboxylate symporter\n",
      "-----------------\n",
      "cluster 204\n",
      "PGF_07071261 GTP cyclohydrolase II (EC 3.5.4.25)\n",
      "-----------------\n",
      "cluster 205\n",
      "PGF_07117522 tRNA/rRNA cytosine-C5-methyltransferase\n",
      "-----------------\n",
      "cluster 206\n",
      "PGF_07157721 \"Heme O synthase, protoheme IX farnesyltransferase, COX10-CtaB\"\n",
      "-----------------\n",
      "cluster 207\n",
      "PGF_07176000 Gluconokinase (EC 2.7.1.12)\n",
      "-----------------\n",
      "cluster 208\n",
      "PGF_07204877 Succinate-semialdehyde dehydrogenase [NAD(P)+] (EC 1.2.1.16)\n",
      "-----------------\n",
      "cluster 209\n",
      "PGF_07329815 hypothetical protein\n",
      "-----------------\n",
      "cluster 210\n",
      "PGF_07425883 \"Ferredoxin, 2Fe-2S\"\n",
      "-----------------\n",
      "cluster 211\n",
      "PGF_07504878 hypothetical protein\n",
      "-----------------\n",
      "cluster 212\n",
      "PGF_07550057 FIG002473: Protein YcaR in KDO2-Lipid A biosynthesis cluster\n",
      "-----------------\n",
      "cluster 213\n",
      "PGF_07629184 Cytosol aminopeptidase PepA (EC 3.4.11.1)\n",
      "-----------------\n",
      "cluster 214\n",
      "PGF_07654591 Organic hydroperoxide resistance protein\n",
      "-----------------\n",
      "cluster 215\n",
      "PGF_07723617 Putative membrane protease YugP\n",
      "-----------------\n",
      "cluster 216\n",
      "PGF_07854425 Superoxide dismutase [Cu-Zn] precursor (EC 1.15.1.1)\n",
      "-----------------\n",
      "cluster 217\n",
      "PGF_07888855 D-amino acid dehydrogenase (EC 1.4.99.6)\n",
      "-----------------\n",
      "cluster 218\n",
      "PGF_07925636 UPF0126 inner membrane protein YicG\n",
      "-----------------\n",
      "cluster 219\n",
      "PGF_07941512 23S rRNA (uracil(1939)-C(5))-methyltransferase (EC 2.1.1.190)\n",
      "-----------------\n",
      "cluster 220\n",
      "PGF_08059713 \"Phosphocarrier protein, nitrogen regulation associated\"\n",
      "-----------------\n",
      "cluster 221\n",
      "PGF_08060212 \"Arsenate reductase (EC 1.20.4.1) glutaredoxin-coupled, glutaredoxin-like family\"\n",
      "-----------------\n",
      "cluster 222\n",
      "PGF_08094426 Inner-membrane proton/drug antiporter (MSF type) of tripartite multidrug efflux system\n",
      "-----------------\n",
      "cluster 223\n",
      "PGF_08126536 Flavoprotein\n",
      "-----------------\n",
      "cluster 224\n",
      "PGF_08199696 Glutathione reductase (EC 1.8.1.7)\n",
      "-----------------\n",
      "cluster 225\n",
      "PGF_08364774 \"Fructose-1,6-bisphosphatase, GlpX type (EC 3.1.3.11)\"\n",
      "-----------------\n",
      "cluster 226\n",
      "PGF_08514768 \"Glutathione S-transferase, omega (EC 2.5.1.18)\"\n",
      "-----------------\n",
      "cluster 227\n",
      "PGF_08913741 \"Multi antimicrobial extrusion protein (Na(+)/drug antiporter), MATE family of MDR efflux pumps\"\n",
      "-----------------\n",
      "cluster 228\n",
      "PGF_08946513 Flavodoxin\n",
      "-----------------\n",
      "cluster 229\n",
      "PGF_09375481 \"Uncharacterized protein YfgD, not an arsenate reductase\"\n",
      "-----------------\n",
      "cluster 230\n",
      "PGF_09398028 Uncharacterized protease YrrO\n",
      "-----------------\n",
      "cluster 231\n",
      "PGF_09561824 Excisionase protein Cthe_0522\n",
      "-----------------\n",
      "cluster 232\n",
      "PGF_09612526 \"Transcriptional regulator, Xre family\"\n",
      "-----------------\n",
      "cluster 233\n",
      "PGF_09847065 Luciferase-like monooxygenase YhbW\n",
      "-----------------\n",
      "cluster 234\n",
      "PGF_09996125 \"NADH:flavin oxidoreductases, Old Yellow Enzyme family\"\n",
      "-----------------\n",
      "cluster 235\n",
      "PGF_10078722 FeoA-like protein CKL_1603\n",
      "-----------------\n",
      "cluster 236\n",
      "PGF_10289069 \"RNA pseudouridylate synthase, group 1\"\n",
      "-----------------\n",
      "cluster 237\n",
      "PGF_10292989 Protease II (EC 3.4.21.83)\n",
      "-----------------\n",
      "cluster 238\n",
      "PGF_10317245 Iron-sulfur cluster assembly ATPase protein SufC\n",
      "-----------------\n",
      "cluster 239\n",
      "PGF_10333281 RNA pseudouridylate synthase BT0642\n",
      "-----------------\n",
      "cluster 240\n",
      "PGF_10333762 Na+/H+ antiporter\n",
      "-----------------\n",
      "cluster 241\n",
      "PGF_10337148 L-Proline/Glycine betaine transporter ProP\n",
      "-----------------\n",
      "cluster 242\n",
      "PGF_10359618 Heptaprenyl diphosphate synthase component I (EC 2.5.1.30)\n",
      "-----------------\n",
      "cluster 243\n",
      "PGF_10368922 Alanyl-tRNA synthetase family protein\n",
      "-----------------\n",
      "cluster 244\n",
      "PGF_10424554 Ferredoxin reductase\n",
      "-----------------\n",
      "cluster 245\n",
      "PGF_10471787 \"Uncharacterized ATPase, AAA superfamily\"\n",
      "-----------------\n",
      "cluster 246\n",
      "PGF_10506571 DNA polymerase III epsilon subunit (EC 2.7.7.7)\n",
      "-----------------\n",
      "cluster 247\n",
      "PGF_10522720 Metal-dependent hydrolase\n",
      "-----------------\n",
      "cluster 248\n",
      "PGF_12758906 Ferrous iron transporter-associated protein FeoA / Ferrous iron transporter FeoB\n",
      "-----------------\n",
      "cluster 249\n",
      "PGF_12946886 Low-specificity L-threonine aldolase (EC 4.1.2.48)\n",
      "-----------------\n"
     ]
    }
   ],
   "source": [
    "for i, cluster in enumerate(clusters):\n",
    "    print('cluster', i)\n",
    "    for pgfam_ind in cluster:\n",
    "        pgfam = k_best_pgfams[pgfam_ind]\n",
    "        print(pgfam, pgfams[pgfam])\n",
    "    print('-----------------')"
   ]
  },
  {
   "cell_type": "markdown",
   "metadata": {},
   "source": [
    "## Final WSPC model\n",
    "A random forest model, which includes the selected genes as features"
   ]
  },
  {
   "cell_type": "code",
   "execution_count": 26,
   "metadata": {
    "scrolled": true
   },
   "outputs": [
    {
     "name": "stdout",
     "output_type": "stream",
     "text": [
      "false_positive: 21,total NHPs: 102\n",
      "false_negative: 6,total HPs: 102\n",
      "BAcc: 0.87\n",
      "Sensitivity: 0.94\n",
      "Specificity: 0.79\n",
      "AUPR: 0.96\n",
      "AUROC: 0.95\n"
     ]
    }
   ],
   "source": [
    "WSPC, results = train_and_predict.train_and_predict(X_train_raw, y_train, X_test_raw, y_test, features=cluster_pgfams)"
   ]
  },
  {
   "cell_type": "code",
   "execution_count": 264,
   "metadata": {},
   "outputs": [],
   "source": [
    "predictions, predictions_probs = train_and_predict.predict(X_test_raw, WSPC)"
   ]
  },
  {
   "cell_type": "code",
   "execution_count": 265,
   "metadata": {},
   "outputs": [
    {
     "data": {
      "text/html": [
       "<div>\n",
       "<style scoped>\n",
       "    .dataframe tbody tr th:only-of-type {\n",
       "        vertical-align: middle;\n",
       "    }\n",
       "\n",
       "    .dataframe tbody tr th {\n",
       "        vertical-align: top;\n",
       "    }\n",
       "\n",
       "    .dataframe thead th {\n",
       "        text-align: right;\n",
       "    }\n",
       "</style>\n",
       "<table border=\"1\" class=\"dataframe\">\n",
       "  <thead>\n",
       "    <tr style=\"text-align: right;\">\n",
       "      <th></th>\n",
       "      <th>predictions</th>\n",
       "      <th>predictions_probs</th>\n",
       "    </tr>\n",
       "    <tr>\n",
       "      <th>Genome ID</th>\n",
       "      <th></th>\n",
       "      <th></th>\n",
       "    </tr>\n",
       "  </thead>\n",
       "  <tbody>\n",
       "    <tr>\n",
       "      <th>163603.4</th>\n",
       "      <td>1</td>\n",
       "      <td>0.62</td>\n",
       "    </tr>\n",
       "    <tr>\n",
       "      <th>648.157</th>\n",
       "      <td>1</td>\n",
       "      <td>0.98</td>\n",
       "    </tr>\n",
       "    <tr>\n",
       "      <th>565.15</th>\n",
       "      <td>1</td>\n",
       "      <td>0.93</td>\n",
       "    </tr>\n",
       "    <tr>\n",
       "      <th>29459.655</th>\n",
       "      <td>1</td>\n",
       "      <td>1.00</td>\n",
       "    </tr>\n",
       "    <tr>\n",
       "      <th>87883.284</th>\n",
       "      <td>1</td>\n",
       "      <td>0.99</td>\n",
       "    </tr>\n",
       "  </tbody>\n",
       "</table>\n",
       "</div>"
      ],
      "text/plain": [
       "           predictions  predictions_probs\n",
       "Genome ID                                \n",
       "163603.4             1               0.62\n",
       "648.157              1               0.98\n",
       "565.15               1               0.93\n",
       "29459.655            1               1.00\n",
       "87883.284            1               0.99"
      ]
     },
     "execution_count": 265,
     "metadata": {},
     "output_type": "execute_result"
    }
   ],
   "source": [
    "predict_df = pd.DataFrame({'predictions':predictions, 'predictions_probs':predictions_probs}, index=X_test_raw.index)\n",
    "predict_df.head()"
   ]
  },
  {
   "cell_type": "code",
   "execution_count": 266,
   "metadata": {},
   "outputs": [],
   "source": [
    "save = False\n",
    "\n",
    "if save:\n",
    "    # save predictions\n",
    "    path = Path('..\\comp_analysis')\n",
    "    predict_df.to_csv(path/'wspc_test_preds.csv')\n",
    "    \n",
    "    #save model\n",
    "    out_path = r'..\\WSPC Model'\n",
    "    model_filename = 'WSPC_model'\n",
    "    util.save_model(out_path, model_filename, WSPC)"
   ]
  },
  {
   "cell_type": "markdown",
   "metadata": {},
   "source": [
    "## Novel species"
   ]
  },
  {
   "cell_type": "code",
   "execution_count": 19,
   "metadata": {},
   "outputs": [],
   "source": [
    "SPECIES = 'species'\n",
    "GENUS = 'genus'"
   ]
  },
  {
   "cell_type": "markdown",
   "metadata": {},
   "source": [
    "All classified species in train"
   ]
  },
  {
   "cell_type": "code",
   "execution_count": 20,
   "metadata": {},
   "outputs": [],
   "source": [
    "train_species = set(get_first_tax_desc(genome, SPECIES) for genome in train_dataset.data.index if not get_unclassified_species(genome))"
   ]
  },
  {
   "cell_type": "code",
   "execution_count": 21,
   "metadata": {},
   "outputs": [
    {
     "data": {
      "text/plain": [
       "536"
      ]
     },
     "execution_count": 21,
     "metadata": {},
     "output_type": "execute_result"
    }
   ],
   "source": [
    "len(train_species)"
   ]
  },
  {
   "cell_type": "code",
   "execution_count": 55,
   "metadata": {},
   "outputs": [],
   "source": [
    "train_genera = set(get_first_tax_desc(genome, GENUS) for genome in train_dataset.data.index)"
   ]
  },
  {
   "cell_type": "code",
   "execution_count": 56,
   "metadata": {},
   "outputs": [
    {
     "data": {
      "text/plain": [
       "200"
      ]
     },
     "execution_count": 56,
     "metadata": {},
     "output_type": "execute_result"
    }
   ],
   "source": [
    "len(train_genera)"
   ]
  },
  {
   "cell_type": "code",
   "execution_count": 22,
   "metadata": {},
   "outputs": [],
   "source": [
    "test_species = set(get_first_tax_desc(genome, SPECIES) for genome in test_dataset.data.index if not get_unclassified_species(genome))"
   ]
  },
  {
   "cell_type": "markdown",
   "metadata": {},
   "source": [
    "All classified species in test"
   ]
  },
  {
   "cell_type": "code",
   "execution_count": 23,
   "metadata": {},
   "outputs": [
    {
     "data": {
      "text/plain": [
       "169"
      ]
     },
     "execution_count": 23,
     "metadata": {},
     "output_type": "execute_result"
    }
   ],
   "source": [
    "len(test_species)"
   ]
  },
  {
   "cell_type": "code",
   "execution_count": 24,
   "metadata": {},
   "outputs": [],
   "source": [
    "test_species_not_in_train = test_species - train_species"
   ]
  },
  {
   "cell_type": "code",
   "execution_count": 25,
   "metadata": {},
   "outputs": [
    {
     "data": {
      "text/plain": [
       "63"
      ]
     },
     "execution_count": 25,
     "metadata": {},
     "output_type": "execute_result"
    }
   ],
   "source": [
    "len(test_species_not_in_train)"
   ]
  },
  {
   "cell_type": "code",
   "execution_count": 32,
   "metadata": {},
   "outputs": [],
   "source": [
    "test_novel_genome_ids = [genome for genome in X_test_raw.index if get_first_tax_desc(genome, SPECIES) in test_species_not_in_train]"
   ]
  },
  {
   "cell_type": "code",
   "execution_count": 37,
   "metadata": {},
   "outputs": [
    {
     "name": "stdout",
     "output_type": "stream",
     "text": [
      "false_positive: 7,total NHPs: 31\n",
      "false_negative: 6,total HPs: 32\n",
      "BAcc: 0.79\n",
      "Sensitivity: 0.81\n",
      "Specificity: 0.77\n",
      "AUPR: 0.89\n",
      "AUROC: 0.87\n"
     ]
    }
   ],
   "source": [
    "novel_species_results = train_and_predict.predict_and_print_results(X_test_raw[test_novel_genome_ids], y_test[test_novel_genome_ids], WSPC)"
   ]
  },
  {
   "cell_type": "markdown",
   "metadata": {},
   "source": [
    "# Groups"
   ]
  },
  {
   "cell_type": "code",
   "execution_count": 45,
   "metadata": {},
   "outputs": [],
   "source": [
    "GROUP = 'Group'\n",
    "ONHP = 'ONHP'"
   ]
  },
  {
   "cell_type": "code",
   "execution_count": 48,
   "metadata": {},
   "outputs": [
    {
     "data": {
      "text/plain": [
       "OHP     77\n",
       "NHP     61\n",
       "ONHP    41\n",
       "HP      25\n",
       "Name: Group, dtype: int64"
      ]
     },
     "execution_count": 48,
     "metadata": {},
     "output_type": "execute_result"
    }
   ],
   "source": [
    "test_dataset.metadata[GROUP].value_counts()"
   ]
  },
  {
   "cell_type": "code",
   "execution_count": 44,
   "metadata": {},
   "outputs": [
    {
     "data": {
      "text/plain": [
       "OHP     27\n",
       "NHP     19\n",
       "ONHP    12\n",
       "HP       5\n",
       "Name: Group, dtype: int64"
      ]
     },
     "execution_count": 44,
     "metadata": {},
     "output_type": "execute_result"
    }
   ],
   "source": [
    "test_dataset.metadata.loc[test_novel_genome_ids][GROUP].value_counts()"
   ]
  },
  {
   "cell_type": "markdown",
   "metadata": {},
   "source": [
    "## Remove ONHP genomes"
   ]
  },
  {
   "cell_type": "code",
   "execution_count": 49,
   "metadata": {},
   "outputs": [],
   "source": [
    "test_no_onhp_genome_ids = [genome for genome in test_dataset.metadata.index if test_dataset.metadata.loc[genome, GROUP] != ONHP]"
   ]
  },
  {
   "cell_type": "code",
   "execution_count": 50,
   "metadata": {},
   "outputs": [
    {
     "data": {
      "text/plain": [
       "163"
      ]
     },
     "execution_count": 50,
     "metadata": {},
     "output_type": "execute_result"
    }
   ],
   "source": [
    "len(test_no_onhp_genome_ids)"
   ]
  },
  {
   "cell_type": "code",
   "execution_count": 52,
   "metadata": {},
   "outputs": [
    {
     "name": "stdout",
     "output_type": "stream",
     "text": [
      "false_positive: 4,total NHPs: 61\n",
      "false_negative: 6,total HPs: 102\n",
      "BAcc: 0.94\n",
      "Sensitivity: 0.94\n",
      "Specificity: 0.93\n",
      "AUPR: 0.99\n",
      "AUROC: 0.98\n"
     ]
    }
   ],
   "source": [
    "results_no_onhp = train_and_predict.predict_and_print_results(X_test_raw[test_no_onhp_genome_ids], y_test[test_no_onhp_genome_ids], WSPC)"
   ]
  },
  {
   "cell_type": "markdown",
   "metadata": {},
   "source": [
    "Novel species"
   ]
  },
  {
   "cell_type": "code",
   "execution_count": 54,
   "metadata": {},
   "outputs": [
    {
     "data": {
      "text/plain": [
       "51"
      ]
     },
     "execution_count": 54,
     "metadata": {},
     "output_type": "execute_result"
    }
   ],
   "source": [
    "test_novel_no_onhp_genome_ids = set(test_novel_genome_ids).intersection(test_no_onhp_genome_ids)\n",
    "len(test_novel_no_onhp_genome_ids)"
   ]
  },
  {
   "cell_type": "code",
   "execution_count": 55,
   "metadata": {},
   "outputs": [
    {
     "name": "stdout",
     "output_type": "stream",
     "text": [
      "false_positive: 2,total NHPs: 19\n",
      "false_negative: 6,total HPs: 32\n",
      "BAcc: 0.85\n",
      "Sensitivity: 0.81\n",
      "Specificity: 0.89\n",
      "AUPR: 0.96\n",
      "AUROC: 0.93\n"
     ]
    }
   ],
   "source": [
    "novel_species_results_no_onhp = train_and_predict.predict_and_print_results(X_test_raw[test_novel_no_onhp_genome_ids], y_test[test_novel_no_onhp_genome_ids], WSPC)"
   ]
  },
  {
   "cell_type": "markdown",
   "metadata": {},
   "source": [
    "# Plot Results"
   ]
  },
  {
   "cell_type": "code",
   "execution_count": 28,
   "metadata": {},
   "outputs": [],
   "source": [
    "def results_barplots(results, round_by=2):\n",
    "    fig, ax = plt.subplots(figsize=(8,6))\n",
    "    ax.bar(*zip(*results.items()))\n",
    "    ax.set_ylabel('Scores',  fontsize=18)\n",
    "    ax.set_xticklabels(results.keys(), fontsize=14)\n",
    "    ax.set_ylim([0.1, 1.05])\n",
    "    add_bar_labels(ax, round_by)\n",
    "\n",
    "    plt.show()  "
   ]
  },
  {
   "cell_type": "code",
   "execution_count": 31,
   "metadata": {},
   "outputs": [
    {
     "data": {
      "image/png": "[encoded data removed]",
      "text/plain": [
       "<Figure size 576x432 with 1 Axes>"
      ]
     },
     "metadata": {
      "needs_background": "light"
     },
     "output_type": "display_data"
    }
   ],
   "source": [
    "results_barplots(results)"
   ]
  },
  {
   "cell_type": "code",
   "execution_count": null,
   "metadata": {},
   "outputs": [],
   "source": []
  }
 ],
 "metadata": {
  "kernelspec": {
   "display_name": "Python 3",
   "language": "python",
   "name": "python3"
  },
  "language_info": {
   "codemirror_mode": {
    "name": "ipython",
    "version": 3
   },
   "file_extension": ".py",
   "mimetype": "text/x-python",
   "name": "python",
   "nbconvert_exporter": "python",
   "pygments_lexer": "ipython3",
   "version": "3.7.9"
  }
 },
 "nbformat": 4,
 "nbformat_minor": 2
}
