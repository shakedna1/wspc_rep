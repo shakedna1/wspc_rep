{
 "cells": [
  {
   "cell_type": "markdown",
   "metadata": {},
   "source": [
    "# TODO\n",
    "\n",
    "## 1. remove aupr from results -> ask Yaron about it \n",
    "## 2. remove frame from barplots\n",
    "## 3. Add label to x in the barplots\n",
    "## 4. Add barplots of 240 (250) vs. 500 (450)\n",
    "## 5. Add barplots of validation results with the final features  -> ask Yaron if we need to show PRAUC \n",
    "## 6. Add barplots and graphs like in figure 4 in the paper\n",
    "\n"
   ]
  },
  {
   "cell_type": "code",
   "execution_count": 236,
   "metadata": {},
   "outputs": [],
   "source": [
    "%reload_ext autoreload\n",
    "%autoreload 2"
   ]
  },
  {
   "cell_type": "code",
   "execution_count": 237,
   "metadata": {},
   "outputs": [],
   "source": [
    "import warnings\n",
    "warnings.filterwarnings('ignore')"
   ]
  },
  {
   "cell_type": "code",
   "execution_count": 238,
   "metadata": {},
   "outputs": [
    {
     "data": {
      "text/html": [
       "<style>.container { width:100% !important; }</style>"
      ],
      "text/plain": [
       "<IPython.core.display.HTML object>"
      ]
     },
     "metadata": {},
     "output_type": "display_data"
    }
   ],
   "source": [
    "from IPython.core.display import display, HTML\n",
    "\n",
    "# display wide notebook cells\n",
    "display(HTML(\"<style>.container { width:100% !important; }</style>\"))"
   ]
  },
  {
   "cell_type": "code",
   "execution_count": 239,
   "metadata": {},
   "outputs": [],
   "source": [
    "import feature_importance\n",
    "import feature_selection\n",
    "import functools\n",
    "import json\n",
    "import matplotlib.pyplot as plt\n",
    "import numpy as np\n",
    "import pandas as pd\n",
    "import sklearn\n",
    "import train_and_predict\n",
    "import util\n",
    "\n",
    "\n",
    "\n",
    "from data import *\n",
    "from pathlib import Path\n",
    "from sklearn.ensemble import RandomForestClassifier\n",
    "from sklearn.feature_extraction.text import CountVectorizer\n",
    "from sklearn.feature_selection import SelectKBest\n",
    "from sklearn.model_selection import StratifiedKFold\n",
    "from sklearn.pipeline import Pipeline\n"
   ]
  },
  {
   "cell_type": "markdown",
   "metadata": {},
   "source": [
    "# Read Data"
   ]
  },
  {
   "cell_type": "code",
   "execution_count": 240,
   "metadata": {},
   "outputs": [],
   "source": [
    "pd.set_option('display.max_colwidth', None)\n",
    "pd.set_option('display.max_rows', None)\n",
    "path = Path('..\\Data')"
   ]
  },
  {
   "cell_type": "code",
   "execution_count": 241,
   "metadata": {},
   "outputs": [],
   "source": [
    "train_genomes_path = path / 'train_genomes.fasta'\n",
    "train_genomes_metedata_path = path / 'train_genomes_info.csv'\n",
    "\n",
    "test_genomes_path = path / 'test_genomes.fasta'\n",
    "test_genomes_metedata_path = path / 'test_genomes_verified.csv'\n",
    "\n",
    "train_dataset = GenomesData(train_genomes_path, train_genomes_metedata_path)\n",
    "test_dataset = GenomesData(test_genomes_path, test_genomes_metedata_path)"
   ]
  },
  {
   "cell_type": "markdown",
   "metadata": {},
   "source": [
    "Check split train dataset to train and validation according to insertion date"
   ]
  },
  {
   "cell_type": "code",
   "execution_count": 242,
   "metadata": {},
   "outputs": [
    {
     "name": "stdout",
     "output_type": "stream",
     "text": [
      "train dataset 641\n",
      "train 513 validation 128\n"
     ]
    }
   ],
   "source": [
    "print('train dataset', len(train_dataset.data))\n",
    "\n",
    "split = feature_selection.split_by_insertion_date(train_dataset, proportion=0.2)\n",
    "\n",
    "train_idx, validation_idx = next(split.split())\n",
    "\n",
    "X_train_raw, X_valid_raw = train_dataset.data[train_idx], train_dataset.data[validation_idx]\n",
    "y_train, y_valid = train_dataset.y[train_idx], train_dataset.y[validation_idx]\n",
    "\n",
    "print('train', len(X_train_raw), 'validation', len(X_valid_raw))"
   ]
  },
  {
   "cell_type": "code",
   "execution_count": 243,
   "metadata": {},
   "outputs": [
    {
     "data": {
      "text/plain": [
       "1    89\n",
       "0    39\n",
       "Name: Label, dtype: int64"
      ]
     },
     "execution_count": 243,
     "metadata": {},
     "output_type": "execute_result"
    }
   ],
   "source": [
    "y_valid.value_counts()"
   ]
  },
  {
   "cell_type": "code",
   "execution_count": 244,
   "metadata": {},
   "outputs": [
    {
     "data": {
      "text/plain": [
       "Timestamp('2018-11-29 03:53:53.656000+0000', tz='UTC')"
      ]
     },
     "execution_count": 244,
     "metadata": {},
     "output_type": "execute_result"
    }
   ],
   "source": [
    "DATE_INSERTED = 'Date Inserted'\n",
    "\n",
    "min_validation_date = min(train_dataset.metadata.iloc[validation_idx, :][DATE_INSERTED])\n",
    "min_validation_date"
   ]
  },
  {
   "cell_type": "code",
   "execution_count": 245,
   "metadata": {},
   "outputs": [
    {
     "data": {
      "text/plain": [
       "Timestamp('2018-11-29 03:08:47.637000+0000', tz='UTC')"
      ]
     },
     "execution_count": 245,
     "metadata": {},
     "output_type": "execute_result"
    }
   ],
   "source": [
    "max_train_date = max(train_dataset.metadata.iloc[train_idx, :][DATE_INSERTED])\n",
    "max_train_date"
   ]
  },
  {
   "cell_type": "code",
   "execution_count": 246,
   "metadata": {},
   "outputs": [],
   "source": [
    "assert min_validation_date > max_train_date"
   ]
  },
  {
   "cell_type": "markdown",
   "metadata": {},
   "source": [
    "# Feature Selection - best k features according to chi2"
   ]
  },
  {
   "cell_type": "markdown",
   "metadata": {},
   "source": [
    "## 20% validation"
   ]
  },
  {
   "cell_type": "code",
   "execution_count": 247,
   "metadata": {
    "scrolled": true
   },
   "outputs": [
    {
     "name": "stdout",
     "output_type": "stream",
     "text": [
      "Best roc_auc score is: 0.9030538749639873\n",
      "{'k_best__k': 450}\n"
     ]
    }
   ],
   "source": [
    "min_val = 50\n",
    "max_val = 600\n",
    "inc = 50\n",
    "\n",
    "k_range = range(min_val, max_val + 1, inc)\n",
    "\n",
    "split = feature_selection.split_by_insertion_date(train_dataset, proportion=0.2)\n",
    "grid_search = feature_selection.perform_fs_k_best(train_dataset, k_range, split=split)\n",
    "print(grid_search.best_params_)\n",
    "\n",
    "param_name = 'k_best__k'\n",
    "kvals_df = feature_selection.grid_search_results_to_df(grid_search, param_name)"
   ]
  },
  {
   "cell_type": "code",
   "execution_count": 268,
   "metadata": {},
   "outputs": [],
   "source": [
    "def add_bar_labels(ax, round_by=2):\n",
    "    for c, i in enumerate(ax.patches):\n",
    "        height = round(i.get_height(), round_by)\n",
    "        ax.annotate('{}'.format(round(i.get_height(), round_by)),\n",
    "                   xy=(i.get_x() + i.get_width()/2, height),\n",
    "                   xytext=(0, 3),\n",
    "                   textcoords=\"offset points\",\n",
    "                   ha='center', va='bottom', fontsize=12)"
   ]
  },
  {
   "cell_type": "code",
   "execution_count": 271,
   "metadata": {},
   "outputs": [],
   "source": [
    "def create_fs_barplots(fs_df, width):\n",
    "    fig, ax = plt.subplots(figsize=(10,6))\n",
    "    fs_dict = dict(zip(list(fs_df.index), list(fs_df['mean_test_roc_auc'])))\n",
    "    \n",
    "    ax.set_xticks(list(fs_dict.keys()))\n",
    "    ax.bar(*zip(*fs_dict.items()), width=width)\n",
    "    ax.set_ylim([0.87, 0.905])\n",
    "    ax.set_ylabel('AUROC',  fontsize=18)\n",
    "    \n",
    "    add_bar_labels(ax, 3)"
   ]
  },
  {
   "cell_type": "code",
   "execution_count": 272,
   "metadata": {},
   "outputs": [
    {
     "name": "stdout",
     "output_type": "stream",
     "text": [
      "Validation results per k value\n"
     ]
    },
    {
     "data": {
      "image/png": "[encoded data removed]",
      "text/plain": [
       "<Figure size 720x432 with 1 Axes>"
      ]
     },
     "metadata": {
      "needs_background": "light"
     },
     "output_type": "display_data"
    }
   ],
   "source": [
    "print('Validation results per k value')\n",
    "create_fs_barplots(kvals_df, 30)"
   ]
  },
  {
   "cell_type": "markdown",
   "metadata": {},
   "source": [
    "# Feature Selection - select best feature from each cluster"
   ]
  },
  {
   "cell_type": "code",
   "execution_count": 250,
   "metadata": {
    "scrolled": true
   },
   "outputs": [
    {
     "name": "stdout",
     "output_type": "stream",
     "text": [
      "threshold=0.00, selected_features=450\n",
      "threshold=0.03, selected_features=406\n",
      "threshold=0.06, selected_features=373\n",
      "threshold=0.09, selected_features=329\n",
      "threshold=0.12, selected_features=298\n",
      "threshold=0.15, selected_features=270\n",
      "threshold=0.18, selected_features=244\n",
      "threshold=0.21, selected_features=219\n",
      "threshold=0.24, selected_features=201\n",
      "threshold=0.27, selected_features=181\n",
      "threshold=0.30, selected_features=159\n",
      "threshold=0.33, selected_features=136\n",
      "threshold=0.36, selected_features=116\n",
      "threshold=0.39, selected_features=95\n",
      "threshold=0.42, selected_features=74\n",
      "threshold=0.45, selected_features=60\n",
      "threshold=0.48, selected_features=47\n",
      "threshold=0.51, selected_features=37\n",
      "threshold=0.54, selected_features=30\n",
      "threshold=0.57, selected_features=18\n",
      "threshold=0.60, selected_features=15\n",
      "threshold=0.00, selected_features=450\n",
      "Best roc_auc score is: 0.9030538749639873\n",
      "{'cluster__threshold': 0.0}\n"
     ]
    }
   ],
   "source": [
    "min_val = 0\n",
    "max_val = 0.61\n",
    "inc = 0.03\n",
    "t_range = np.arange(min_val, max_val, inc)\n",
    "\n",
    "# created corr matrix using feature_selection.create_corr_matrix(X_train_raw, y_train) \n",
    "corr_matrix_path = path / 'X_train_corr_mat_0.8_k450.csv'\n",
    "corr_matrix_train = pd.read_csv(corr_matrix_path, index_col=0)\n",
    "dist_matrix_train = feature_selection.feature_corr_to_dist_matrix(corr_matrix_train)\n",
    "\n",
    "split = feature_selection.split_by_insertion_date(train_dataset, proportion=0.2)\n",
    "grid_search_cluster = feature_selection.perform_fs_clusters(train_dataset, dist_matrix_train, t_range, split=split)\n",
    "print(grid_search_cluster.best_params_)\n",
    "\n",
    "param_name = 'cluster__threshold'\n",
    "thresholds_df = feature_selection.grid_search_results_to_df(grid_search_cluster, param_name)"
   ]
  },
  {
   "cell_type": "code",
   "execution_count": 251,
   "metadata": {},
   "outputs": [
    {
     "name": "stdout",
     "output_type": "stream",
     "text": [
      "Validation results per threshold value\n"
     ]
    },
    {
     "data": {
      "image/png": "[encoded data removed]",
      "text/plain": [
       "<Figure size 720x432 with 1 Axes>"
      ]
     },
     "metadata": {
      "needs_background": "light"
     },
     "output_type": "display_data"
    }
   ],
   "source": [
    "print('Validation results per threshold value')\n",
    "thresholds_df_t036 = thresholds_df.loc[[i*0.03 for i in range(13)]]\n",
    "create_fs_barplots(thresholds_df_t036, 0.02)"
   ]
  },
  {
   "cell_type": "markdown",
   "metadata": {},
   "source": [
    "> Unfortunatly, there is no way to extract the number of selected features from grid search. Need to parse the printed text: \"threshold=0.00, selected_features= 450\n",
    "threshold=0.03, selected_features= 406...\""
   ]
  },
  {
   "cell_type": "markdown",
   "metadata": {},
   "source": [
    "**In the paper - show results from threshold 0 to 0.36**"
   ]
  },
  {
   "cell_type": "markdown",
   "metadata": {},
   "source": [
    "# Final model"
   ]
  },
  {
   "cell_type": "markdown",
   "metadata": {},
   "source": [
    "## Perform feature selection process on the entire train dataset, using best parameters"
   ]
  },
  {
   "cell_type": "code",
   "execution_count": 252,
   "metadata": {},
   "outputs": [],
   "source": [
    "best_k = 450\n",
    "best_t = 0.18"
   ]
  },
  {
   "cell_type": "code",
   "execution_count": 253,
   "metadata": {},
   "outputs": [
    {
     "name": "stdout",
     "output_type": "stream",
     "text": [
      "threshold=0.18, selected_features=250\n",
      "false_positive: 21,total NHPs: 102\n",
      "false_negative: 6,total HPs: 102\n",
      "BAcc: 0.87\n",
      "sensitivity: 0.94\n",
      "specificity: 0.79\n",
      "aupr_auc: 0.96\n",
      "roc_auc: 0.95\n"
     ]
    }
   ],
   "source": [
    "X_train_raw, X_test_raw = train_dataset.data, test_dataset.data\n",
    "y_train, y_test = train_dataset.y, test_dataset.y\n",
    "\n",
    "# created corr matrix using feature_selection.create_corr_matrix(X_train_raw, y_train) \n",
    "corr_matrix_path = path / 'X_train_corr_mat_k450.csv'\n",
    "X_train_corr_matrix = pd.read_csv(corr_matrix_path, index_col=0)\n",
    "X_train_dist_mat = feature_selection.feature_corr_to_dist_matrix(X_train_corr_matrix)\n",
    "\n",
    "fs_pipeline = Pipeline(steps=[('vectorize', CountVectorizer(lowercase=False, binary=True)),\n",
    "                               ('k_best', SelectKBest(score_func=sklearn.feature_selection.chi2, k=best_k)),\n",
    "                               ('cluster', feature_selection.SelectHierarchicalClustering(X_train_dist_mat, threshold=best_t)),\n",
    "                               ('rf', RandomForestClassifier(random_state=0))])\n",
    "\n",
    "fs_pipeline.fit(X_train_raw, y_train)\n",
    "\n",
    "results = train_and_predict.predict_and_print_results(X_test_raw, y_test, fs_pipeline)"
   ]
  },
  {
   "cell_type": "code",
   "execution_count": 254,
   "metadata": {},
   "outputs": [
    {
     "data": {
      "text/plain": [
       "1    428\n",
       "0    213\n",
       "Name: Label, dtype: int64"
      ]
     },
     "execution_count": 254,
     "metadata": {},
     "output_type": "execute_result"
    }
   ],
   "source": [
    "y_train.value_counts()"
   ]
  },
  {
   "cell_type": "markdown",
   "metadata": {},
   "source": [
    "## Extract final features"
   ]
  },
  {
   "cell_type": "code",
   "execution_count": 255,
   "metadata": {},
   "outputs": [],
   "source": [
    "all_pgfams = pd.array(fs_pipeline['vectorize'].get_feature_names())\n",
    "k_best_pgfams = all_pgfams[fs_pipeline['k_best'].get_support()]\n",
    "cluster_pgfams = k_best_pgfams[fs_pipeline['cluster'].get_support()]"
   ]
  },
  {
   "cell_type": "code",
   "execution_count": 256,
   "metadata": {},
   "outputs": [
    {
     "data": {
      "text/plain": [
       "393042"
      ]
     },
     "execution_count": 256,
     "metadata": {},
     "output_type": "execute_result"
    }
   ],
   "source": [
    "len(all_pgfams)"
   ]
  },
  {
   "cell_type": "code",
   "execution_count": 257,
   "metadata": {},
   "outputs": [],
   "source": [
    "vectorizer = CountVectorizer(lowercase=False, binary=True, vocabulary=cluster_pgfams)\n",
    "X_train_fs_clust = train_dataset.vectorize_data(vectorizer)"
   ]
  },
  {
   "cell_type": "code",
   "execution_count": 258,
   "metadata": {},
   "outputs": [],
   "source": [
    "assert all(cluster_pgfams == vectorizer.get_feature_names())"
   ]
  },
  {
   "cell_type": "code",
   "execution_count": 259,
   "metadata": {},
   "outputs": [],
   "source": [
    "assert all(cluster_pgfams == X_train_fs_clust.columns)"
   ]
  },
  {
   "cell_type": "code",
   "execution_count": 260,
   "metadata": {},
   "outputs": [],
   "source": [
    "vectorizer = CountVectorizer(lowercase=False, binary=True, vocabulary=k_best_pgfams)\n",
    "X_train_fs_k_best = train_dataset.vectorize_data(vectorizer)"
   ]
  },
  {
   "cell_type": "code",
   "execution_count": 261,
   "metadata": {},
   "outputs": [
    {
     "data": {
      "text/plain": [
       "68.3802547338115"
      ]
     },
     "execution_count": 261,
     "metadata": {},
     "output_type": "execute_result"
    }
   ],
   "source": [
    "chi2_vals, __ = sklearn.feature_selection.chi2(X_train_fs_k_best, y_train)\n",
    "min(chi2_vals)"
   ]
  },
  {
   "cell_type": "code",
   "execution_count": 262,
   "metadata": {},
   "outputs": [
    {
     "data": {
      "text/plain": [
       "(139, 35)"
      ]
     },
     "execution_count": 262,
     "metadata": {},
     "output_type": "execute_result"
    }
   ],
   "source": [
    "def get_hp_to_nhp_count(X, y, pgfam):\n",
    "    return feature_importance.count_hp_vs_nhp(X[X[pgfam]==1].index, y)\n",
    "\n",
    "hp_features = []\n",
    "nhp_features = []\n",
    "\n",
    "for pgfam in k_best_pgfams:\n",
    "    hp, nhp = get_hp_to_nhp_count(X_train_fs_k_best, y_train, pgfam)\n",
    "    if hp > nhp:\n",
    "        hp_features.append(hp)\n",
    "    else:\n",
    "        nhp_features.append(nhp)\n",
    "        \n",
    "min(hp_features), min(nhp_features)"
   ]
  },
  {
   "cell_type": "markdown",
   "metadata": {},
   "source": [
    "## Final WSPC model\n",
    "A random forest model, which includes the selected genes as features"
   ]
  },
  {
   "cell_type": "code",
   "execution_count": 263,
   "metadata": {
    "scrolled": true
   },
   "outputs": [
    {
     "name": "stdout",
     "output_type": "stream",
     "text": [
      "false_positive: 21,total NHPs: 102\n",
      "false_negative: 6,total HPs: 102\n",
      "BAcc: 0.87\n",
      "sensitivity: 0.94\n",
      "specificity: 0.79\n",
      "aupr_auc: 0.96\n",
      "roc_auc: 0.95\n"
     ]
    }
   ],
   "source": [
    "WSPC, results = train_and_predict.train_and_predict(X_train_raw, y_train, X_test_raw, y_test, features=cluster_pgfams)"
   ]
  },
  {
   "cell_type": "code",
   "execution_count": 264,
   "metadata": {},
   "outputs": [],
   "source": [
    "predictions, predictions_probs = train_and_predict.predict(X_test_raw, WSPC)"
   ]
  },
  {
   "cell_type": "code",
   "execution_count": 265,
   "metadata": {},
   "outputs": [
    {
     "data": {
      "text/html": [
       "<div>\n",
       "<style scoped>\n",
       "    .dataframe tbody tr th:only-of-type {\n",
       "        vertical-align: middle;\n",
       "    }\n",
       "\n",
       "    .dataframe tbody tr th {\n",
       "        vertical-align: top;\n",
       "    }\n",
       "\n",
       "    .dataframe thead th {\n",
       "        text-align: right;\n",
       "    }\n",
       "</style>\n",
       "<table border=\"1\" class=\"dataframe\">\n",
       "  <thead>\n",
       "    <tr style=\"text-align: right;\">\n",
       "      <th></th>\n",
       "      <th>predictions</th>\n",
       "      <th>predictions_probs</th>\n",
       "    </tr>\n",
       "    <tr>\n",
       "      <th>Genome ID</th>\n",
       "      <th></th>\n",
       "      <th></th>\n",
       "    </tr>\n",
       "  </thead>\n",
       "  <tbody>\n",
       "    <tr>\n",
       "      <th>163603.4</th>\n",
       "      <td>1</td>\n",
       "      <td>0.62</td>\n",
       "    </tr>\n",
       "    <tr>\n",
       "      <th>648.157</th>\n",
       "      <td>1</td>\n",
       "      <td>0.98</td>\n",
       "    </tr>\n",
       "    <tr>\n",
       "      <th>565.15</th>\n",
       "      <td>1</td>\n",
       "      <td>0.93</td>\n",
       "    </tr>\n",
       "    <tr>\n",
       "      <th>29459.655</th>\n",
       "      <td>1</td>\n",
       "      <td>1.00</td>\n",
       "    </tr>\n",
       "    <tr>\n",
       "      <th>87883.284</th>\n",
       "      <td>1</td>\n",
       "      <td>0.99</td>\n",
       "    </tr>\n",
       "  </tbody>\n",
       "</table>\n",
       "</div>"
      ],
      "text/plain": [
       "           predictions  predictions_probs\n",
       "Genome ID                                \n",
       "163603.4             1               0.62\n",
       "648.157              1               0.98\n",
       "565.15               1               0.93\n",
       "29459.655            1               1.00\n",
       "87883.284            1               0.99"
      ]
     },
     "execution_count": 265,
     "metadata": {},
     "output_type": "execute_result"
    }
   ],
   "source": [
    "predict_df = pd.DataFrame({'predictions':predictions, 'predictions_probs':predictions_probs}, index=X_test_raw.index)\n",
    "predict_df.head()"
   ]
  },
  {
   "cell_type": "code",
   "execution_count": 266,
   "metadata": {},
   "outputs": [],
   "source": [
    "path = Path('..\\comp_analysis')\n",
    "predict_df.to_csv(path/'wspc_test_preds.csv')"
   ]
  },
  {
   "cell_type": "code",
   "execution_count": 267,
   "metadata": {},
   "outputs": [],
   "source": [
    "out_path = r'..\\WSPC Model'\n",
    "model_filename = 'WSPC_model'\n",
    "util.save_model(out_path, model_filename, WSPC)"
   ]
  },
  {
   "cell_type": "markdown",
   "metadata": {},
   "source": [
    "# Plot Results"
   ]
  },
  {
   "cell_type": "code",
   "execution_count": 269,
   "metadata": {},
   "outputs": [],
   "source": [
    "def results_barplots(results, round_by=2):\n",
    "    fig, ax = plt.subplots(figsize=(8,6))\n",
    "    ax.bar(*zip(*results.items()))\n",
    "    ax.set_ylabel('Scores',  fontsize=18)\n",
    "    ax.set_xticklabels(results.keys(), fontsize=14)\n",
    "    ax.set_ylim([0.1, 1.05])\n",
    "    add_bar_labels(ax, round_by)\n",
    "\n",
    "    plt.show()  "
   ]
  },
  {
   "cell_type": "code",
   "execution_count": 270,
   "metadata": {},
   "outputs": [
    {
     "data": {
      "image/png": "[encoded data removed]",
      "text/plain": [
       "<Figure size 576x432 with 1 Axes>"
      ]
     },
     "metadata": {
      "needs_background": "light"
     },
     "output_type": "display_data"
    }
   ],
   "source": [
    "results_barplots(results)"
   ]
  },
  {
   "cell_type": "code",
   "execution_count": null,
   "metadata": {},
   "outputs": [],
   "source": []
  }
 ],
 "metadata": {
  "kernelspec": {
   "display_name": "Python 3",
   "language": "python",
   "name": "python3"
  },
  "language_info": {
   "codemirror_mode": {
    "name": "ipython",
    "version": 3
   },
   "file_extension": ".py",
   "mimetype": "text/x-python",
   "name": "python",
   "nbconvert_exporter": "python",
   "pygments_lexer": "ipython3",
   "version": "3.6.10"
  }
 },
 "nbformat": 4,
 "nbformat_minor": 2
}
