{
 "cells": [
  {
   "cell_type": "code",
   "execution_count": 1,
   "metadata": {},
   "outputs": [],
   "source": [
    "import os\n",
    "import pandas as pd\n",
    "from shutil import copyfile\n",
    "import sklearn\n",
    "from sklearn.pipeline import Pipeline\n",
    "from sklearn.feature_selection import SelectKBest\n",
    "from sklearn.model_selection import StratifiedKFold\n",
    "from sklearn.feature_extraction.text import CountVectorizer\n",
    "from sklearn.ensemble import RandomForestClassifier"
   ]
  },
  {
   "cell_type": "code",
   "execution_count": 2,
   "metadata": {},
   "outputs": [],
   "source": [
    "pd.set_option('display.max_rows', None)\n",
    "\n",
    "GROUP = 'Group'\n",
    "GENOME_ID = 'Genome ID'"
   ]
  },
  {
   "cell_type": "code",
   "execution_count": 3,
   "metadata": {},
   "outputs": [
    {
     "data": {
      "text/html": [
       "<div>\n",
       "<style scoped>\n",
       "    .dataframe tbody tr th:only-of-type {\n",
       "        vertical-align: middle;\n",
       "    }\n",
       "\n",
       "    .dataframe tbody tr th {\n",
       "        vertical-align: top;\n",
       "    }\n",
       "\n",
       "    .dataframe thead th {\n",
       "        text-align: right;\n",
       "    }\n",
       "</style>\n",
       "<table border=\"1\" class=\"dataframe\">\n",
       "  <thead>\n",
       "    <tr style=\"text-align: right;\">\n",
       "      <th></th>\n",
       "      <th>Genome ID</th>\n",
       "      <th>Genome Name</th>\n",
       "      <th>Label</th>\n",
       "      <th>HP/NHP entire dataset</th>\n",
       "      <th>species</th>\n",
       "      <th>References</th>\n",
       "      <th>Group</th>\n",
       "    </tr>\n",
       "    <tr>\n",
       "      <th>Genome ID</th>\n",
       "      <th></th>\n",
       "      <th></th>\n",
       "      <th></th>\n",
       "      <th></th>\n",
       "      <th></th>\n",
       "      <th></th>\n",
       "      <th></th>\n",
       "    </tr>\n",
       "  </thead>\n",
       "  <tbody>\n",
       "    <tr>\n",
       "      <th>163603.4</th>\n",
       "      <td>163603.4</td>\n",
       "      <td>Actinomadura latina strain ATCC BAA-277</td>\n",
       "      <td>HP</td>\n",
       "      <td>1/0</td>\n",
       "      <td>Actinomadura latina</td>\n",
       "      <td>\\cite{trujillo1997polyphasic}</td>\n",
       "      <td>HP</td>\n",
       "    </tr>\n",
       "    <tr>\n",
       "      <th>648.157</th>\n",
       "      <td>648.157</td>\n",
       "      <td>Aeromonas caviae strain ScAc2001</td>\n",
       "      <td>HP</td>\n",
       "      <td>9/0</td>\n",
       "      <td>Aeromonas caviae</td>\n",
       "      <td>\\cite{tang2020co}</td>\n",
       "      <td>HP</td>\n",
       "    </tr>\n",
       "    <tr>\n",
       "      <th>565.15</th>\n",
       "      <td>565.15</td>\n",
       "      <td>Atlantibacter hermannii strain 3608</td>\n",
       "      <td>HP</td>\n",
       "      <td>1/0</td>\n",
       "      <td>Atlantibacter hermannii</td>\n",
       "      <td>\\cite{ioannou2019escherichia}</td>\n",
       "      <td>HP</td>\n",
       "    </tr>\n",
       "    <tr>\n",
       "      <th>2026190.21</th>\n",
       "      <td>2026190.21</td>\n",
       "      <td>Bacillus mobilis strain 1428.155</td>\n",
       "      <td>HP</td>\n",
       "      <td>1/0</td>\n",
       "      <td>Bacillus mobilis</td>\n",
       "      <td>\\cite{2026190.21}</td>\n",
       "      <td>HP</td>\n",
       "    </tr>\n",
       "    <tr>\n",
       "      <th>29459.655</th>\n",
       "      <td>29459.655</td>\n",
       "      <td>Brucella melitensis strain HN20190002</td>\n",
       "      <td>HP</td>\n",
       "      <td>13/0</td>\n",
       "      <td>Brucella melitensis</td>\n",
       "      <td>\\cite{li2020molecular}</td>\n",
       "      <td>HP</td>\n",
       "    </tr>\n",
       "  </tbody>\n",
       "</table>\n",
       "</div>"
      ],
      "text/plain": [
       "             Genome ID                              Genome Name Label  \\\n",
       "Genome ID                                                               \n",
       "163603.4      163603.4  Actinomadura latina strain ATCC BAA-277    HP   \n",
       "648.157        648.157         Aeromonas caviae strain ScAc2001    HP   \n",
       "565.15          565.15      Atlantibacter hermannii strain 3608    HP   \n",
       "2026190.21  2026190.21         Bacillus mobilis strain 1428.155    HP   \n",
       "29459.655    29459.655    Brucella melitensis strain HN20190002    HP   \n",
       "\n",
       "           HP/NHP entire dataset                  species  \\\n",
       "Genome ID                                                   \n",
       "163603.4                     1/0      Actinomadura latina   \n",
       "648.157                      9/0         Aeromonas caviae   \n",
       "565.15                       1/0  Atlantibacter hermannii   \n",
       "2026190.21                   1/0         Bacillus mobilis   \n",
       "29459.655                   13/0      Brucella melitensis   \n",
       "\n",
       "                               References Group  \n",
       "Genome ID                                        \n",
       "163603.4    \\cite{trujillo1997polyphasic}    HP  \n",
       "648.157                 \\cite{tang2020co}    HP  \n",
       "565.15      \\cite{ioannou2019escherichia}    HP  \n",
       "2026190.21              \\cite{2026190.21}    HP  \n",
       "29459.655          \\cite{li2020molecular}    HP  "
      ]
     },
     "execution_count": 3,
     "metadata": {},
     "output_type": "execute_result"
    }
   ],
   "source": [
    "test_genome_verified = pd.read_csv('test_genomes_verified.csv', dtype=str, index_col=0)\n",
    "test_genome_verified.index = test_genome_verified[GENOME_ID]\n",
    "test_genome_verified.head()"
   ]
  },
  {
   "cell_type": "code",
   "execution_count": 4,
   "metadata": {},
   "outputs": [
    {
     "data": {
      "text/plain": [
       "HP-OPP     76\n",
       "NHP        61\n",
       "NHP-OPP    41\n",
       "HP         26\n",
       "Name: Group, dtype: int64"
      ]
     },
     "execution_count": 4,
     "metadata": {},
     "output_type": "execute_result"
    }
   ],
   "source": [
    "test_genome_verified[GROUP].value_counts()"
   ]
  },
  {
   "cell_type": "code",
   "execution_count": 20,
   "metadata": {},
   "outputs": [],
   "source": [
    "def add_true_label_col(preds_arr):\n",
    "    preds_arr = preds_arr.loc[test_genome_verified.index]    \n",
    "    for i in preds_arr.index: preds_arr.at[i, 'Label'] = test_genome_verified.at[i, 'Label']\n",
    "    preds_arr = preds_arr.replace({'Label': {'NHP': 0, 'HP': 1}})\n",
    "    \n",
    "    return preds_arr\n",
    "    "
   ]
  },
  {
   "cell_type": "code",
   "execution_count": 21,
   "metadata": {},
   "outputs": [],
   "source": [
    "def calculate_results_per_group(test_genomes, preds_arr):\n",
    "    \n",
    "    preds_arr = add_true_label_col(preds_arr)\n",
    "\n",
    "    for group_name, genomes in test_genomes.groupby(GROUP):\n",
    "        y_test_group = preds_arr.loc[genomes.index]['Label']\n",
    "        y_pred = preds_arr.loc[genomes.index]['predictions']\n",
    "        correct = sklearn.metrics.accuracy_score(y_test_group, y_pred, normalize=False)\n",
    "        accuracy = sklearn.metrics.accuracy_score(y_test_group, y_pred)\n",
    "        print(f'{group_name}\\taccuracy={accuracy:.2f} correctly predicted={correct}/{len(y_test_group)}')\n",
    "\n",
    "    "
   ]
  },
  {
   "cell_type": "markdown",
   "metadata": {},
   "source": [
    "# bacpacs resuls"
   ]
  },
  {
   "cell_type": "code",
   "execution_count": 6,
   "metadata": {},
   "outputs": [],
   "source": [
    "bacpacs_x = pd.read_csv('bacpacs_test7.2.21_X.csv')  \n",
    "bacpacs_pred_arr = pd.read_csv('bacpacs_prediction_on_newTest7.2.21.csv')  \n",
    "bacpacs_pred_arr['genome_id'] = bacpacs_x['genome_id']\n",
    "ids = []\n",
    "for i in bacpacs_pred_arr['genome_id']: ids.append(i.split('.PATRIC')[0])\n",
    "bacpacs_pred_arr['genome_id'] = ids\n",
    "bacpacs_pred_arr['true'] = ''\n",
    "bacpacs_pred_arr = bacpacs_pred_arr.set_index('genome_id') "
   ]
  },
  {
   "cell_type": "code",
   "execution_count": 22,
   "metadata": {},
   "outputs": [
    {
     "name": "stdout",
     "output_type": "stream",
     "text": [
      "BacPaCS results:\n",
      "HP\taccuracy=0.92 correctly predicted=24/26\n",
      "HP-OPP\taccuracy=0.83 correctly predicted=63/76\n",
      "NHP\taccuracy=0.72 correctly predicted=44/61\n",
      "NHP-OPP\taccuracy=0.73 correctly predicted=30/41\n"
     ]
    }
   ],
   "source": [
    "print('BacPaCS results:')\n",
    "calculate_results_per_group(test_genome_verified, bacpacs_pred_arr)"
   ]
  },
  {
   "cell_type": "markdown",
   "metadata": {},
   "source": [
    "# pathogenfinder resuls"
   ]
  },
  {
   "cell_type": "code",
   "execution_count": 80,
   "metadata": {},
   "outputs": [],
   "source": [
    "folder = 'results pathogenfinder/'\n",
    "files = os.listdir(folder)\n",
    "pathogenfinder_results = pd.DataFrame(index = test_genome_verified.index, columns = ['predictions'], dtype=int)\n",
    "for name in files:\n",
    "    if name.startswith('PathogenFinder_cdhit_raw'): continue\n",
    "    genome_id = name.split('.txt', 1)[0].split('_')[2]\n",
    "    if genome_id in  test_genome_verified.index:\n",
    "            with open(folder + name , 'r') as input_file:\n",
    "                for line in input_file: \n",
    "                    if line.startswith('Probability of being human pathogen ::'):\n",
    "                        prob = line.strip().split('\\t')[1]\n",
    "                        if float(prob) >= 0.5: pathogenfinder_results.at[genome_id, 'predictions'] = 1\n",
    "                        else: pathogenfinder_results.at[genome_id, 'predictions'] = 0\n",
    "                    # Validate that the file name match the input sequence\n",
    "                    if line.startswith('#input_seq:'):\n",
    "                        seq_id =  line.split('fig|')[1].split('.peg')[0]\n",
    "                        if genome_id != seq_id: print('ERROR')\n",
    "                        break"
   ]
  },
  {
   "cell_type": "code",
   "execution_count": 81,
   "metadata": {
    "scrolled": true
   },
   "outputs": [
    {
     "name": "stdout",
     "output_type": "stream",
     "text": [
      "Pathogenfinder results:\n",
      "HP\taccuracy=0.96 correctly predicted=25/26\n",
      "HP-OPP\taccuracy=0.84 correctly predicted=64/76\n",
      "NHP\taccuracy=0.52 correctly predicted=32/61\n",
      "NHP-OPP\taccuracy=0.17 correctly predicted=7/41\n"
     ]
    }
   ],
   "source": [
    "print('Pathogenfinder results:')\n",
    "calculate_results_per_group(test_genome_verified, pathogenfinder_results)"
   ]
  }
 ],
 "metadata": {
  "kernelspec": {
   "display_name": "Python 3",
   "language": "python",
   "name": "python3"
  },
  "language_info": {
   "codemirror_mode": {
    "name": "ipython",
    "version": 3
   },
   "file_extension": ".py",
   "mimetype": "text/x-python",
   "name": "python",
   "nbconvert_exporter": "python",
   "pygments_lexer": "ipython3",
   "version": "3.6.10"
  }
 },
 "nbformat": 4,
 "nbformat_minor": 2
}
