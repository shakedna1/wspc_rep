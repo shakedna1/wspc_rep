{
 "cells": [
  {
   "cell_type": "code",
   "execution_count": 18,
   "metadata": {},
   "outputs": [],
   "source": [
    "import os\n",
    "from pathlib import Path\n",
    "import pandas as pd\n",
    "from shutil import copyfile\n",
    "import sklearn\n",
    "from sklearn.pipeline import Pipeline\n",
    "from sklearn.feature_selection import SelectKBest\n",
    "from sklearn.model_selection import StratifiedKFold\n",
    "from sklearn.feature_extraction.text import CountVectorizer\n",
    "from sklearn.ensemble import RandomForestClassifier\n",
    "\n",
    "import sys  \n",
    "sys.path.insert(0, '../Code')\n",
    "\n",
    "from data import *"
   ]
  },
  {
   "cell_type": "code",
   "execution_count": 21,
   "metadata": {},
   "outputs": [],
   "source": [
    "pd.set_option('display.max_rows', None)\n",
    "\n",
    "GROUP = 'Group'\n",
    "GENOME_ID = 'Genome ID'\n",
    "LABEL = 'Label'"
   ]
  },
  {
   "cell_type": "code",
   "execution_count": 23,
   "metadata": {},
   "outputs": [
    {
     "data": {
      "text/html": [
       "<div>\n",
       "<style scoped>\n",
       "    .dataframe tbody tr th:only-of-type {\n",
       "        vertical-align: middle;\n",
       "    }\n",
       "\n",
       "    .dataframe tbody tr th {\n",
       "        vertical-align: top;\n",
       "    }\n",
       "\n",
       "    .dataframe thead th {\n",
       "        text-align: right;\n",
       "    }\n",
       "</style>\n",
       "<table border=\"1\" class=\"dataframe\">\n",
       "  <thead>\n",
       "    <tr style=\"text-align: right;\">\n",
       "      <th></th>\n",
       "      <th>Genome Name</th>\n",
       "      <th>Label</th>\n",
       "      <th>HP/NHP</th>\n",
       "      <th>species</th>\n",
       "      <th>References</th>\n",
       "      <th>Group</th>\n",
       "      <th>Host Name</th>\n",
       "      <th>Isolation Source</th>\n",
       "      <th>Isolation Comments</th>\n",
       "      <th>Genome Quality</th>\n",
       "      <th>Collection Date</th>\n",
       "      <th>Date Inserted</th>\n",
       "      <th>Other Clinical</th>\n",
       "      <th>Host Health</th>\n",
       "      <th>Disease</th>\n",
       "      <th>Comments</th>\n",
       "    </tr>\n",
       "    <tr>\n",
       "      <th>Genome ID</th>\n",
       "      <th></th>\n",
       "      <th></th>\n",
       "      <th></th>\n",
       "      <th></th>\n",
       "      <th></th>\n",
       "      <th></th>\n",
       "      <th></th>\n",
       "      <th></th>\n",
       "      <th></th>\n",
       "      <th></th>\n",
       "      <th></th>\n",
       "      <th></th>\n",
       "      <th></th>\n",
       "      <th></th>\n",
       "      <th></th>\n",
       "      <th></th>\n",
       "    </tr>\n",
       "  </thead>\n",
       "  <tbody>\n",
       "    <tr>\n",
       "      <th>163603.4</th>\n",
       "      <td>Actinomadura latina strain ATCC BAA-277</td>\n",
       "      <td>1</td>\n",
       "      <td>1/0</td>\n",
       "      <td>Actinomadura latina</td>\n",
       "      <td>\\cite{trujillo1997polyphasic}</td>\n",
       "      <td>HP</td>\n",
       "      <td>Human, Homo sapiens</td>\n",
       "      <td>arm of patient</td>\n",
       "      <td>NaN</td>\n",
       "      <td>Good</td>\n",
       "      <td>NaN</td>\n",
       "      <td>2020-04-26 17:38:00.943000+00:00</td>\n",
       "      <td>NaN</td>\n",
       "      <td>NaN</td>\n",
       "      <td>NaN</td>\n",
       "      <td>MicrobeNet genomes</td>\n",
       "    </tr>\n",
       "    <tr>\n",
       "      <th>648.157</th>\n",
       "      <td>Aeromonas caviae strain ScAc2001</td>\n",
       "      <td>1</td>\n",
       "      <td>9/0</td>\n",
       "      <td>Aeromonas caviae</td>\n",
       "      <td>\\cite{tang2020co}</td>\n",
       "      <td>HP</td>\n",
       "      <td>Human, Homo sapiens</td>\n",
       "      <td>Watery diarrhea</td>\n",
       "      <td>NaN</td>\n",
       "      <td>Good</td>\n",
       "      <td>2019-05</td>\n",
       "      <td>2020-01-31 23:41:12.327000+00:00</td>\n",
       "      <td>NaN</td>\n",
       "      <td>Diarrhea</td>\n",
       "      <td>NaN</td>\n",
       "      <td>Whole genome sequenced and analysis MDR isolat...</td>\n",
       "    </tr>\n",
       "    <tr>\n",
       "      <th>565.15</th>\n",
       "      <td>Atlantibacter hermannii strain 3608</td>\n",
       "      <td>1</td>\n",
       "      <td>1/0</td>\n",
       "      <td>Atlantibacter hermannii</td>\n",
       "      <td>\\cite{ioannou2019escherichia}</td>\n",
       "      <td>HP</td>\n",
       "      <td>Human, Homo sapiens</td>\n",
       "      <td>Wound swab</td>\n",
       "      <td>NaN</td>\n",
       "      <td>Good</td>\n",
       "      <td>2015</td>\n",
       "      <td>2020-02-07 13:50:54.571000+00:00</td>\n",
       "      <td>NaN</td>\n",
       "      <td>Wound infection 8</td>\n",
       "      <td>NaN</td>\n",
       "      <td>Extended Spectrum beta-lactamase producing Ent...</td>\n",
       "    </tr>\n",
       "    <tr>\n",
       "      <th>29459.655</th>\n",
       "      <td>Brucella melitensis strain HN20190002</td>\n",
       "      <td>1</td>\n",
       "      <td>13/0</td>\n",
       "      <td>Brucella melitensis</td>\n",
       "      <td>\\cite{li2020molecular}</td>\n",
       "      <td>HP</td>\n",
       "      <td>Human, Homo sapiens</td>\n",
       "      <td>NaN</td>\n",
       "      <td>NaN</td>\n",
       "      <td>Good</td>\n",
       "      <td>2019-02-04</td>\n",
       "      <td>2020-01-31 21:07:14.657000+00:00</td>\n",
       "      <td>NaN</td>\n",
       "      <td>NaN</td>\n",
       "      <td>NaN</td>\n",
       "      <td>strain was obtained from patients in Hainan,China</td>\n",
       "    </tr>\n",
       "    <tr>\n",
       "      <th>87883.284</th>\n",
       "      <td>Burkholderia multivorans strain C1576</td>\n",
       "      <td>1</td>\n",
       "      <td>107/0</td>\n",
       "      <td>Burkholderia multivorans</td>\n",
       "      <td>\\cite{silva2016long}</td>\n",
       "      <td>HP</td>\n",
       "      <td>Human, Homo sapiens</td>\n",
       "      <td>sputum</td>\n",
       "      <td>isolated from a cystic fibrosis patient</td>\n",
       "      <td>Good</td>\n",
       "      <td>1992</td>\n",
       "      <td>2020-03-27 14:33:49.442000+00:00</td>\n",
       "      <td>NaN</td>\n",
       "      <td>Cystic fibrosis</td>\n",
       "      <td>NaN</td>\n",
       "      <td>Whole genome sequencing of a clinical isolate ...</td>\n",
       "    </tr>\n",
       "  </tbody>\n",
       "</table>\n",
       "</div>"
      ],
      "text/plain": [
       "                                       Genome Name  Label HP/NHP  \\\n",
       "Genome ID                                                          \n",
       "163603.4   Actinomadura latina strain ATCC BAA-277      1    1/0   \n",
       "648.157           Aeromonas caviae strain ScAc2001      1    9/0   \n",
       "565.15         Atlantibacter hermannii strain 3608      1    1/0   \n",
       "29459.655    Brucella melitensis strain HN20190002      1   13/0   \n",
       "87883.284    Burkholderia multivorans strain C1576      1  107/0   \n",
       "\n",
       "                            species                     References Group  \\\n",
       "Genome ID                                                                  \n",
       "163603.4        Actinomadura latina  \\cite{trujillo1997polyphasic}    HP   \n",
       "648.157            Aeromonas caviae              \\cite{tang2020co}    HP   \n",
       "565.15      Atlantibacter hermannii  \\cite{ioannou2019escherichia}    HP   \n",
       "29459.655       Brucella melitensis         \\cite{li2020molecular}    HP   \n",
       "87883.284  Burkholderia multivorans           \\cite{silva2016long}    HP   \n",
       "\n",
       "                     Host Name Isolation Source  \\\n",
       "Genome ID                                         \n",
       "163603.4   Human, Homo sapiens   arm of patient   \n",
       "648.157    Human, Homo sapiens  Watery diarrhea   \n",
       "565.15     Human, Homo sapiens       Wound swab   \n",
       "29459.655  Human, Homo sapiens              NaN   \n",
       "87883.284  Human, Homo sapiens           sputum   \n",
       "\n",
       "                                Isolation Comments Genome Quality  \\\n",
       "Genome ID                                                           \n",
       "163603.4                                       NaN           Good   \n",
       "648.157                                        NaN           Good   \n",
       "565.15                                         NaN           Good   \n",
       "29459.655                                      NaN           Good   \n",
       "87883.284  isolated from a cystic fibrosis patient           Good   \n",
       "\n",
       "          Collection Date                    Date Inserted Other Clinical  \\\n",
       "Genome ID                                                                   \n",
       "163603.4              NaN 2020-04-26 17:38:00.943000+00:00            NaN   \n",
       "648.157           2019-05 2020-01-31 23:41:12.327000+00:00            NaN   \n",
       "565.15               2015 2020-02-07 13:50:54.571000+00:00            NaN   \n",
       "29459.655      2019-02-04 2020-01-31 21:07:14.657000+00:00            NaN   \n",
       "87883.284            1992 2020-03-27 14:33:49.442000+00:00            NaN   \n",
       "\n",
       "                 Host Health Disease  \\\n",
       "Genome ID                              \n",
       "163603.4                 NaN     NaN   \n",
       "648.157             Diarrhea     NaN   \n",
       "565.15     Wound infection 8     NaN   \n",
       "29459.655                NaN     NaN   \n",
       "87883.284    Cystic fibrosis     NaN   \n",
       "\n",
       "                                                    Comments  \n",
       "Genome ID                                                     \n",
       "163603.4                                  MicrobeNet genomes  \n",
       "648.157    Whole genome sequenced and analysis MDR isolat...  \n",
       "565.15     Extended Spectrum beta-lactamase producing Ent...  \n",
       "29459.655  strain was obtained from patients in Hainan,China  \n",
       "87883.284  Whole genome sequencing of a clinical isolate ...  "
      ]
     },
     "execution_count": 23,
     "metadata": {},
     "output_type": "execute_result"
    }
   ],
   "source": [
    "path = Path('..\\Data')\n",
    "test_genome_verified = MetadataReader.read(path / 'test_genomes_verified.csv')\n",
    "test_genome_verified[LABEL] = test_genome_verified[LABEL].apply(lambda label: GenomesData.label_to_int.get(label))\n",
    "\n",
    "test_genome_verified.head()"
   ]
  },
  {
   "cell_type": "code",
   "execution_count": 24,
   "metadata": {},
   "outputs": [
    {
     "data": {
      "text/plain": [
       "OHP     77\n",
       "NHP     61\n",
       "ONHP    41\n",
       "HP      25\n",
       "Name: Group, dtype: int64"
      ]
     },
     "execution_count": 24,
     "metadata": {},
     "output_type": "execute_result"
    }
   ],
   "source": [
    "test_genome_verified[GROUP].value_counts()"
   ]
  },
  {
   "cell_type": "code",
   "execution_count": 30,
   "metadata": {},
   "outputs": [],
   "source": [
    "def calculate_results_per_group(test_genomes, preds_arr):\n",
    "    \n",
    "    for group_name, genomes in test_genomes.groupby(GROUP):\n",
    "        \n",
    "        y_test_group = test_genomes.loc[genomes.index][LABEL]\n",
    "        y_pred = preds_arr.loc[genomes.index]['predictions']\n",
    "        correct = sklearn.metrics.accuracy_score(y_test_group, y_pred, normalize=False)\n",
    "        accuracy = sklearn.metrics.accuracy_score(y_test_group, y_pred)\n",
    "        print(f'{group_name}\\taccuracy={accuracy:.2f} correctly predicted={correct}/{len(y_test_group)}')\n"
   ]
  },
  {
   "cell_type": "markdown",
   "metadata": {},
   "source": [
    "# bacpacs results"
   ]
  },
  {
   "cell_type": "code",
   "execution_count": 32,
   "metadata": {},
   "outputs": [],
   "source": [
    "bacpacs_pred_arr = pd.read_csv('bacpacs_prediction_on_newTest14.2.21.csv')  \n",
    "bacpacs_pred_arr['genome_id'] = bacpacs_pred_arr['genome_id'].str.strip('.PATRIC')\n",
    "bacpacs_pred_arr = bacpacs_pred_arr.set_index('genome_id') "
   ]
  },
  {
   "cell_type": "code",
   "execution_count": 33,
   "metadata": {
    "scrolled": false
   },
   "outputs": [
    {
     "name": "stdout",
     "output_type": "stream",
     "text": [
      "BacPaCS results:\n",
      "HP\taccuracy=0.96 correctly predicted=24/25\n",
      "NHP\taccuracy=0.72 correctly predicted=44/61\n",
      "OHP\taccuracy=0.82 correctly predicted=63/77\n",
      "ONHP\taccuracy=0.73 correctly predicted=30/41\n"
     ]
    }
   ],
   "source": [
    "print('BacPaCS results:')\n",
    "\n",
    "calculate_results_per_group(test_genome_verified, bacpacs_pred_arr)"
   ]
  },
  {
   "cell_type": "markdown",
   "metadata": {},
   "source": [
    "# pathogenfinder results"
   ]
  },
  {
   "cell_type": "code",
   "execution_count": 45,
   "metadata": {},
   "outputs": [],
   "source": [
    "folder = 'results pathogenfinder/'\n",
    "files = os.listdir(folder)\n",
    "pathogenfinder_results = pd.DataFrame(index = test_genome_verified.index, columns = ['predictions'], dtype=int)\n",
    "\n",
    "for name in files:\n",
    "    if name.startswith('PathogenFinder_cdhit_raw'): continue\n",
    "        \n",
    "    genome_id = name.split('.txt', 1)[0].split('_')[2]\n",
    "    if genome_id in  test_genome_verified.index:\n",
    "            with open(folder + name , 'r') as input_file:\n",
    "                for line in input_file: \n",
    "                    if line.startswith('The organisms is predicted as human pathogenic ::'):\n",
    "                        predicted_pathogen = line.strip().split('\\t')[1]\n",
    "                        if predicted_pathogen == 'Yes': pathogenfinder_results.at[genome_id, 'predictions'] = 1\n",
    "                        elif predicted_pathogen== 'No': pathogenfinder_results.at[genome_id, 'predictions'] = 0\n",
    "                        else: print(f'Error in results of file: {name}')\n",
    "                    # Validate that the file name match the input sequence\n",
    "                    if line.startswith('#input_seq:'):\n",
    "                        seq_id =  line.split('fig|')[1].split('.peg')[0]\n",
    "                        if genome_id != seq_id: print(f'Error in file name: {name}')\n",
    "                        break"
   ]
  },
  {
   "cell_type": "code",
   "execution_count": 46,
   "metadata": {
    "scrolled": false
   },
   "outputs": [
    {
     "name": "stdout",
     "output_type": "stream",
     "text": [
      "Pathogenfinder results:\n",
      "HP\taccuracy=0.96 correctly predicted=24/25\n",
      "NHP\taccuracy=0.59 correctly predicted=36/61\n",
      "OHP\taccuracy=0.86 correctly predicted=66/77\n",
      "ONHP\taccuracy=0.29 correctly predicted=12/41\n"
     ]
    }
   ],
   "source": [
    "print('Pathogenfinder results:')\n",
    "calculate_results_per_group(test_genome_verified, pathogenfinder_results)"
   ]
  },
  {
   "cell_type": "markdown",
   "metadata": {},
   "source": [
    "# WSPC results"
   ]
  },
  {
   "cell_type": "code",
   "execution_count": 39,
   "metadata": {},
   "outputs": [],
   "source": [
    "wspc_preds = pd.read_csv('wspc_test_preds.csv', dtype={GENOME_ID: str}).set_index(GENOME_ID)"
   ]
  },
  {
   "cell_type": "code",
   "execution_count": 47,
   "metadata": {},
   "outputs": [
    {
     "name": "stdout",
     "output_type": "stream",
     "text": [
      "HP\taccuracy=1.00 correctly predicted=25/25\n",
      "NHP\taccuracy=0.93 correctly predicted=57/61\n",
      "OHP\taccuracy=0.92 correctly predicted=71/77\n",
      "ONHP\taccuracy=0.59 correctly predicted=24/41\n"
     ]
    }
   ],
   "source": [
    "calculate_results_per_group(test_genome_verified, wspc_preds)"
   ]
  }
 ],
 "metadata": {
  "kernelspec": {
   "display_name": "Python 3",
   "language": "python",
   "name": "python3"
  },
  "language_info": {
   "codemirror_mode": {
    "name": "ipython",
    "version": 3
   },
   "file_extension": ".py",
   "mimetype": "text/x-python",
   "name": "python",
   "nbconvert_exporter": "python",
   "pygments_lexer": "ipython3",
   "version": "3.7.9"
  }
 },
 "nbformat": 4,
 "nbformat_minor": 2
}
