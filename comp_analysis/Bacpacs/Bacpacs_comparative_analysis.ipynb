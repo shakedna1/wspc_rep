{
 "cells": [
  {
   "cell_type": "code",
   "execution_count": 203,
   "id": "square-indication",
   "metadata": {},
   "outputs": [],
   "source": [
    "import sys  \n",
    "sys.path.insert(0, '../../Code')\n",
    "\n",
    "import numpy as np\n",
    "import os\n",
    "import pandas as pd\n",
    "import statistics\n",
    "import train_and_predict\n",
    "import util\n",
    "import matplotlib.pyplot as plt\n",
    "from matplotlib.font_manager import FontProperties\n",
    "\n",
    "from Bio import SeqIO\n",
    "from data import *\n",
    "from sklearn.metrics import classification_report"
   ]
  },
  {
   "cell_type": "code",
   "execution_count": 235,
   "id": "conservative-angle",
   "metadata": {},
   "outputs": [],
   "source": [
    "LABEL = 'Label'\n",
    "\n",
    "WSPC = 'WSPC'\n",
    "BACPACS = 'BacPaCS'\n",
    "PATHOGEN_FINDER = 'PathogenFinder'\n",
    "PAPRBAG = 'PaPrBaG'\n",
    "\n",
    "SEN = 'Sensitivity'\n",
    "SPE = 'Specificity'\n",
    "BACC = 'BAcc'\n",
    "\n",
    "TARGET_NAMES = ['NHP', 'HP']"
   ]
  },
  {
   "cell_type": "code",
   "execution_count": 219,
   "id": "mysterious-converter",
   "metadata": {},
   "outputs": [],
   "source": [
    "def report_to_metrics(report):\n",
    "    \n",
    "    specificity = round(report['NHP']['recall'], 2)\n",
    "    sensitivity = round(report['HP']['recall'], 2)\n",
    "    bacc = round(report['macro avg']['recall'], 2)\n",
    "\n",
    "    \n",
    "    return {SPE: specificity, SEN: sensitivity, BACC: bacc}"
   ]
  },
  {
   "cell_type": "markdown",
   "id": "divided-mainstream",
   "metadata": {},
   "source": [
    "# Load Bacpacs Dataset"
   ]
  },
  {
   "cell_type": "code",
   "execution_count": 3,
   "id": "civil-shareware",
   "metadata": {},
   "outputs": [],
   "source": [
    "bacpacs_dir_path = r'..\\..\\Data\\Bacpacs\\\\'\n",
    "\n",
    "bacpacs_genomes_path = bacpacs_dir_path + 'bacpacs_genomes.fasta'\n",
    "bacpacs_metadata_path = bacpacs_dir_path + 'bacpacs_test.csv'"
   ]
  },
  {
   "cell_type": "code",
   "execution_count": 4,
   "id": "disabled-dublin",
   "metadata": {},
   "outputs": [],
   "source": [
    "bacpacs_dataset = GenomesData(bacpacs_genomes_path, bacpacs_metadata_path)"
   ]
  },
  {
   "cell_type": "code",
   "execution_count": 5,
   "id": "solid-invite",
   "metadata": {},
   "outputs": [
    {
     "data": {
      "text/plain": [
       "94"
      ]
     },
     "execution_count": 5,
     "metadata": {},
     "output_type": "execute_result"
    }
   ],
   "source": [
    "len(bacpacs_dataset)"
   ]
  },
  {
   "cell_type": "markdown",
   "id": "accomplished-census",
   "metadata": {},
   "source": [
    "## Balanced dataset (one genome per species)"
   ]
  },
  {
   "cell_type": "code",
   "execution_count": 7,
   "id": "valuable-allocation",
   "metadata": {},
   "outputs": [],
   "source": [
    "balanced_dataset_genomes = bacpacs_dataset.metadata[bacpacs_dataset.metadata['Balanced Test'] == 'Yes'].index"
   ]
  },
  {
   "cell_type": "code",
   "execution_count": 8,
   "id": "respected-appliance",
   "metadata": {},
   "outputs": [],
   "source": [
    "bacpacs_data_balanced = bacpacs_dataset.data[balanced_dataset_genomes]"
   ]
  },
  {
   "cell_type": "code",
   "execution_count": 9,
   "id": "premier-gossip",
   "metadata": {},
   "outputs": [
    {
     "data": {
      "text/plain": [
       "40"
      ]
     },
     "execution_count": 9,
     "metadata": {},
     "output_type": "execute_result"
    }
   ],
   "source": [
    "len(bacpacs_data_balanced)"
   ]
  },
  {
   "cell_type": "markdown",
   "id": "integral-nerve",
   "metadata": {},
   "source": [
    "# deepac model"
   ]
  },
  {
   "cell_type": "code",
   "execution_count": 20,
   "id": "oriented-hierarchy",
   "metadata": {},
   "outputs": [],
   "source": [
    "deepac_on_bacpacs_dir_path = r'..\\..\\Data\\Bacpacs\\deepac_on_bacpacsTest\\\\'"
   ]
  },
  {
   "cell_type": "code",
   "execution_count": 21,
   "id": "maritime-brazil",
   "metadata": {},
   "outputs": [],
   "source": [
    "# create  dictionary: key - genome name, value - dictionary(key:frag name, val: prediction)\n",
    "def create_all_preds_per_genome(seqFile):\n",
    "    \n",
    "    all_p_per_genome_patho_test = {}\n",
    "    for fasta in seqFile:\n",
    "        name_and_p = fasta.description\n",
    "        genome_name = name_and_p.split('pathogenic/')[1].split('.fq')[0]\n",
    "        frag =  name_and_p.split('.fq.')[1].split(' | ')[0]\n",
    "        all_p_per_genome_patho_test.setdefault(genome_name, {})\n",
    "        all_p_per_genome_patho_test[genome_name][frag] = float(name_and_p.split('pp=')[1]) \n",
    "\n",
    "    print(f'results len: {len(all_p_per_genome_patho_test)}')          \n",
    "    return all_p_per_genome_patho_test"
   ]
  },
  {
   "cell_type": "code",
   "execution_count": 22,
   "id": "latin-automation",
   "metadata": {},
   "outputs": [],
   "source": [
    "\n",
    "\"\"\"\n",
    " \"One of the major challenges of pathogenic potential prediction from single\n",
    "reads is the lack of biological context. However, if all the reads in a sample\n",
    "originate from the exactly same organism, we can predict the pathogenic\n",
    "potential of that organism by a ---majority vote---. In the context of probabilistic\n",
    "estimates of the class label (returned by both PaPrBaG and our neural\n",
    "networks), we can implement that as a ---simple mean over predictions for\n",
    "all the individual reads---. \n",
    "Building upon this idea, we can boost read-based performance if\n",
    "we consider ***read pairs***, assumed to originate from the same organism\n",
    "even in metagenomic samples. To this end, ---we average predictions for\n",
    "the corresponding pairs in our test set---. The classifiers may still predict\n",
    "pathogenic potentials for isolated sequences if so desired.\"\n",
    "\"\"\"\n",
    "\n",
    "def calculate_final_genomes_predictions(test_preds_1, test_preds_2):\n",
    "    \n",
    "    all_p_per_genome_test1 = create_all_preds_per_genome(test_preds_1)\n",
    "    all_p_per_genome_test2 = create_all_preds_per_genome(test_preds_2)\n",
    "    genomes_predictions = {}\n",
    "    for genome in all_p_per_genome_test1.keys():\n",
    "        all_frags1 = all_p_per_genome_test1[genome]\n",
    "        all_frags2 = all_p_per_genome_test2[genome]\n",
    "        if len((set(all_frags1) - set(all_frags2))) > 0:\n",
    "            print('Error')\n",
    "            return\n",
    "        all_preds = []\n",
    "        for frag_id in all_frags1.keys():\n",
    "            y_pred_1 = all_frags1[frag_id]\n",
    "            y_pred_2 = all_frags2[frag_id]\n",
    "            y_pred = (y_pred_1 + y_pred_2)/2\n",
    "            all_preds.append(y_pred)\n",
    "            \n",
    "        final_pred = statistics.mean(all_preds)\n",
    "        genomes_predictions[genome] = final_pred\n",
    "    \n",
    "    return genomes_predictions"
   ]
  },
  {
   "cell_type": "code",
   "execution_count": 23,
   "id": "female-habitat",
   "metadata": {},
   "outputs": [],
   "source": [
    "def get_deepac_predictions(test_genomes, test_labels, patho_genomes_predictions, nonpatho_genomes_predictions):\n",
    "    deepac_preds_df = pd.DataFrame(index=test_genomes, columns=['Label', 'deepac_pred'])\n",
    "    for genome_id in test_genomes:\n",
    "        deepac_preds_df.at[genome_id, 'Label'] = int(test_labels.at[genome_id])\n",
    "        if str(genome_id) in  patho_genomes_predictions.keys():\n",
    "            deepac_preds_df.at[genome_id, 'deepac_pred'] = round(patho_genomes_predictions[genome_id])\n",
    "            continue\n",
    "        elif str(genome_id) in  nonpatho_genomes_predictions.keys():\n",
    "            deepac_preds_df.at[genome_id, 'deepac_pred'] = round(nonpatho_genomes_predictions[genome_id])\n",
    "            continue\n",
    "        print(f'problem with genome: {genome_id}')\n",
    "\n",
    "    return deepac_preds_df"
   ]
  },
  {
   "cell_type": "markdown",
   "id": "corrected-survey",
   "metadata": {},
   "source": [
    "## deepac s"
   ]
  },
  {
   "cell_type": "code",
   "execution_count": 28,
   "id": "driving-dryer",
   "metadata": {},
   "outputs": [
    {
     "name": "stdout",
     "output_type": "stream",
     "text": [
      "results len: 0\n",
      "results len: 0\n"
     ]
    }
   ],
   "source": [
    "patho_test_1_preds_s = SeqIO.parse(open(deepac_on_bacpacs_dir_path + 'patho_bacpacs_test1_withp_s.fasta'),'fasta')\n",
    "patho_test_2_preds_s = SeqIO.parse(open(deepac_on_bacpacs_dir_path + 'patho_bacpacs_test2_withp_s.fasta'),'fasta')\n",
    "patho_genomes_predictions_s = calculate_final_genomes_predictions(patho_test_1_preds_s, patho_test_2_preds_s)"
   ]
  },
  {
   "cell_type": "code",
   "execution_count": 26,
   "id": "moderate-liverpool",
   "metadata": {},
   "outputs": [
    {
     "name": "stdout",
     "output_type": "stream",
     "text": [
      "results len: 40\n",
      "results len: 40\n"
     ]
    }
   ],
   "source": [
    "nonpatho_test_1_preds_s = SeqIO.parse(open(deepac_on_bacpacs_dir_path + 'nonpatho_bacpacs_test1_withp_s.fasta'),'fasta')\n",
    "nonpatho_test_2_preds_s = SeqIO.parse(open(deepac_on_bacpacs_dir_path + 'nonpatho_bacpacs_test2_withp_s.fasta'),'fasta')\n",
    "nonpatho_genomes_predictions_s = calculate_final_genomes_predictions(nonpatho_test_1_preds_s, nonpatho_test_2_preds_s)"
   ]
  },
  {
   "cell_type": "code",
   "execution_count": 27,
   "id": "center-layout",
   "metadata": {},
   "outputs": [],
   "source": [
    "deepac_s_preds_df = get_deepac_predictions(bacpacs_dataset.metadata.index, labels,\n",
    "                                                  patho_genomes_predictions_s, nonpatho_genomes_predictions_s)"
   ]
  },
  {
   "cell_type": "markdown",
   "id": "muslim-backing",
   "metadata": {},
   "source": [
    "#### Balanced test"
   ]
  },
  {
   "cell_type": "code",
   "execution_count": 28,
   "id": "closing-piece",
   "metadata": {},
   "outputs": [],
   "source": [
    "deepac_s_balanced_preds_df = deepac_s_preds_df.loc[balanced_dataset_genomes]"
   ]
  },
  {
   "cell_type": "code",
   "execution_count": 29,
   "id": "reasonable-blond",
   "metadata": {
    "scrolled": true
   },
   "outputs": [
    {
     "name": "stdout",
     "output_type": "stream",
     "text": [
      "              precision    recall  f1-score   support\n",
      "\n",
      "         NHP       1.00      0.33      0.50        15\n",
      "          HP       0.71      1.00      0.83        25\n",
      "\n",
      "    accuracy                           0.75        40\n",
      "   macro avg       0.86      0.67      0.67        40\n",
      "weighted avg       0.82      0.75      0.71        40\n",
      "\n"
     ]
    }
   ],
   "source": [
    "print(classification_report(list(deepac_s_balanced_preds_df['Label']),\n",
    "                            list(deepac_s_balanced_preds_df['deepac_pred']), target_names=TARGET_NAMES))"
   ]
  },
  {
   "cell_type": "markdown",
   "id": "conceptual-masters",
   "metadata": {},
   "source": [
    "#### Entire test"
   ]
  },
  {
   "cell_type": "code",
   "execution_count": 30,
   "id": "oriented-shopping",
   "metadata": {
    "scrolled": true
   },
   "outputs": [
    {
     "name": "stdout",
     "output_type": "stream",
     "text": [
      "              precision    recall  f1-score   support\n",
      "\n",
      "         NHP       0.83      0.31      0.45        16\n",
      "          HP       0.88      0.99      0.93        78\n",
      "\n",
      "    accuracy                           0.87        94\n",
      "   macro avg       0.85      0.65      0.69        94\n",
      "weighted avg       0.87      0.87      0.85        94\n",
      "\n"
     ]
    }
   ],
   "source": [
    "print(classification_report(list(deepac_s_preds_df['Label']),\n",
    "                            list(deepac_s_preds_df['deepac_pred']), target_names=TARGET_NAMES))"
   ]
  },
  {
   "cell_type": "markdown",
   "id": "flying-elements",
   "metadata": {},
   "source": [
    "# DEEPAC R"
   ]
  },
  {
   "cell_type": "code",
   "execution_count": 31,
   "id": "auburn-paris",
   "metadata": {},
   "outputs": [
    {
     "name": "stdout",
     "output_type": "stream",
     "text": [
      "results len: 60\n",
      "results len: 60\n"
     ]
    }
   ],
   "source": [
    "patho_test_1_preds_r = SeqIO.parse(open(deepac_on_bacpacs_dir_path + 'patho_bacpacs_test1_withp.fasta'),'fasta')\n",
    "patho_test_2_preds_r = SeqIO.parse(open(deepac_on_bacpacs_dir_path + 'patho_bacpacs_test2_withp.fasta'),'fasta')\n",
    "patho_genomes_predictions_r = calculate_final_genomes_predictions(patho_test_1_preds_r, patho_test_2_preds_r)"
   ]
  },
  {
   "cell_type": "code",
   "execution_count": 32,
   "id": "copyrighted-audit",
   "metadata": {},
   "outputs": [
    {
     "name": "stdout",
     "output_type": "stream",
     "text": [
      "results len: 40\n",
      "results len: 40\n"
     ]
    }
   ],
   "source": [
    "nonpatho_test_1_preds_r = SeqIO.parse(open(deepac_on_bacpacs_dir_path + 'nonpatho_bacpacs_test1_withp.fasta'),'fasta')\n",
    "nonpatho_test_2_preds_r = SeqIO.parse(open(deepac_on_bacpacs_dir_path + 'nonpatho_bacpacs_test2_withp.fasta'),'fasta')\n",
    "nonpatho_genomes_predictions_r = calculate_final_genomes_predictions(nonpatho_test_1_preds_r, nonpatho_test_2_preds_r)"
   ]
  },
  {
   "cell_type": "code",
   "execution_count": 33,
   "id": "inappropriate-cherry",
   "metadata": {},
   "outputs": [],
   "source": [
    "deepac_r_preds_df = get_deepac_predictions(bacpacs_dataset.metadata.index, labels,\n",
    "                                                  patho_genomes_predictions_r, nonpatho_genomes_predictions_r)"
   ]
  },
  {
   "cell_type": "markdown",
   "id": "capital-football",
   "metadata": {},
   "source": [
    "#### Balanced test"
   ]
  },
  {
   "cell_type": "code",
   "execution_count": 34,
   "id": "ideal-causing",
   "metadata": {},
   "outputs": [],
   "source": [
    "deepac_r_balanced_preds_df = deepac_r_preds_df.loc[balanced_dataset_genomes]"
   ]
  },
  {
   "cell_type": "code",
   "execution_count": 35,
   "id": "dried-vintage",
   "metadata": {},
   "outputs": [
    {
     "name": "stdout",
     "output_type": "stream",
     "text": [
      "              precision    recall  f1-score   support\n",
      "\n",
      "         NHP       1.00      0.33      0.50        15\n",
      "          HP       0.71      1.00      0.83        25\n",
      "\n",
      "    accuracy                           0.75        40\n",
      "   macro avg       0.86      0.67      0.67        40\n",
      "weighted avg       0.82      0.75      0.71        40\n",
      "\n"
     ]
    }
   ],
   "source": [
    "print(classification_report(list(deepac_r_balanced_preds_df['Label']),\n",
    "                            list(deepac_r_balanced_preds_df['deepac_pred']), target_names=TARGET_NAMES))"
   ]
  },
  {
   "cell_type": "markdown",
   "id": "confidential-wellington",
   "metadata": {},
   "source": [
    "#### Entire test"
   ]
  },
  {
   "cell_type": "code",
   "execution_count": 36,
   "id": "efficient-switch",
   "metadata": {
    "scrolled": true
   },
   "outputs": [
    {
     "name": "stdout",
     "output_type": "stream",
     "text": [
      "              precision    recall  f1-score   support\n",
      "\n",
      "         NHP       0.83      0.31      0.45        16\n",
      "          HP       0.88      0.99      0.93        78\n",
      "\n",
      "    accuracy                           0.87        94\n",
      "   macro avg       0.85      0.65      0.69        94\n",
      "weighted avg       0.87      0.87      0.85        94\n",
      "\n"
     ]
    }
   ],
   "source": [
    "print(classification_report(list(deepac_r_preds_df['Label']),\n",
    "                            list(deepac_r_preds_df['deepac_pred']), target_names=TARGET_NAMES))"
   ]
  },
  {
   "cell_type": "markdown",
   "id": "treated-budapest",
   "metadata": {},
   "source": [
    "# Analyzing Paprbag, pathogenfinder and bacpacs results from bacpacs supplemantry"
   ]
  },
  {
   "cell_type": "code",
   "execution_count": 149,
   "id": "sufficient-columbia",
   "metadata": {},
   "outputs": [],
   "source": [
    "paprbag_folds =  ['paprbag_fold1', 'paprbag_fold2', 'paprbag_fold3', 'paprbag_fold4', 'paprbag_fold5']\n",
    "bacpacs_methods = ['bacpacs', 'pathogenfinder'] + paprbag_folds"
   ]
  },
  {
   "cell_type": "code",
   "execution_count": 131,
   "id": "civil-desert",
   "metadata": {},
   "outputs": [],
   "source": [
    "bacpacs_comp_analysis_sup = pd.read_csv(bacpacs_dir_path + 'Bacpacs-Supplementary.csv', dtype=str).set_index('Genome ID')\n",
    "bacpacs_comp_analysis_sup = bacpacs_comp_analysis_sup.replace(['hp'], 1)\n",
    "bacpacs_comp_analysis_sup = bacpacs_comp_analysis_sup.replace(['nhp'], 0)"
   ]
  },
  {
   "cell_type": "code",
   "execution_count": 132,
   "id": "complete-antibody",
   "metadata": {},
   "outputs": [
    {
     "data": {
      "text/html": [
       "<div>\n",
       "<style scoped>\n",
       "    .dataframe tbody tr th:only-of-type {\n",
       "        vertical-align: middle;\n",
       "    }\n",
       "\n",
       "    .dataframe tbody tr th {\n",
       "        vertical-align: top;\n",
       "    }\n",
       "\n",
       "    .dataframe thead th {\n",
       "        text-align: right;\n",
       "    }\n",
       "</style>\n",
       "<table border=\"1\" class=\"dataframe\">\n",
       "  <thead>\n",
       "    <tr style=\"text-align: right;\">\n",
       "      <th></th>\n",
       "      <th>pathogenicity</th>\n",
       "      <th>bacpacs</th>\n",
       "      <th>pathogenfinder</th>\n",
       "      <th>paprbag_fold1</th>\n",
       "      <th>paprbag_fold2</th>\n",
       "      <th>paprbag_fold3</th>\n",
       "      <th>paprbag_fold4</th>\n",
       "      <th>paprbag_fold5</th>\n",
       "      <th>Genome Name</th>\n",
       "      <th>Organism Name</th>\n",
       "      <th>Isolation Source</th>\n",
       "      <th>Habitat</th>\n",
       "      <th>Disease</th>\n",
       "      <th>Host Health</th>\n",
       "      <th>Other Clinical</th>\n",
       "      <th>Comments</th>\n",
       "    </tr>\n",
       "    <tr>\n",
       "      <th>Genome ID</th>\n",
       "      <th></th>\n",
       "      <th></th>\n",
       "      <th></th>\n",
       "      <th></th>\n",
       "      <th></th>\n",
       "      <th></th>\n",
       "      <th></th>\n",
       "      <th></th>\n",
       "      <th></th>\n",
       "      <th></th>\n",
       "      <th></th>\n",
       "      <th></th>\n",
       "      <th></th>\n",
       "      <th></th>\n",
       "      <th></th>\n",
       "      <th></th>\n",
       "    </tr>\n",
       "  </thead>\n",
       "  <tbody>\n",
       "    <tr>\n",
       "      <th>1041522.28</th>\n",
       "      <td>1</td>\n",
       "      <td>1</td>\n",
       "      <td>1</td>\n",
       "      <td>1</td>\n",
       "      <td>1</td>\n",
       "      <td>1</td>\n",
       "      <td>1</td>\n",
       "      <td>1</td>\n",
       "      <td>Mycobacterium colombiense CECT 3035 strain CEC...</td>\n",
       "      <td>NaN</td>\n",
       "      <td>blood</td>\n",
       "      <td>NaN</td>\n",
       "      <td>NaN</td>\n",
       "      <td>HIV</td>\n",
       "      <td>NaN</td>\n",
       "      <td>M. colombiense infections were initially descr...</td>\n",
       "    </tr>\n",
       "    <tr>\n",
       "      <th>1196162.3</th>\n",
       "      <td>1</td>\n",
       "      <td>1</td>\n",
       "      <td>1</td>\n",
       "      <td>1</td>\n",
       "      <td>1</td>\n",
       "      <td>1</td>\n",
       "      <td>1</td>\n",
       "      <td>1</td>\n",
       "      <td>Listeria monocytogenes serotype 4b str. 10-080...</td>\n",
       "      <td>NaN</td>\n",
       "      <td>Stool</td>\n",
       "      <td>NaN</td>\n",
       "      <td>NaN</td>\n",
       "      <td>Listeriosis</td>\n",
       "      <td>NaN</td>\n",
       "      <td>Whole genome sequencing and comparison of List...</td>\n",
       "    </tr>\n",
       "    <tr>\n",
       "      <th>1196172.3</th>\n",
       "      <td>1</td>\n",
       "      <td>0</td>\n",
       "      <td>1</td>\n",
       "      <td>1</td>\n",
       "      <td>1</td>\n",
       "      <td>1</td>\n",
       "      <td>1</td>\n",
       "      <td>1</td>\n",
       "      <td>Listeria monocytogenes serotype 4b str. 02-128...</td>\n",
       "      <td>NaN</td>\n",
       "      <td>Stool</td>\n",
       "      <td>NaN</td>\n",
       "      <td>NaN</td>\n",
       "      <td>Listeriosis</td>\n",
       "      <td>NaN</td>\n",
       "      <td>Whole genome sequencing and comparison of List...</td>\n",
       "    </tr>\n",
       "    <tr>\n",
       "      <th>1280.11681</th>\n",
       "      <td>1</td>\n",
       "      <td>1</td>\n",
       "      <td>1</td>\n",
       "      <td>1</td>\n",
       "      <td>1</td>\n",
       "      <td>1</td>\n",
       "      <td>1</td>\n",
       "      <td>1</td>\n",
       "      <td>Staphylococcus aureus strain USA300-SUR15</td>\n",
       "      <td>NaN</td>\n",
       "      <td>Nose</td>\n",
       "      <td>NaN</td>\n",
       "      <td>NaN</td>\n",
       "      <td>NaN</td>\n",
       "      <td>NaN</td>\n",
       "      <td>The study characterizes a Staphylococcus aureu...</td>\n",
       "    </tr>\n",
       "    <tr>\n",
       "      <th>1280.12234</th>\n",
       "      <td>1</td>\n",
       "      <td>1</td>\n",
       "      <td>1</td>\n",
       "      <td>1</td>\n",
       "      <td>1</td>\n",
       "      <td>1</td>\n",
       "      <td>1</td>\n",
       "      <td>1</td>\n",
       "      <td>Staphylococcus aureus strain JE2</td>\n",
       "      <td>NaN</td>\n",
       "      <td>skin and soft tissue</td>\n",
       "      <td>NaN</td>\n",
       "      <td>NaN</td>\n",
       "      <td>Soft Tissue Infections</td>\n",
       "      <td>NaN</td>\n",
       "      <td>Sequence the genome of Staphylococcus aureus JE2</td>\n",
       "    </tr>\n",
       "  </tbody>\n",
       "</table>\n",
       "</div>"
      ],
      "text/plain": [
       "            pathogenicity  bacpacs  pathogenfinder  paprbag_fold1  \\\n",
       "Genome ID                                                           \n",
       "1041522.28              1        1               1              1   \n",
       "1196162.3               1        1               1              1   \n",
       "1196172.3               1        0               1              1   \n",
       "1280.11681              1        1               1              1   \n",
       "1280.12234              1        1               1              1   \n",
       "\n",
       "            paprbag_fold2  paprbag_fold3  paprbag_fold4  paprbag_fold5  \\\n",
       "Genome ID                                                                \n",
       "1041522.28              1              1              1              1   \n",
       "1196162.3               1              1              1              1   \n",
       "1196172.3               1              1              1              1   \n",
       "1280.11681              1              1              1              1   \n",
       "1280.12234              1              1              1              1   \n",
       "\n",
       "                                                  Genome Name  Organism Name  \\\n",
       "Genome ID                                                                      \n",
       "1041522.28  Mycobacterium colombiense CECT 3035 strain CEC...            NaN   \n",
       "1196162.3   Listeria monocytogenes serotype 4b str. 10-080...            NaN   \n",
       "1196172.3   Listeria monocytogenes serotype 4b str. 02-128...            NaN   \n",
       "1280.11681          Staphylococcus aureus strain USA300-SUR15            NaN   \n",
       "1280.12234                   Staphylococcus aureus strain JE2            NaN   \n",
       "\n",
       "                Isolation Source Habitat Disease             Host Health  \\\n",
       "Genome ID                                                                  \n",
       "1041522.28                 blood     NaN     NaN                     HIV   \n",
       "1196162.3                  Stool     NaN     NaN             Listeriosis   \n",
       "1196172.3                  Stool     NaN     NaN             Listeriosis   \n",
       "1280.11681                  Nose     NaN     NaN                     NaN   \n",
       "1280.12234  skin and soft tissue     NaN     NaN  Soft Tissue Infections   \n",
       "\n",
       "           Other Clinical                                           Comments  \n",
       "Genome ID                                                                     \n",
       "1041522.28            NaN  M. colombiense infections were initially descr...  \n",
       "1196162.3             NaN  Whole genome sequencing and comparison of List...  \n",
       "1196172.3             NaN  Whole genome sequencing and comparison of List...  \n",
       "1280.11681            NaN  The study characterizes a Staphylococcus aureu...  \n",
       "1280.12234            NaN   Sequence the genome of Staphylococcus aureus JE2  "
      ]
     },
     "execution_count": 132,
     "metadata": {},
     "output_type": "execute_result"
    }
   ],
   "source": [
    "bacpacs_comp_analysis_sup.head()"
   ]
  },
  {
   "cell_type": "code",
   "execution_count": 153,
   "id": "major-surgery",
   "metadata": {},
   "outputs": [],
   "source": [
    "all_methods_preds = bacpacs_comp_analysis_sup.loc[bacpacs_dataset.y.index, bacpacs_methods]\n",
    "all_methods_preds.loc[bacpacs_dataset.y.index, LABEL] = bacpacs_dataset.y\n",
    "\n",
    "all_methods_preds.rename(columns={'bacpacs': BACPACS, 'pathogenfinder': PATHOGEN_FINDER}, inplace=True)"
   ]
  },
  {
   "cell_type": "markdown",
   "id": "alpha-equality",
   "metadata": {},
   "source": [
    "# WSPC model"
   ]
  },
  {
   "cell_type": "code",
   "execution_count": 159,
   "id": "waiting-latter",
   "metadata": {},
   "outputs": [],
   "source": [
    "model_path = '..\\..\\WSPC Model\\WSPC_model.pkl'\n",
    "\n",
    "WSPC_cls = util.load_model(model_path)"
   ]
  },
  {
   "cell_type": "code",
   "execution_count": 160,
   "id": "falling-terrorism",
   "metadata": {},
   "outputs": [],
   "source": [
    "preds = WSPC_cls.predict(bacpacs_dataset.data) \n",
    "all_methods_preds.loc[bacpacs_dataset.y.index, WSPC] = preds"
   ]
  },
  {
   "cell_type": "code",
   "execution_count": 162,
   "id": "precise-soviet",
   "metadata": {},
   "outputs": [
    {
     "data": {
      "text/html": [
       "<div>\n",
       "<style scoped>\n",
       "    .dataframe tbody tr th:only-of-type {\n",
       "        vertical-align: middle;\n",
       "    }\n",
       "\n",
       "    .dataframe tbody tr th {\n",
       "        vertical-align: top;\n",
       "    }\n",
       "\n",
       "    .dataframe thead th {\n",
       "        text-align: right;\n",
       "    }\n",
       "</style>\n",
       "<table border=\"1\" class=\"dataframe\">\n",
       "  <thead>\n",
       "    <tr style=\"text-align: right;\">\n",
       "      <th></th>\n",
       "      <th>BacPaCS</th>\n",
       "      <th>PathogenFinder</th>\n",
       "      <th>paprbag_fold1</th>\n",
       "      <th>paprbag_fold2</th>\n",
       "      <th>paprbag_fold3</th>\n",
       "      <th>paprbag_fold4</th>\n",
       "      <th>paprbag_fold5</th>\n",
       "      <th>Label</th>\n",
       "      <th>WSPC</th>\n",
       "    </tr>\n",
       "    <tr>\n",
       "      <th>Genome ID</th>\n",
       "      <th></th>\n",
       "      <th></th>\n",
       "      <th></th>\n",
       "      <th></th>\n",
       "      <th></th>\n",
       "      <th></th>\n",
       "      <th></th>\n",
       "      <th></th>\n",
       "      <th></th>\n",
       "    </tr>\n",
       "  </thead>\n",
       "  <tbody>\n",
       "    <tr>\n",
       "      <th>470.3353</th>\n",
       "      <td>1</td>\n",
       "      <td>1</td>\n",
       "      <td>1</td>\n",
       "      <td>1</td>\n",
       "      <td>1</td>\n",
       "      <td>1</td>\n",
       "      <td>1</td>\n",
       "      <td>1</td>\n",
       "      <td>1</td>\n",
       "    </tr>\n",
       "    <tr>\n",
       "      <th>106654.48</th>\n",
       "      <td>1</td>\n",
       "      <td>1</td>\n",
       "      <td>1</td>\n",
       "      <td>1</td>\n",
       "      <td>1</td>\n",
       "      <td>1</td>\n",
       "      <td>1</td>\n",
       "      <td>1</td>\n",
       "      <td>1</td>\n",
       "    </tr>\n",
       "    <tr>\n",
       "      <th>520.659</th>\n",
       "      <td>1</td>\n",
       "      <td>0</td>\n",
       "      <td>1</td>\n",
       "      <td>1</td>\n",
       "      <td>1</td>\n",
       "      <td>1</td>\n",
       "      <td>1</td>\n",
       "      <td>1</td>\n",
       "      <td>1</td>\n",
       "    </tr>\n",
       "    <tr>\n",
       "      <th>28450.385</th>\n",
       "      <td>1</td>\n",
       "      <td>1</td>\n",
       "      <td>1</td>\n",
       "      <td>1</td>\n",
       "      <td>1</td>\n",
       "      <td>1</td>\n",
       "      <td>1</td>\n",
       "      <td>1</td>\n",
       "      <td>1</td>\n",
       "    </tr>\n",
       "    <tr>\n",
       "      <th>83554.74</th>\n",
       "      <td>1</td>\n",
       "      <td>1</td>\n",
       "      <td>1</td>\n",
       "      <td>1</td>\n",
       "      <td>1</td>\n",
       "      <td>1</td>\n",
       "      <td>1</td>\n",
       "      <td>1</td>\n",
       "      <td>1</td>\n",
       "    </tr>\n",
       "    <tr>\n",
       "      <th>...</th>\n",
       "      <td>...</td>\n",
       "      <td>...</td>\n",
       "      <td>...</td>\n",
       "      <td>...</td>\n",
       "      <td>...</td>\n",
       "      <td>...</td>\n",
       "      <td>...</td>\n",
       "      <td>...</td>\n",
       "      <td>...</td>\n",
       "    </tr>\n",
       "    <tr>\n",
       "      <th>487.1548</th>\n",
       "      <td>1</td>\n",
       "      <td>1</td>\n",
       "      <td>0</td>\n",
       "      <td>0</td>\n",
       "      <td>1</td>\n",
       "      <td>0</td>\n",
       "      <td>1</td>\n",
       "      <td>1</td>\n",
       "      <td>0</td>\n",
       "    </tr>\n",
       "    <tr>\n",
       "      <th>287.3868</th>\n",
       "      <td>1</td>\n",
       "      <td>1</td>\n",
       "      <td>1</td>\n",
       "      <td>1</td>\n",
       "      <td>1</td>\n",
       "      <td>1</td>\n",
       "      <td>1</td>\n",
       "      <td>1</td>\n",
       "      <td>1</td>\n",
       "    </tr>\n",
       "    <tr>\n",
       "      <th>1280.12234</th>\n",
       "      <td>1</td>\n",
       "      <td>1</td>\n",
       "      <td>1</td>\n",
       "      <td>1</td>\n",
       "      <td>1</td>\n",
       "      <td>1</td>\n",
       "      <td>1</td>\n",
       "      <td>1</td>\n",
       "      <td>1</td>\n",
       "    </tr>\n",
       "    <tr>\n",
       "      <th>1280.11677</th>\n",
       "      <td>1</td>\n",
       "      <td>1</td>\n",
       "      <td>1</td>\n",
       "      <td>1</td>\n",
       "      <td>1</td>\n",
       "      <td>1</td>\n",
       "      <td>1</td>\n",
       "      <td>1</td>\n",
       "      <td>1</td>\n",
       "    </tr>\n",
       "    <tr>\n",
       "      <th>47715.310</th>\n",
       "      <td>0</td>\n",
       "      <td>0</td>\n",
       "      <td>1</td>\n",
       "      <td>1</td>\n",
       "      <td>1</td>\n",
       "      <td>1</td>\n",
       "      <td>1</td>\n",
       "      <td>0</td>\n",
       "      <td>0</td>\n",
       "    </tr>\n",
       "  </tbody>\n",
       "</table>\n",
       "<p>94 rows × 9 columns</p>\n",
       "</div>"
      ],
      "text/plain": [
       "            BacPaCS  PathogenFinder  paprbag_fold1  paprbag_fold2  \\\n",
       "Genome ID                                                           \n",
       "470.3353          1               1              1              1   \n",
       "106654.48         1               1              1              1   \n",
       "520.659           1               0              1              1   \n",
       "28450.385         1               1              1              1   \n",
       "83554.74          1               1              1              1   \n",
       "...             ...             ...            ...            ...   \n",
       "487.1548          1               1              0              0   \n",
       "287.3868          1               1              1              1   \n",
       "1280.12234        1               1              1              1   \n",
       "1280.11677        1               1              1              1   \n",
       "47715.310         0               0              1              1   \n",
       "\n",
       "            paprbag_fold3  paprbag_fold4  paprbag_fold5  Label  WSPC  \n",
       "Genome ID                                                             \n",
       "470.3353                1              1              1      1     1  \n",
       "106654.48               1              1              1      1     1  \n",
       "520.659                 1              1              1      1     1  \n",
       "28450.385               1              1              1      1     1  \n",
       "83554.74                1              1              1      1     1  \n",
       "...                   ...            ...            ...    ...   ...  \n",
       "487.1548                1              0              1      1     0  \n",
       "287.3868                1              1              1      1     1  \n",
       "1280.12234              1              1              1      1     1  \n",
       "1280.11677              1              1              1      1     1  \n",
       "47715.310               1              1              1      0     0  \n",
       "\n",
       "[94 rows x 9 columns]"
      ]
     },
     "execution_count": 162,
     "metadata": {},
     "output_type": "execute_result"
    }
   ],
   "source": [
    "all_methods_preds"
   ]
  },
  {
   "cell_type": "markdown",
   "id": "historic-nicaragua",
   "metadata": {},
   "source": [
    "### Compute results for all classifiers"
   ]
  },
  {
   "cell_type": "code",
   "execution_count": 236,
   "id": "incoming-egyptian",
   "metadata": {},
   "outputs": [],
   "source": [
    "def get_cls_results(genomes, all_methods_preds, methods, measures):\n",
    "    \n",
    "    results = {}\n",
    "\n",
    "    for method in methods:\n",
    "        preds = all_methods_preds.loc[genomes, method]\n",
    "        labels = all_methods_preds.loc[genomes, LABEL]\n",
    "        report = classification_report(labels, preds, target_names=TARGET_NAMES, output_dict=True)\n",
    "        method_results = report_to_metrics(report) \n",
    "        results[method] = method_results\n",
    "\n",
    "    results[PAPRBAG] = {}\n",
    "    for measure in measures:\n",
    "        results[PAPRBAG][measure] = round(np.mean([results[fold][measure] for fold in paprbag_folds]), 2)\n",
    "\n",
    "    return results"
   ]
  },
  {
   "cell_type": "code",
   "execution_count": 237,
   "id": "signed-locator",
   "metadata": {},
   "outputs": [
    {
     "data": {
      "text/plain": [
       "{'WSPC': {'Specificity': 0.88, 'Sensitivity': 0.99, 'BAcc': 0.93},\n",
       " 'BacPaCS': {'Specificity': 0.75, 'Sensitivity': 0.92, 'BAcc': 0.84},\n",
       " 'PathogenFinder': {'Specificity': 0.69, 'Sensitivity': 0.72, 'BAcc': 0.7},\n",
       " 'paprbag_fold1': {'Specificity': 0.19, 'Sensitivity': 0.99, 'BAcc': 0.59},\n",
       " 'paprbag_fold2': {'Specificity': 0.19, 'Sensitivity': 0.99, 'BAcc': 0.59},\n",
       " 'paprbag_fold3': {'Specificity': 0.12, 'Sensitivity': 1.0, 'BAcc': 0.56},\n",
       " 'paprbag_fold4': {'Specificity': 0.19, 'Sensitivity': 0.99, 'BAcc': 0.59},\n",
       " 'paprbag_fold5': {'Specificity': 0.12, 'Sensitivity': 1.0, 'BAcc': 0.56},\n",
       " 'PaPrBaG': {'BAcc': 0.58, 'Sensitivity': 0.99, 'Specificity': 0.16}}"
      ]
     },
     "execution_count": 237,
     "metadata": {},
     "output_type": "execute_result"
    }
   ],
   "source": [
    "measures = [BACC, SEN, SPE]\n",
    "methods = [WSPC, BACPACS, PATHOGEN_FINDER] + paprbag_folds\n",
    "genomes = bacpacs_dataset.y.index\n",
    "\n",
    "results_entire_test = get_cls_results(genomes, all_methods_preds, methods, measures)\n",
    "results_entire_test"
   ]
  },
  {
   "cell_type": "code",
   "execution_count": 238,
   "id": "arbitrary-spoke",
   "metadata": {},
   "outputs": [
    {
     "data": {
      "text/plain": [
       "{'WSPC': {'Specificity': 0.87, 'Sensitivity': 1.0, 'BAcc': 0.93},\n",
       " 'BacPaCS': {'Specificity': 0.73, 'Sensitivity': 0.84, 'BAcc': 0.79},\n",
       " 'PathogenFinder': {'Specificity': 0.67, 'Sensitivity': 0.96, 'BAcc': 0.81},\n",
       " 'paprbag_fold1': {'Specificity': 0.2, 'Sensitivity': 1.0, 'BAcc': 0.6},\n",
       " 'paprbag_fold2': {'Specificity': 0.2, 'Sensitivity': 1.0, 'BAcc': 0.6},\n",
       " 'paprbag_fold3': {'Specificity': 0.13, 'Sensitivity': 1.0, 'BAcc': 0.57},\n",
       " 'paprbag_fold4': {'Specificity': 0.2, 'Sensitivity': 1.0, 'BAcc': 0.6},\n",
       " 'paprbag_fold5': {'Specificity': 0.13, 'Sensitivity': 1.0, 'BAcc': 0.57},\n",
       " 'PaPrBaG': {'BAcc': 0.59, 'Sensitivity': 1.0, 'Specificity': 0.17}}"
      ]
     },
     "execution_count": 238,
     "metadata": {},
     "output_type": "execute_result"
    }
   ],
   "source": [
    "results_balanced_test = get_cls_results(balanced_dataset_genomes, all_methods_preds, methods, measures)\n",
    "results_balanced_test"
   ]
  },
  {
   "cell_type": "markdown",
   "id": "ranging-shopper",
   "metadata": {},
   "source": [
    "# Plots"
   ]
  },
  {
   "cell_type": "code",
   "execution_count": 231,
   "id": "completed-fifty",
   "metadata": {},
   "outputs": [],
   "source": [
    "def label_bars(rects, ax):\n",
    "    for rect in rects:\n",
    "        for label in rect:\n",
    "            height = round(label.get_height(),2)\n",
    "            ax.annotate('{}'.format(height), xy=(label.get_x() + label.get_width()/2, height),\n",
    "                        xytext=(0, 3), textcoords=\"offset points\", ha='center', va='bottom', fontsize=14)\n",
    "\n",
    "def create_comparative_barplots(results):\n",
    "    \n",
    "    methods = [WSPC, BACPACS, PATHOGEN_FINDER, PAPRBAG]\n",
    "    measures = [BACC, SEN, SPE]\n",
    "\n",
    "    width = 0.22\n",
    "    \n",
    "    fig, ax = plt.subplots(figsize=(14, 6))\n",
    "    \n",
    "    rects = []\n",
    "    for i, method in enumerate(methods):\n",
    "        vals = [round(results[method][measure], 2) for measure in measures]\n",
    "        bar_positions = [x + i*width for x in np.arange(len(measures))]\n",
    "        rect = ax.bar(bar_positions, vals, width, label=method)\n",
    "        rects.append(rect)\n",
    "\n",
    "    ax.set_ylabel('Scores',  fontsize=20)\n",
    "    center_x =  width*len(measures)/2\n",
    "    ax.set_xticks([x + center_x for x in np.arange(len(measures))]) \n",
    "    ax.set_xticklabels(measures, fontsize=20)\n",
    "    ax.set_ylim([0.1, 1.05])\n",
    "    #ax.legend(loc='lower right', bbox_to_anchor=(1.3, 0), prop=FontProperties().set_size('xx-large'))\n",
    "    ax.legend(loc='lower right', bbox_to_anchor=(1, 0.85), prop=FontProperties().set_size('xx-large'))\n",
    "    \n",
    "    label_bars(rects, ax)\n",
    "    \n",
    "    fig.tight_layout()\n",
    "    plt.grid(False)\n",
    "    ax.spines['right'].set_visible(False)\n",
    "    ax.spines['top'].set_visible(False)\n",
    "\n",
    "    #plt.savefig('comparative_barplots_newTest_21.4.pdf')  \n",
    "    plt.show()\n"
   ]
  },
  {
   "cell_type": "code",
   "execution_count": 232,
   "id": "every-australia",
   "metadata": {},
   "outputs": [
    {
     "data": {
      "image/png": "[encoded data removed]",
      "text/plain": [
       "<Figure size 1008x432 with 1 Axes>"
      ]
     },
     "metadata": {
      "needs_background": "light"
     },
     "output_type": "display_data"
    }
   ],
   "source": [
    "create_comparative_barplots(results_entire_test)"
   ]
  },
  {
   "cell_type": "code",
   "execution_count": 233,
   "id": "checked-constant",
   "metadata": {},
   "outputs": [
    {
     "data": {
      "image/png": "[encoded data removed]",
      "text/plain": [
       "<Figure size 1008x432 with 1 Axes>"
      ]
     },
     "metadata": {
      "needs_background": "light"
     },
     "output_type": "display_data"
    }
   ],
   "source": [
    "create_comparative_barplots(results_balanced_test)"
   ]
  },
  {
   "cell_type": "code",
   "execution_count": null,
   "id": "nasty-numbers",
   "metadata": {},
   "outputs": [],
   "source": []
  }
 ],
 "metadata": {
  "kernelspec": {
   "display_name": "Python 3",
   "language": "python",
   "name": "python3"
  },
  "language_info": {
   "codemirror_mode": {
    "name": "ipython",
    "version": 3
   },
   "file_extension": ".py",
   "mimetype": "text/x-python",
   "name": "python",
   "nbconvert_exporter": "python",
   "pygments_lexer": "ipython3",
   "version": "3.7.9"
  }
 },
 "nbformat": 4,
 "nbformat_minor": 5
}
