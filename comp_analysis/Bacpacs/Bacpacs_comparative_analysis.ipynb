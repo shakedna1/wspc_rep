{
 "cells": [
  {
   "cell_type": "code",
   "execution_count": 1,
   "metadata": {},
   "outputs": [
    {
     "name": "stdout",
     "output_type": "stream",
     "text": [
      "Requirement already satisfied: astropy in c:\\users\\shaked\\anaconda3\\envs\\deepenv\\lib\\site-packages (4.1)\n",
      "Requirement already satisfied: numpy>=1.16 in c:\\users\\shaked\\anaconda3\\envs\\deepenv\\lib\\site-packages (from astropy) (1.19.5)\n",
      "Note: you may need to restart the kernel to use updated packages.\n"
     ]
    }
   ],
   "source": [
    "pip install astropy"
   ]
  },
  {
   "cell_type": "code",
   "execution_count": 3,
   "metadata": {},
   "outputs": [],
   "source": [
    "sys.path.insert(0, '../../Code')\n",
    "\n",
    "import astropy\n",
    "import numpy as np\n",
    "import os\n",
    "import pandas as pd\n",
    "import statistics\n",
    "import sys  \n",
    "import train_and_predict\n",
    "import util\n",
    "\n",
    "\n",
    "from astropy.table import Table\n",
    "from Bio import SeqIO\n",
    "from data import *\n",
    "from sklearn.metrics import classification_report\n",
    "\n"
   ]
  },
  {
   "cell_type": "code",
   "execution_count": 4,
   "metadata": {},
   "outputs": [],
   "source": [
    "download = False\n",
    "\n",
    "output_dir_path = r'..\\..\\Data\\Bacpacs\\\\'\n",
    "\n",
    "if download:\n",
    "    all_genomes = df2['Genome ID']\n",
    "    download_genomes(all_genomes, output_dir_path)"
   ]
  },
  {
   "cell_type": "markdown",
   "metadata": {},
   "source": [
    "# Parse PATRIC genomes files"
   ]
  },
  {
   "cell_type": "code",
   "execution_count": 5,
   "metadata": {},
   "outputs": [],
   "source": [
    "bacpacs_dir_path = r'..\\..\\Data\\Bacpacs\\\\'\n",
    "bacpacs_patric_files_path = bacpacs_dir_path + 'patric_files\\\\' \n",
    "bacpacs_genomes_path = bacpacs_dir_path + 'bacpacs_genomes.fasta'\n",
    "bacpacs_metadata_path = bacpacs_dir_path + 'bacpacs_test.csv'"
   ]
  },
  {
   "cell_type": "code",
   "execution_count": 6,
   "metadata": {},
   "outputs": [],
   "source": [
    "UNKNOWN_PGFAM = 'X'"
   ]
  },
  {
   "cell_type": "code",
   "execution_count": 7,
   "metadata": {},
   "outputs": [],
   "source": [
    "def parse_patric_file(file_path):\n",
    "    \n",
    "    genome_df = pd.read_csv(file_path, sep='\\t')\n",
    "    pgfams = genome_df['pgfam_id'].fillna(UNKNOWN_PGFAM)\n",
    "    \n",
    "    return pgfams"
   ]
  },
  {
   "cell_type": "code",
   "execution_count": 8,
   "metadata": {},
   "outputs": [],
   "source": [
    "def write_genomes_files(patric_files_folder, output_path):\n",
    "    with os.scandir(patric_files_folder) as entries:\n",
    "        with open(output_path, 'w') as out_f:\n",
    "            for entry in entries:\n",
    "                if entry.is_file():\n",
    "                    genome_id = entry.name.split(FILE_SUFFIX)[0]\n",
    "                    genome_pgfams = parse_patric_file(entry)\n",
    "\n",
    "                    out_f.write(f'>{genome_id}\\n')\n",
    "                    out_f.write('\\n'.join(genome_pgfams))\n",
    "                    out_f.write('\\n')\n",
    "                    \n",
    "#write_genomes_files(bacpacs_patric_files_path, bacpacs_genomes_path)"
   ]
  },
  {
   "cell_type": "markdown",
   "metadata": {},
   "source": [
    "# Load Bacpacs Dataset"
   ]
  },
  {
   "cell_type": "code",
   "execution_count": 9,
   "metadata": {},
   "outputs": [],
   "source": [
    "bacpacs_dataset = GenomesData(bacpacs_genomes_path, bacpacs_metadata_path)"
   ]
  },
  {
   "cell_type": "code",
   "execution_count": 10,
   "metadata": {},
   "outputs": [
    {
     "data": {
      "text/plain": [
       "94"
      ]
     },
     "execution_count": 10,
     "metadata": {},
     "output_type": "execute_result"
    }
   ],
   "source": [
    "len(bacpacs_dataset)"
   ]
  },
  {
   "cell_type": "code",
   "execution_count": 11,
   "metadata": {},
   "outputs": [],
   "source": [
    "labels = bacpacs_dataset.y"
   ]
  },
  {
   "cell_type": "markdown",
   "metadata": {},
   "source": [
    "## Balanced dataset (one genome per species)"
   ]
  },
  {
   "cell_type": "code",
   "execution_count": 12,
   "metadata": {},
   "outputs": [],
   "source": [
    "balanced_dataset_genomes = bacpacs_dataset.metadata[bacpacs_dataset.metadata['Balanced Test'] == 'Yes'].index"
   ]
  },
  {
   "cell_type": "code",
   "execution_count": 13,
   "metadata": {},
   "outputs": [],
   "source": [
    "bacpacs_data_balanced = bacpacs_dataset.data[balanced_dataset_genomes]"
   ]
  },
  {
   "cell_type": "code",
   "execution_count": 14,
   "metadata": {},
   "outputs": [
    {
     "data": {
      "text/plain": [
       "40"
      ]
     },
     "execution_count": 14,
     "metadata": {},
     "output_type": "execute_result"
    }
   ],
   "source": [
    "len(bacpacs_data_balanced)"
   ]
  },
  {
   "cell_type": "code",
   "execution_count": 15,
   "metadata": {},
   "outputs": [],
   "source": [
    "balanced_labels = labels[balanced_dataset_genomes]"
   ]
  },
  {
   "cell_type": "code",
   "execution_count": 16,
   "metadata": {},
   "outputs": [],
   "source": [
    "target_names = ['NHP', 'HP']"
   ]
  },
  {
   "cell_type": "markdown",
   "metadata": {},
   "source": [
    "# WSPC model"
   ]
  },
  {
   "cell_type": "code",
   "execution_count": 17,
   "metadata": {},
   "outputs": [],
   "source": [
    "model_path = '..\\..\\WSPC Model\\WSPC_model.pkl'\n",
    "\n",
    "WSPC = util.load_model(model_path)"
   ]
  },
  {
   "cell_type": "code",
   "execution_count": 18,
   "metadata": {},
   "outputs": [],
   "source": [
    "preds = WSPC.predict(bacpacs_dataset.data) "
   ]
  },
  {
   "cell_type": "markdown",
   "metadata": {},
   "source": [
    "#### Entire test"
   ]
  },
  {
   "cell_type": "code",
   "execution_count": 19,
   "metadata": {},
   "outputs": [
    {
     "name": "stdout",
     "output_type": "stream",
     "text": [
      "              precision    recall  f1-score   support\n",
      "\n",
      "         NHP       0.93      0.88      0.90        16\n",
      "          HP       0.97      0.99      0.98        78\n",
      "\n",
      "    accuracy                           0.97        94\n",
      "   macro avg       0.95      0.93      0.94        94\n",
      "weighted avg       0.97      0.97      0.97        94\n",
      "\n"
     ]
    }
   ],
   "source": [
    "print(classification_report(labels, preds, target_names=target_names))"
   ]
  },
  {
   "cell_type": "markdown",
   "metadata": {},
   "source": [
    "NHP recall = specificity   \n",
    "HP recall = sensitivity"
   ]
  },
  {
   "cell_type": "code",
   "execution_count": 20,
   "metadata": {},
   "outputs": [],
   "source": [
    "balanced_preds = WSPC.predict(bacpacs_data_balanced)"
   ]
  },
  {
   "cell_type": "markdown",
   "metadata": {},
   "source": [
    "#### Balanced test"
   ]
  },
  {
   "cell_type": "code",
   "execution_count": 21,
   "metadata": {
    "scrolled": true
   },
   "outputs": [
    {
     "name": "stdout",
     "output_type": "stream",
     "text": [
      "              precision    recall  f1-score   support\n",
      "\n",
      "         NHP       1.00      0.87      0.93        15\n",
      "          HP       0.93      1.00      0.96        25\n",
      "\n",
      "    accuracy                           0.95        40\n",
      "   macro avg       0.96      0.93      0.95        40\n",
      "weighted avg       0.95      0.95      0.95        40\n",
      "\n"
     ]
    }
   ],
   "source": [
    "print(classification_report(balanced_labels, balanced_preds, target_names=target_names))"
   ]
  },
  {
   "cell_type": "markdown",
   "metadata": {},
   "source": [
    "# deepac model"
   ]
  },
  {
   "cell_type": "code",
   "execution_count": 22,
   "metadata": {},
   "outputs": [],
   "source": [
    "# pip install patool\n"
   ]
  },
  {
   "cell_type": "code",
   "execution_count": 23,
   "metadata": {},
   "outputs": [],
   "source": [
    "import patoolib\n"
   ]
  },
  {
   "cell_type": "code",
   "execution_count": 28,
   "metadata": {},
   "outputs": [],
   "source": [
    "results_zip_path = r'..\\..\\Data\\Bacpacs\\deepac_on_bacpacsTest.rar'\n",
    "outdir =  r'..\\..\\Data\\Bacpacs\\\\'\n",
    "deepac_on_bacpacs_dir_path = r'..\\..\\Data\\Bacpacs\\deepac_on_bacpacsTest\\\\'"
   ]
  },
  {
   "cell_type": "code",
   "execution_count": 25,
   "metadata": {},
   "outputs": [
    {
     "name": "stdout",
     "output_type": "stream",
     "text": [
      "patool: Extracting ..\\..\\Data\\Bacpacs\\deepac_on_bacpacsTest.rar ...\n",
      "patool: running \"C:\\Program Files\\WinRAR\\rar.EXE\" x -- C:\\Users\\Shaked\\Desktop\\wspc_rep_git_18.2\\wspc_rep\\Data\\Bacpacs\\deepac_on_bacpacsTest.rar\n",
      "patool:     with cwd=..\\..\\Data\\Bacpacs\\\\\n",
      "patool: ... ..\\..\\Data\\Bacpacs\\deepac_on_bacpacsTest.rar extracted to `..\\..\\Data\\Bacpacs\\\\'.\n"
     ]
    },
    {
     "data": {
      "text/plain": [
       "'..\\\\..\\\\Data\\\\Bacpacs\\\\\\\\'"
      ]
     },
     "execution_count": 25,
     "metadata": {},
     "output_type": "execute_result"
    }
   ],
   "source": [
    "patoolib.extract_archive(results_zip_path, outdir=outdir)"
   ]
  },
  {
   "cell_type": "code",
   "execution_count": 29,
   "metadata": {},
   "outputs": [],
   "source": [
    "# create  dictionary: key - genome name, value - dictionary(key:frag name, val: prediction)\n",
    "def create_all_preds_per_genome(seqFile):\n",
    "    all_p_per_genome_patho_test = {}\n",
    "    for fasta in seqFile:\n",
    "        name_and_p = fasta.description\n",
    "        genome_name = name_and_p.split('pathogenic/')[1].split('.fq')[0]\n",
    "        frag =  name_and_p.split('.fq.')[1].split(' | ')[0]\n",
    "        all_p_per_genome_patho_test.setdefault(genome_name, {})\n",
    "        all_p_per_genome_patho_test[genome_name][frag] = float(name_and_p.split('pp=')[1]) \n",
    "\n",
    "    print(f'results len: {len(all_p_per_genome_patho_test)}')          \n",
    "    return all_p_per_genome_patho_test"
   ]
  },
  {
   "cell_type": "code",
   "execution_count": 30,
   "metadata": {},
   "outputs": [],
   "source": [
    "\n",
    "\"\"\"\n",
    " 1. \"One of the major challenges of pathogenic potential prediction from single\n",
    "reads is the lack of biological context. However, if all the reads in a sample\n",
    "originate from the exactly same organism, we can predict the pathogenic\n",
    "potential of that organism by a ---majority vote---. In the context of probabilistic\n",
    "estimates of the class label (returned by both PaPrBaG and our neural\n",
    "networks), we can implement that as a ---simple mean over predictions for\n",
    "all the individual reads---. For BLAST, we can just assign the label predicted\n",
    "for the majority of reads.\n",
    "Building upon this idea, we can boost read-based performance if\n",
    "we consider ***read pairs***, assumed to originate from the same organism\n",
    "even in metagenomic samples. To this end, ---we average predictions for\n",
    "the corresponding pairs in our test set---. The classifiers may still predict\n",
    "pathogenic potentials for isolated sequences if so desired. We can integrate\n",
    "binary predictions (e.g. returned by BLAST), taking into account the\n",
    "missing and conflicting predictions for some of the reads. We treat\n",
    "missing predictions as undefined values and implement the accept anything\n",
    "operator of ternary logic. It returns a positive label if and only if one of\n",
    "the input values is positive, and the other is not negative. Conversely, it\n",
    "returns a negative label if and only if one of the input values is negative,\n",
    "and the other is not positive. ---The result is undefined when both inputs are\n",
    "undefined, or in case of conflicting input values.---\n",
    "\"\"\"\n",
    "\n",
    "def calculate_final_genomes_predictions(test_preds_1, test_preds_2):\n",
    "    all_p_per_genome_test1 = create_all_preds_per_genome(test_preds_1)\n",
    "    all_p_per_genome_test2 = create_all_preds_per_genome(test_preds_2)\n",
    "    genomes_predictions = {}\n",
    "    for genome in all_p_per_genome_test1.keys():\n",
    "        all_frags1 = all_p_per_genome_test1[genome]\n",
    "        all_frags2 = all_p_per_genome_test2[genome]\n",
    "        if len((set(all_frags1) - set(all_frags2))) > 0:\n",
    "            print('Error')\n",
    "            return\n",
    "        all_preds = []\n",
    "        for frag_id in all_frags1.keys():\n",
    "            y_pred_1 = all_frags1[frag_id]\n",
    "            y_pred_2 = all_frags2[frag_id]\n",
    "            y_pred = (y_pred_1 + y_pred_2)/2\n",
    "            all_preds.append(y_pred)\n",
    "            \n",
    "        final_pred = statistics.mean(all_preds)\n",
    "        genomes_predictions[genome] = final_pred\n",
    "    \n",
    "    return genomes_predictions"
   ]
  },
  {
   "cell_type": "code",
   "execution_count": 31,
   "metadata": {},
   "outputs": [],
   "source": [
    "def get_deepac_predictions(test_genomes, test_labels, patho_genomes_predictions, nonpatho_genomes_predictions):\n",
    "    deepac_preds_df = pd.DataFrame(index=test_genomes, columns=['Label', 'deepac_pred'])\n",
    "    for genome_id in test_genomes:\n",
    "        deepac_preds_df.at[genome_id, 'Label'] = int(test_labels.at[genome_id])\n",
    "        if str(genome_id) in  patho_genomes_predictions.keys():\n",
    "            deepac_preds_df.at[genome_id, 'deepac_pred'] = round(patho_genomes_predictions[genome_id])\n",
    "            continue\n",
    "        elif str(genome_id) in  nonpatho_genomes_predictions.keys():\n",
    "            deepac_preds_df.at[genome_id, 'deepac_pred'] = round(nonpatho_genomes_predictions[genome_id])\n",
    "            continue\n",
    "        print(f'problem with genome: {genome_id}')\n",
    "\n",
    "    return deepac_preds_df"
   ]
  },
  {
   "cell_type": "markdown",
   "metadata": {},
   "source": [
    "## deepac s"
   ]
  },
  {
   "cell_type": "code",
   "execution_count": 32,
   "metadata": {},
   "outputs": [
    {
     "name": "stdout",
     "output_type": "stream",
     "text": [
      "results len: 60\n",
      "results len: 60\n"
     ]
    }
   ],
   "source": [
    "patho_test_1_preds_s = SeqIO.parse(open(deepac_on_bacpacs_dir_path + 'patho_bacpacs_test1_withp_s.fasta'),'fasta')\n",
    "patho_test_2_preds_s = SeqIO.parse(open(deepac_on_bacpacs_dir_path + 'patho_bacpacs_test2_withp_s.fasta'),'fasta')\n",
    "patho_genomes_predictions_s = calculate_final_genomes_predictions(patho_test_1_preds_s, patho_test_2_preds_s)"
   ]
  },
  {
   "cell_type": "code",
   "execution_count": 33,
   "metadata": {},
   "outputs": [
    {
     "name": "stdout",
     "output_type": "stream",
     "text": [
      "results len: 40\n",
      "results len: 40\n"
     ]
    }
   ],
   "source": [
    "nonpatho_test_1_preds_s = SeqIO.parse(open(deepac_on_bacpacs_dir_path + 'nonpatho_bacpacs_test1_withp_s.fasta'),'fasta')\n",
    "nonpatho_test_2_preds_s = SeqIO.parse(open(deepac_on_bacpacs_dir_path + 'nonpatho_bacpacs_test2_withp_s.fasta'),'fasta')\n",
    "nonpatho_genomes_predictions_s = calculate_final_genomes_predictions(nonpatho_test_1_preds_s, nonpatho_test_2_preds_s)"
   ]
  },
  {
   "cell_type": "code",
   "execution_count": 34,
   "metadata": {},
   "outputs": [],
   "source": [
    "deepac_s_preds_df = get_deepac_predictions(bacpacs_dataset.metadata.index, labels,\n",
    "                                                  patho_genomes_predictions_s, nonpatho_genomes_predictions_s)"
   ]
  },
  {
   "cell_type": "markdown",
   "metadata": {},
   "source": [
    "#### Balanced test"
   ]
  },
  {
   "cell_type": "code",
   "execution_count": 35,
   "metadata": {},
   "outputs": [],
   "source": [
    "deepac_s_balanced_preds_df = deepac_s_preds_df.loc[balanced_dataset_genomes]"
   ]
  },
  {
   "cell_type": "code",
   "execution_count": 36,
   "metadata": {
    "scrolled": true
   },
   "outputs": [
    {
     "name": "stdout",
     "output_type": "stream",
     "text": [
      "              precision    recall  f1-score   support\n",
      "\n",
      "         NHP       1.00      0.33      0.50        15\n",
      "          HP       0.71      1.00      0.83        25\n",
      "\n",
      "    accuracy                           0.75        40\n",
      "   macro avg       0.86      0.67      0.67        40\n",
      "weighted avg       0.82      0.75      0.71        40\n",
      "\n"
     ]
    }
   ],
   "source": [
    "print(classification_report(list(deepac_s_balanced_preds_df['Label']),\n",
    "                            list(deepac_s_balanced_preds_df['deepac_pred']), target_names=target_names))"
   ]
  },
  {
   "cell_type": "markdown",
   "metadata": {},
   "source": [
    "#### Entire test"
   ]
  },
  {
   "cell_type": "code",
   "execution_count": 37,
   "metadata": {
    "scrolled": true
   },
   "outputs": [
    {
     "name": "stdout",
     "output_type": "stream",
     "text": [
      "              precision    recall  f1-score   support\n",
      "\n",
      "         NHP       0.83      0.31      0.45        16\n",
      "          HP       0.88      0.99      0.93        78\n",
      "\n",
      "    accuracy                           0.87        94\n",
      "   macro avg       0.85      0.65      0.69        94\n",
      "weighted avg       0.87      0.87      0.85        94\n",
      "\n"
     ]
    }
   ],
   "source": [
    "print(classification_report(list(deepac_s_preds_df['Label']),\n",
    "                            list(deepac_s_preds_df['deepac_pred']), target_names=target_names))"
   ]
  },
  {
   "cell_type": "markdown",
   "metadata": {},
   "source": [
    "# DEEPAC R"
   ]
  },
  {
   "cell_type": "code",
   "execution_count": 38,
   "metadata": {},
   "outputs": [
    {
     "name": "stdout",
     "output_type": "stream",
     "text": [
      "results len: 60\n",
      "results len: 60\n"
     ]
    }
   ],
   "source": [
    "patho_test_1_preds_r = SeqIO.parse(open(deepac_on_bacpacs_dir_path + 'patho_bacpacs_test1_withp.fasta'),'fasta')\n",
    "patho_test_2_preds_r = SeqIO.parse(open(deepac_on_bacpacs_dir_path + 'patho_bacpacs_test2_withp.fasta'),'fasta')\n",
    "patho_genomes_predictions_r = calculate_final_genomes_predictions(patho_test_1_preds_r, patho_test_2_preds_r)"
   ]
  },
  {
   "cell_type": "code",
   "execution_count": 39,
   "metadata": {},
   "outputs": [
    {
     "name": "stdout",
     "output_type": "stream",
     "text": [
      "results len: 40\n",
      "results len: 40\n"
     ]
    }
   ],
   "source": [
    "nonpatho_test_1_preds_r = SeqIO.parse(open(deepac_on_bacpacs_dir_path + 'nonpatho_bacpacs_test1_withp.fasta'),'fasta')\n",
    "nonpatho_test_2_preds_r = SeqIO.parse(open(deepac_on_bacpacs_dir_path + 'nonpatho_bacpacs_test2_withp.fasta'),'fasta')\n",
    "nonpatho_genomes_predictions_r = calculate_final_genomes_predictions(nonpatho_test_1_preds_r, nonpatho_test_2_preds_r)"
   ]
  },
  {
   "cell_type": "code",
   "execution_count": 40,
   "metadata": {},
   "outputs": [],
   "source": [
    "deepac_r_preds_df = get_deepac_predictions(bacpacs_dataset.metadata.index, labels,\n",
    "                                                  patho_genomes_predictions_r, nonpatho_genomes_predictions_r)"
   ]
  },
  {
   "cell_type": "markdown",
   "metadata": {},
   "source": [
    "#### Balanced test"
   ]
  },
  {
   "cell_type": "code",
   "execution_count": 41,
   "metadata": {},
   "outputs": [],
   "source": [
    "deepac_r_balanced_preds_df = deepac_r_preds_df.loc[balanced_dataset_genomes]"
   ]
  },
  {
   "cell_type": "code",
   "execution_count": 42,
   "metadata": {},
   "outputs": [
    {
     "name": "stdout",
     "output_type": "stream",
     "text": [
      "              precision    recall  f1-score   support\n",
      "\n",
      "         NHP       1.00      0.33      0.50        15\n",
      "          HP       0.71      1.00      0.83        25\n",
      "\n",
      "    accuracy                           0.75        40\n",
      "   macro avg       0.86      0.67      0.67        40\n",
      "weighted avg       0.82      0.75      0.71        40\n",
      "\n"
     ]
    }
   ],
   "source": [
    "print(classification_report(list(deepac_r_balanced_preds_df['Label']),\n",
    "                            list(deepac_r_balanced_preds_df['deepac_pred']), target_names=target_names))"
   ]
  },
  {
   "cell_type": "markdown",
   "metadata": {},
   "source": [
    "#### Entire test"
   ]
  },
  {
   "cell_type": "code",
   "execution_count": 43,
   "metadata": {
    "scrolled": true
   },
   "outputs": [
    {
     "name": "stdout",
     "output_type": "stream",
     "text": [
      "              precision    recall  f1-score   support\n",
      "\n",
      "         NHP       0.83      0.31      0.45        16\n",
      "          HP       0.88      0.99      0.93        78\n",
      "\n",
      "    accuracy                           0.87        94\n",
      "   macro avg       0.85      0.65      0.69        94\n",
      "weighted avg       0.87      0.87      0.85        94\n",
      "\n"
     ]
    }
   ],
   "source": [
    "print(classification_report(list(deepac_r_preds_df['Label']),\n",
    "                            list(deepac_r_preds_df['deepac_pred']), target_names=target_names))"
   ]
  },
  {
   "cell_type": "markdown",
   "metadata": {},
   "source": [
    "# Analyzing Paprbag, pathogenfinder and bacpacs results from bacpacs supplemantry"
   ]
  },
  {
   "cell_type": "code",
   "execution_count": 44,
   "metadata": {},
   "outputs": [],
   "source": [
    "bacpacs_comp_analysis_sup = pd.read_csv(bacpacs_dir_path + 'Bacpacs-Supplementary.csv', dtype=str).set_index('Genome ID')\n",
    "bacpacs_comp_analysis_sup = bacpacs_comp_analysis_sup.replace(['hp'], 1)\n",
    "bacpacs_comp_analysis_sup = bacpacs_comp_analysis_sup.replace(['nhp'], 0)"
   ]
  },
  {
   "cell_type": "code",
   "execution_count": 45,
   "metadata": {},
   "outputs": [
    {
     "data": {
      "text/html": [
       "<div>\n",
       "<style scoped>\n",
       "    .dataframe tbody tr th:only-of-type {\n",
       "        vertical-align: middle;\n",
       "    }\n",
       "\n",
       "    .dataframe tbody tr th {\n",
       "        vertical-align: top;\n",
       "    }\n",
       "\n",
       "    .dataframe thead th {\n",
       "        text-align: right;\n",
       "    }\n",
       "</style>\n",
       "<table border=\"1\" class=\"dataframe\">\n",
       "  <thead>\n",
       "    <tr style=\"text-align: right;\">\n",
       "      <th></th>\n",
       "      <th>pathogenicity</th>\n",
       "      <th>bacpacs</th>\n",
       "      <th>pathogenfinder</th>\n",
       "      <th>paprbag_fold1</th>\n",
       "      <th>paprbag_fold2</th>\n",
       "      <th>paprbag_fold3</th>\n",
       "      <th>paprbag_fold4</th>\n",
       "      <th>paprbag_fold5</th>\n",
       "      <th>Genome Name</th>\n",
       "      <th>Organism Name</th>\n",
       "      <th>Isolation Source</th>\n",
       "      <th>Habitat</th>\n",
       "      <th>Disease</th>\n",
       "      <th>Host Health</th>\n",
       "      <th>Other Clinical</th>\n",
       "      <th>Comments</th>\n",
       "    </tr>\n",
       "    <tr>\n",
       "      <th>Genome ID</th>\n",
       "      <th></th>\n",
       "      <th></th>\n",
       "      <th></th>\n",
       "      <th></th>\n",
       "      <th></th>\n",
       "      <th></th>\n",
       "      <th></th>\n",
       "      <th></th>\n",
       "      <th></th>\n",
       "      <th></th>\n",
       "      <th></th>\n",
       "      <th></th>\n",
       "      <th></th>\n",
       "      <th></th>\n",
       "      <th></th>\n",
       "      <th></th>\n",
       "    </tr>\n",
       "  </thead>\n",
       "  <tbody>\n",
       "    <tr>\n",
       "      <th>1041522.28</th>\n",
       "      <td>1</td>\n",
       "      <td>1</td>\n",
       "      <td>1</td>\n",
       "      <td>1</td>\n",
       "      <td>1</td>\n",
       "      <td>1</td>\n",
       "      <td>1</td>\n",
       "      <td>1</td>\n",
       "      <td>Mycobacterium colombiense CECT 3035 strain CEC...</td>\n",
       "      <td>NaN</td>\n",
       "      <td>blood</td>\n",
       "      <td>NaN</td>\n",
       "      <td>NaN</td>\n",
       "      <td>HIV</td>\n",
       "      <td>NaN</td>\n",
       "      <td>M. colombiense infections were initially descr...</td>\n",
       "    </tr>\n",
       "    <tr>\n",
       "      <th>1196162.3</th>\n",
       "      <td>1</td>\n",
       "      <td>1</td>\n",
       "      <td>1</td>\n",
       "      <td>1</td>\n",
       "      <td>1</td>\n",
       "      <td>1</td>\n",
       "      <td>1</td>\n",
       "      <td>1</td>\n",
       "      <td>Listeria monocytogenes serotype 4b str. 10-080...</td>\n",
       "      <td>NaN</td>\n",
       "      <td>Stool</td>\n",
       "      <td>NaN</td>\n",
       "      <td>NaN</td>\n",
       "      <td>Listeriosis</td>\n",
       "      <td>NaN</td>\n",
       "      <td>Whole genome sequencing and comparison of List...</td>\n",
       "    </tr>\n",
       "    <tr>\n",
       "      <th>1196172.3</th>\n",
       "      <td>1</td>\n",
       "      <td>0</td>\n",
       "      <td>1</td>\n",
       "      <td>1</td>\n",
       "      <td>1</td>\n",
       "      <td>1</td>\n",
       "      <td>1</td>\n",
       "      <td>1</td>\n",
       "      <td>Listeria monocytogenes serotype 4b str. 02-128...</td>\n",
       "      <td>NaN</td>\n",
       "      <td>Stool</td>\n",
       "      <td>NaN</td>\n",
       "      <td>NaN</td>\n",
       "      <td>Listeriosis</td>\n",
       "      <td>NaN</td>\n",
       "      <td>Whole genome sequencing and comparison of List...</td>\n",
       "    </tr>\n",
       "    <tr>\n",
       "      <th>1280.11681</th>\n",
       "      <td>1</td>\n",
       "      <td>1</td>\n",
       "      <td>1</td>\n",
       "      <td>1</td>\n",
       "      <td>1</td>\n",
       "      <td>1</td>\n",
       "      <td>1</td>\n",
       "      <td>1</td>\n",
       "      <td>Staphylococcus aureus strain USA300-SUR15</td>\n",
       "      <td>NaN</td>\n",
       "      <td>Nose</td>\n",
       "      <td>NaN</td>\n",
       "      <td>NaN</td>\n",
       "      <td>NaN</td>\n",
       "      <td>NaN</td>\n",
       "      <td>The study characterizes a Staphylococcus aureu...</td>\n",
       "    </tr>\n",
       "    <tr>\n",
       "      <th>1280.12234</th>\n",
       "      <td>1</td>\n",
       "      <td>1</td>\n",
       "      <td>1</td>\n",
       "      <td>1</td>\n",
       "      <td>1</td>\n",
       "      <td>1</td>\n",
       "      <td>1</td>\n",
       "      <td>1</td>\n",
       "      <td>Staphylococcus aureus strain JE2</td>\n",
       "      <td>NaN</td>\n",
       "      <td>skin and soft tissue</td>\n",
       "      <td>NaN</td>\n",
       "      <td>NaN</td>\n",
       "      <td>Soft Tissue Infections</td>\n",
       "      <td>NaN</td>\n",
       "      <td>Sequence the genome of Staphylococcus aureus JE2</td>\n",
       "    </tr>\n",
       "  </tbody>\n",
       "</table>\n",
       "</div>"
      ],
      "text/plain": [
       "            pathogenicity  bacpacs  pathogenfinder  paprbag_fold1  \\\n",
       "Genome ID                                                           \n",
       "1041522.28              1        1               1              1   \n",
       "1196162.3               1        1               1              1   \n",
       "1196172.3               1        0               1              1   \n",
       "1280.11681              1        1               1              1   \n",
       "1280.12234              1        1               1              1   \n",
       "\n",
       "            paprbag_fold2  paprbag_fold3  paprbag_fold4  paprbag_fold5  \\\n",
       "Genome ID                                                                \n",
       "1041522.28              1              1              1              1   \n",
       "1196162.3               1              1              1              1   \n",
       "1196172.3               1              1              1              1   \n",
       "1280.11681              1              1              1              1   \n",
       "1280.12234              1              1              1              1   \n",
       "\n",
       "                                                  Genome Name  Organism Name  \\\n",
       "Genome ID                                                                      \n",
       "1041522.28  Mycobacterium colombiense CECT 3035 strain CEC...            NaN   \n",
       "1196162.3   Listeria monocytogenes serotype 4b str. 10-080...            NaN   \n",
       "1196172.3   Listeria monocytogenes serotype 4b str. 02-128...            NaN   \n",
       "1280.11681          Staphylococcus aureus strain USA300-SUR15            NaN   \n",
       "1280.12234                   Staphylococcus aureus strain JE2            NaN   \n",
       "\n",
       "                Isolation Source Habitat Disease             Host Health  \\\n",
       "Genome ID                                                                  \n",
       "1041522.28                 blood     NaN     NaN                     HIV   \n",
       "1196162.3                  Stool     NaN     NaN             Listeriosis   \n",
       "1196172.3                  Stool     NaN     NaN             Listeriosis   \n",
       "1280.11681                  Nose     NaN     NaN                     NaN   \n",
       "1280.12234  skin and soft tissue     NaN     NaN  Soft Tissue Infections   \n",
       "\n",
       "           Other Clinical                                           Comments  \n",
       "Genome ID                                                                     \n",
       "1041522.28            NaN  M. colombiense infections were initially descr...  \n",
       "1196162.3             NaN  Whole genome sequencing and comparison of List...  \n",
       "1196172.3             NaN  Whole genome sequencing and comparison of List...  \n",
       "1280.11681            NaN  The study characterizes a Staphylococcus aureu...  \n",
       "1280.12234            NaN   Sequence the genome of Staphylococcus aureus JE2  "
      ]
     },
     "execution_count": 45,
     "metadata": {},
     "output_type": "execute_result"
    }
   ],
   "source": [
    "bacpacs_comp_analysis_sup.head()"
   ]
  },
  {
   "cell_type": "code",
   "execution_count": 46,
   "metadata": {},
   "outputs": [],
   "source": [
    "def find_preds_from_sup(genomes_list, sup_results_df ,method_name):\n",
    "    if method_name == 'paprbag':\n",
    "        paprbag_folds = ['paprbag_fold1', 'paprbag_fold2', 'paprbag_fold3', 'paprbag_fold4', 'paprbag_fold5']\n",
    "        method_preds_df = sup_results_df.loc[list(genomes_list)][paprbag_folds]\n",
    "    else:\n",
    "        method_preds_df = sup_results_df.loc[list(genomes_list)][[method_name]]\n",
    "    return method_preds_df"
   ]
  },
  {
   "cell_type": "markdown",
   "metadata": {},
   "source": [
    "# Bacpacs"
   ]
  },
  {
   "cell_type": "code",
   "execution_count": 47,
   "metadata": {},
   "outputs": [],
   "source": [
    "bacpacs_preds = find_preds_from_sup(balanced_dataset_genomes, bacpacs_comp_analysis_sup, 'bacpacs')"
   ]
  },
  {
   "cell_type": "code",
   "execution_count": 48,
   "metadata": {
    "scrolled": false
   },
   "outputs": [
    {
     "name": "stdout",
     "output_type": "stream",
     "text": [
      "              precision    recall  f1-score   support\n",
      "\n",
      "         NHP       0.73      0.73      0.73        15\n",
      "          HP       0.84      0.84      0.84        25\n",
      "\n",
      "    accuracy                           0.80        40\n",
      "   macro avg       0.79      0.79      0.79        40\n",
      "weighted avg       0.80      0.80      0.80        40\n",
      "\n"
     ]
    }
   ],
   "source": [
    "print(classification_report(balanced_labels, bacpacs_preds, target_names=target_names))"
   ]
  },
  {
   "cell_type": "markdown",
   "metadata": {},
   "source": [
    "# Pathogenfinder"
   ]
  },
  {
   "cell_type": "code",
   "execution_count": 49,
   "metadata": {},
   "outputs": [],
   "source": [
    "pathogenfinder_preds = find_preds_from_sup(balanced_dataset_genomes, bacpacs_comp_analysis_sup, 'pathogenfinder')"
   ]
  },
  {
   "cell_type": "code",
   "execution_count": 50,
   "metadata": {},
   "outputs": [
    {
     "name": "stdout",
     "output_type": "stream",
     "text": [
      "              precision    recall  f1-score   support\n",
      "\n",
      "         NHP       0.91      0.67      0.77        15\n",
      "          HP       0.83      0.96      0.89        25\n",
      "\n",
      "    accuracy                           0.85        40\n",
      "   macro avg       0.87      0.81      0.83        40\n",
      "weighted avg       0.86      0.85      0.84        40\n",
      "\n"
     ]
    }
   ],
   "source": [
    "print(classification_report(balanced_labels, pathogenfinder_preds, target_names=target_names))"
   ]
  },
  {
   "cell_type": "markdown",
   "metadata": {},
   "source": [
    "# Paprbag"
   ]
  },
  {
   "cell_type": "code",
   "execution_count": 51,
   "metadata": {},
   "outputs": [
    {
     "name": "stdout",
     "output_type": "stream",
     "text": [
      "paprbag_fold1:               precision    recall  f1-score   support\n",
      "\n",
      "         NHP       1.00      0.20      0.33        15\n",
      "          HP       0.68      1.00      0.81        25\n",
      "\n",
      "    accuracy                           0.70        40\n",
      "   macro avg       0.84      0.60      0.57        40\n",
      "weighted avg       0.80      0.70      0.63        40\n",
      "\n",
      "paprbag_fold2:               precision    recall  f1-score   support\n",
      "\n",
      "         NHP       1.00      0.20      0.33        15\n",
      "          HP       0.68      1.00      0.81        25\n",
      "\n",
      "    accuracy                           0.70        40\n",
      "   macro avg       0.84      0.60      0.57        40\n",
      "weighted avg       0.80      0.70      0.63        40\n",
      "\n",
      "paprbag_fold3:               precision    recall  f1-score   support\n",
      "\n",
      "         NHP       1.00      0.13      0.24        15\n",
      "          HP       0.66      1.00      0.79        25\n",
      "\n",
      "    accuracy                           0.68        40\n",
      "   macro avg       0.83      0.57      0.51        40\n",
      "weighted avg       0.79      0.68      0.58        40\n",
      "\n",
      "paprbag_fold4:               precision    recall  f1-score   support\n",
      "\n",
      "         NHP       1.00      0.20      0.33        15\n",
      "          HP       0.68      1.00      0.81        25\n",
      "\n",
      "    accuracy                           0.70        40\n",
      "   macro avg       0.84      0.60      0.57        40\n",
      "weighted avg       0.80      0.70      0.63        40\n",
      "\n",
      "paprbag_fold5:               precision    recall  f1-score   support\n",
      "\n",
      "         NHP       1.00      0.13      0.24        15\n",
      "          HP       0.66      1.00      0.79        25\n",
      "\n",
      "    accuracy                           0.68        40\n",
      "   macro avg       0.83      0.57      0.51        40\n",
      "weighted avg       0.79      0.68      0.58        40\n",
      "\n"
     ]
    }
   ],
   "source": [
    "paprbag_preds = find_preds_from_sup(balanced_dataset_genomes, bacpacs_comp_analysis_sup, 'paprbag')\n",
    "folds_results = []\n",
    "for fold in ['paprbag_fold1', 'paprbag_fold2', 'paprbag_fold3', 'paprbag_fold4', 'paprbag_fold5']:\n",
    "    fold_results = classification_report(balanced_labels, paprbag_preds[fold], target_names=target_names, output_dict=True)\n",
    "    print(f'{fold}: {classification_report(balanced_labels, paprbag_preds[fold], target_names=target_names)}')\n",
    "    folds_results.append(fold_results)"
   ]
  },
  {
   "cell_type": "code",
   "execution_count": 52,
   "metadata": {},
   "outputs": [
    {
     "name": "stdout",
     "output_type": "stream",
     "text": [
      "specificity: 0.17\n"
     ]
    }
   ],
   "source": [
    "specificity = np.mean([fold['NHP']['recall'] for fold in folds_results])\n",
    "print(f'specificity: {round(specificity,2)}')"
   ]
  },
  {
   "cell_type": "code",
   "execution_count": 53,
   "metadata": {},
   "outputs": [
    {
     "name": "stdout",
     "output_type": "stream",
     "text": [
      "sensitivity: 1.0\n"
     ]
    }
   ],
   "source": [
    "sensitivity = np.mean([fold['HP']['recall'] for fold in folds_results])\n",
    "print(f'sensitivity: {round(sensitivity, 2)}')"
   ]
  },
  {
   "cell_type": "code",
   "execution_count": null,
   "metadata": {},
   "outputs": [],
   "source": []
  }
 ],
 "metadata": {
  "kernelspec": {
   "display_name": "Python 3",
   "language": "python",
   "name": "python3"
  },
  "language_info": {
   "codemirror_mode": {
    "name": "ipython",
    "version": 3
   },
   "file_extension": ".py",
   "mimetype": "text/x-python",
   "name": "python",
   "nbconvert_exporter": "python",
   "pygments_lexer": "ipython3",
   "version": "3.6.10"
  }
 },
 "nbformat": 4,
 "nbformat_minor": 5
}
